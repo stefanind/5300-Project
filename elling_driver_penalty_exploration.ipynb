{
 "cells": [
  {
   "cell_type": "markdown",
   "metadata": {},
   "source": [
    "## Exploration of Effectiveness of Driver Penalties"
   ]
  },
  {
   "cell_type": "code",
   "execution_count": 98,
   "metadata": {},
   "outputs": [],
   "source": [
    "import numpy as np\n",
    "import pandas as pd\n",
    "import matplotlib.pyplot as plt\n",
    "import scipy.stats as stats\n",
    "import os"
   ]
  },
  {
   "cell_type": "code",
   "execution_count": 99,
   "metadata": {},
   "outputs": [],
   "source": [
    "# Read in the data, should usually work if data folder is in the same directory as the nb is in, but depends where nb is run from\n",
    "data_dir = os.path.join(os.path.abspath(os.getcwd()), 'data')\n",
    "penalty_file = 'penalty_file.csv'\n",
    "order_file = 'order_file.csv'\n",
    "order_df = pd.read_csv(os.path.join(data_dir, order_file))\n",
    "penalty_df = pd.read_csv(os.path.join(data_dir, penalty_file))"
   ]
  },
  {
   "cell_type": "code",
   "execution_count": 100,
   "metadata": {},
   "outputs": [
    {
     "data": {
      "text/html": [
       "<div>\n",
       "<style scoped>\n",
       "    .dataframe tbody tr th:only-of-type {\n",
       "        vertical-align: middle;\n",
       "    }\n",
       "\n",
       "    .dataframe tbody tr th {\n",
       "        vertical-align: top;\n",
       "    }\n",
       "\n",
       "    .dataframe thead th {\n",
       "        text-align: right;\n",
       "    }\n",
       "</style>\n",
       "<table border=\"1\" class=\"dataframe\">\n",
       "  <thead>\n",
       "    <tr style=\"text-align: right;\">\n",
       "      <th></th>\n",
       "      <th>order.id</th>\n",
       "      <th>driver.id</th>\n",
       "      <th>business.type</th>\n",
       "      <th>expected.profit</th>\n",
       "      <th>order.placed.time</th>\n",
       "      <th>delivery.completed.time</th>\n",
       "      <th>cancel.dummy</th>\n",
       "    </tr>\n",
       "  </thead>\n",
       "  <tbody>\n",
       "    <tr>\n",
       "      <th>0</th>\n",
       "      <td>KCMXI4HAfLCjgHFR2qA1Lg==</td>\n",
       "      <td>AKTYnqStIa+/suWRUAQ60g==</td>\n",
       "      <td>grocery</td>\n",
       "      <td>12.735685</td>\n",
       "      <td>2019-05-04 14:08:33.000 America/Los_Angeles</td>\n",
       "      <td>2019-05-04 14:22:34.000 America/Los_Angeles</td>\n",
       "      <td>0</td>\n",
       "    </tr>\n",
       "    <tr>\n",
       "      <th>1</th>\n",
       "      <td>ERylrc+OvEb4gm84MxYmWQ==</td>\n",
       "      <td>ARxb2lRoxbrEgQgDEJIr7Q==</td>\n",
       "      <td>grocery</td>\n",
       "      <td>71.802685</td>\n",
       "      <td>2019-05-03 15:26:37.000 America/Los_Angeles</td>\n",
       "      <td>NaN</td>\n",
       "      <td>1</td>\n",
       "    </tr>\n",
       "    <tr>\n",
       "      <th>2</th>\n",
       "      <td>FKVvDcTRe0O1TDpg6uzLgQ==</td>\n",
       "      <td>ARxb2lRoxbrEgQgDEJIr7Q==</td>\n",
       "      <td>grocery</td>\n",
       "      <td>8.856685</td>\n",
       "      <td>2019-05-10 19:26:29.000 America/Los_Angeles</td>\n",
       "      <td>2019-05-10 19:44:22.000 America/Los_Angeles</td>\n",
       "      <td>0</td>\n",
       "    </tr>\n",
       "    <tr>\n",
       "      <th>3</th>\n",
       "      <td>ELtwBfng4uSyXpBseav1Bg==</td>\n",
       "      <td>AeWaFFe6cKFmfTEnEr6QBQ==</td>\n",
       "      <td>grocery</td>\n",
       "      <td>15.102685</td>\n",
       "      <td>2019-05-10 23:39:07.000 America/Los_Angeles</td>\n",
       "      <td>2019-05-11 00:02:06.000 America/Los_Angeles</td>\n",
       "      <td>0</td>\n",
       "    </tr>\n",
       "    <tr>\n",
       "      <th>4</th>\n",
       "      <td>OmCaoDxSXwN3nJzg8Jwamw==</td>\n",
       "      <td>Au8G9PfP3KN3SUnTPO+mMQ==</td>\n",
       "      <td>grocery</td>\n",
       "      <td>18.063685</td>\n",
       "      <td>2019-05-08 13:52:08.000 America/Los_Angeles</td>\n",
       "      <td>2019-05-08 14:18:35.000 America/Los_Angeles</td>\n",
       "      <td>0</td>\n",
       "    </tr>\n",
       "  </tbody>\n",
       "</table>\n",
       "</div>"
      ],
      "text/plain": [
       "                   order.id                 driver.id business.type  \\\n",
       "0  KCMXI4HAfLCjgHFR2qA1Lg==  AKTYnqStIa+/suWRUAQ60g==       grocery   \n",
       "1  ERylrc+OvEb4gm84MxYmWQ==  ARxb2lRoxbrEgQgDEJIr7Q==       grocery   \n",
       "2  FKVvDcTRe0O1TDpg6uzLgQ==  ARxb2lRoxbrEgQgDEJIr7Q==       grocery   \n",
       "3  ELtwBfng4uSyXpBseav1Bg==  AeWaFFe6cKFmfTEnEr6QBQ==       grocery   \n",
       "4  OmCaoDxSXwN3nJzg8Jwamw==  Au8G9PfP3KN3SUnTPO+mMQ==       grocery   \n",
       "\n",
       "   expected.profit                            order.placed.time  \\\n",
       "0        12.735685  2019-05-04 14:08:33.000 America/Los_Angeles   \n",
       "1        71.802685  2019-05-03 15:26:37.000 America/Los_Angeles   \n",
       "2         8.856685  2019-05-10 19:26:29.000 America/Los_Angeles   \n",
       "3        15.102685  2019-05-10 23:39:07.000 America/Los_Angeles   \n",
       "4        18.063685  2019-05-08 13:52:08.000 America/Los_Angeles   \n",
       "\n",
       "                       delivery.completed.time  cancel.dummy  \n",
       "0  2019-05-04 14:22:34.000 America/Los_Angeles             0  \n",
       "1                                          NaN             1  \n",
       "2  2019-05-10 19:44:22.000 America/Los_Angeles             0  \n",
       "3  2019-05-11 00:02:06.000 America/Los_Angeles             0  \n",
       "4  2019-05-08 14:18:35.000 America/Los_Angeles             0  "
      ]
     },
     "execution_count": 100,
     "metadata": {},
     "output_type": "execute_result"
    }
   ],
   "source": [
    "order_df.head()"
   ]
  },
  {
   "cell_type": "code",
   "execution_count": 101,
   "metadata": {},
   "outputs": [
    {
     "data": {
      "text/html": [
       "<div>\n",
       "<style scoped>\n",
       "    .dataframe tbody tr th:only-of-type {\n",
       "        vertical-align: middle;\n",
       "    }\n",
       "\n",
       "    .dataframe tbody tr th {\n",
       "        vertical-align: top;\n",
       "    }\n",
       "\n",
       "    .dataframe thead th {\n",
       "        text-align: right;\n",
       "    }\n",
       "</style>\n",
       "<table border=\"1\" class=\"dataframe\">\n",
       "  <thead>\n",
       "    <tr style=\"text-align: right;\">\n",
       "      <th></th>\n",
       "      <th>order.id</th>\n",
       "      <th>driver.id</th>\n",
       "      <th>business.type</th>\n",
       "      <th>expected.profit</th>\n",
       "      <th>order.placed.time</th>\n",
       "      <th>delivery.completed.time</th>\n",
       "      <th>timezone</th>\n",
       "      <th>cancel.dummy</th>\n",
       "    </tr>\n",
       "  </thead>\n",
       "  <tbody>\n",
       "    <tr>\n",
       "      <th>0</th>\n",
       "      <td>KCMXI4HAfLCjgHFR2qA1Lg==</td>\n",
       "      <td>AKTYnqStIa+/suWRUAQ60g==</td>\n",
       "      <td>grocery</td>\n",
       "      <td>12.735685</td>\n",
       "      <td>2019-05-04 14:08:33</td>\n",
       "      <td>2019-05-04 14:22:34.000 America/Los_Angeles</td>\n",
       "      <td>America/Los_Angeles</td>\n",
       "      <td>0</td>\n",
       "    </tr>\n",
       "    <tr>\n",
       "      <th>1</th>\n",
       "      <td>ERylrc+OvEb4gm84MxYmWQ==</td>\n",
       "      <td>ARxb2lRoxbrEgQgDEJIr7Q==</td>\n",
       "      <td>grocery</td>\n",
       "      <td>71.802685</td>\n",
       "      <td>2019-05-03 15:26:37</td>\n",
       "      <td>NaN</td>\n",
       "      <td>America/Los_Angeles</td>\n",
       "      <td>1</td>\n",
       "    </tr>\n",
       "    <tr>\n",
       "      <th>2</th>\n",
       "      <td>FKVvDcTRe0O1TDpg6uzLgQ==</td>\n",
       "      <td>ARxb2lRoxbrEgQgDEJIr7Q==</td>\n",
       "      <td>grocery</td>\n",
       "      <td>8.856685</td>\n",
       "      <td>2019-05-10 19:26:29</td>\n",
       "      <td>2019-05-10 19:44:22.000 America/Los_Angeles</td>\n",
       "      <td>America/Los_Angeles</td>\n",
       "      <td>0</td>\n",
       "    </tr>\n",
       "    <tr>\n",
       "      <th>3</th>\n",
       "      <td>ELtwBfng4uSyXpBseav1Bg==</td>\n",
       "      <td>AeWaFFe6cKFmfTEnEr6QBQ==</td>\n",
       "      <td>grocery</td>\n",
       "      <td>15.102685</td>\n",
       "      <td>2019-05-10 23:39:07</td>\n",
       "      <td>2019-05-11 00:02:06.000 America/Los_Angeles</td>\n",
       "      <td>America/Los_Angeles</td>\n",
       "      <td>0</td>\n",
       "    </tr>\n",
       "    <tr>\n",
       "      <th>4</th>\n",
       "      <td>OmCaoDxSXwN3nJzg8Jwamw==</td>\n",
       "      <td>Au8G9PfP3KN3SUnTPO+mMQ==</td>\n",
       "      <td>grocery</td>\n",
       "      <td>18.063685</td>\n",
       "      <td>2019-05-08 13:52:08</td>\n",
       "      <td>2019-05-08 14:18:35.000 America/Los_Angeles</td>\n",
       "      <td>America/Los_Angeles</td>\n",
       "      <td>0</td>\n",
       "    </tr>\n",
       "  </tbody>\n",
       "</table>\n",
       "</div>"
      ],
      "text/plain": [
       "                   order.id                 driver.id business.type  \\\n",
       "0  KCMXI4HAfLCjgHFR2qA1Lg==  AKTYnqStIa+/suWRUAQ60g==       grocery   \n",
       "1  ERylrc+OvEb4gm84MxYmWQ==  ARxb2lRoxbrEgQgDEJIr7Q==       grocery   \n",
       "2  FKVvDcTRe0O1TDpg6uzLgQ==  ARxb2lRoxbrEgQgDEJIr7Q==       grocery   \n",
       "3  ELtwBfng4uSyXpBseav1Bg==  AeWaFFe6cKFmfTEnEr6QBQ==       grocery   \n",
       "4  OmCaoDxSXwN3nJzg8Jwamw==  Au8G9PfP3KN3SUnTPO+mMQ==       grocery   \n",
       "\n",
       "   expected.profit   order.placed.time  \\\n",
       "0        12.735685 2019-05-04 14:08:33   \n",
       "1        71.802685 2019-05-03 15:26:37   \n",
       "2         8.856685 2019-05-10 19:26:29   \n",
       "3        15.102685 2019-05-10 23:39:07   \n",
       "4        18.063685 2019-05-08 13:52:08   \n",
       "\n",
       "                       delivery.completed.time             timezone  \\\n",
       "0  2019-05-04 14:22:34.000 America/Los_Angeles  America/Los_Angeles   \n",
       "1                                          NaN  America/Los_Angeles   \n",
       "2  2019-05-10 19:44:22.000 America/Los_Angeles  America/Los_Angeles   \n",
       "3  2019-05-11 00:02:06.000 America/Los_Angeles  America/Los_Angeles   \n",
       "4  2019-05-08 14:18:35.000 America/Los_Angeles  America/Los_Angeles   \n",
       "\n",
       "   cancel.dummy  \n",
       "0             0  \n",
       "1             1  \n",
       "2             0  \n",
       "3             0  \n",
       "4             0  "
      ]
     },
     "execution_count": 101,
     "metadata": {},
     "output_type": "execute_result"
    }
   ],
   "source": [
    "# clean order times\n",
    "split_times = order_df['order.placed.time'].str.split(pat=r'\\s+', expand=True).rename(columns={0:'order.placed.date', 1:'order.placed.time', 2:'timezone'})\n",
    "order_df['order.placed.time'] = split_times['order.placed.date'] + ' ' + split_times['order.placed.time']\n",
    "order_df.insert(6, 'timezone', split_times['timezone'])\n",
    "order_df['order.placed.time'] = pd.to_datetime(order_df['order.placed.time'], format='ISO8601')\n",
    "order_df.head()"
   ]
  },
  {
   "cell_type": "code",
   "execution_count": 102,
   "metadata": {},
   "outputs": [
    {
     "data": {
      "text/html": [
       "<div>\n",
       "<style scoped>\n",
       "    .dataframe tbody tr th:only-of-type {\n",
       "        vertical-align: middle;\n",
       "    }\n",
       "\n",
       "    .dataframe tbody tr th {\n",
       "        vertical-align: top;\n",
       "    }\n",
       "\n",
       "    .dataframe thead th {\n",
       "        text-align: right;\n",
       "    }\n",
       "</style>\n",
       "<table border=\"1\" class=\"dataframe\">\n",
       "  <thead>\n",
       "    <tr style=\"text-align: right;\">\n",
       "      <th></th>\n",
       "      <th>order.id</th>\n",
       "      <th>driver.id</th>\n",
       "      <th>business.type</th>\n",
       "      <th>expected.profit</th>\n",
       "      <th>order.placed.time</th>\n",
       "      <th>delivery.completed.time</th>\n",
       "      <th>timezone</th>\n",
       "      <th>cancel.dummy</th>\n",
       "    </tr>\n",
       "  </thead>\n",
       "  <tbody>\n",
       "    <tr>\n",
       "      <th>0</th>\n",
       "      <td>KCMXI4HAfLCjgHFR2qA1Lg==</td>\n",
       "      <td>AKTYnqStIa+/suWRUAQ60g==</td>\n",
       "      <td>grocery</td>\n",
       "      <td>12.735685</td>\n",
       "      <td>2019-05-04 14:08:33</td>\n",
       "      <td>2019-05-04 14:22:34</td>\n",
       "      <td>America/Los_Angeles</td>\n",
       "      <td>0</td>\n",
       "    </tr>\n",
       "    <tr>\n",
       "      <th>1</th>\n",
       "      <td>ERylrc+OvEb4gm84MxYmWQ==</td>\n",
       "      <td>ARxb2lRoxbrEgQgDEJIr7Q==</td>\n",
       "      <td>grocery</td>\n",
       "      <td>71.802685</td>\n",
       "      <td>2019-05-03 15:26:37</td>\n",
       "      <td>NaT</td>\n",
       "      <td>America/Los_Angeles</td>\n",
       "      <td>1</td>\n",
       "    </tr>\n",
       "    <tr>\n",
       "      <th>2</th>\n",
       "      <td>FKVvDcTRe0O1TDpg6uzLgQ==</td>\n",
       "      <td>ARxb2lRoxbrEgQgDEJIr7Q==</td>\n",
       "      <td>grocery</td>\n",
       "      <td>8.856685</td>\n",
       "      <td>2019-05-10 19:26:29</td>\n",
       "      <td>2019-05-10 19:44:22</td>\n",
       "      <td>America/Los_Angeles</td>\n",
       "      <td>0</td>\n",
       "    </tr>\n",
       "    <tr>\n",
       "      <th>3</th>\n",
       "      <td>ELtwBfng4uSyXpBseav1Bg==</td>\n",
       "      <td>AeWaFFe6cKFmfTEnEr6QBQ==</td>\n",
       "      <td>grocery</td>\n",
       "      <td>15.102685</td>\n",
       "      <td>2019-05-10 23:39:07</td>\n",
       "      <td>2019-05-11 00:02:06</td>\n",
       "      <td>America/Los_Angeles</td>\n",
       "      <td>0</td>\n",
       "    </tr>\n",
       "    <tr>\n",
       "      <th>4</th>\n",
       "      <td>OmCaoDxSXwN3nJzg8Jwamw==</td>\n",
       "      <td>Au8G9PfP3KN3SUnTPO+mMQ==</td>\n",
       "      <td>grocery</td>\n",
       "      <td>18.063685</td>\n",
       "      <td>2019-05-08 13:52:08</td>\n",
       "      <td>2019-05-08 14:18:35</td>\n",
       "      <td>America/Los_Angeles</td>\n",
       "      <td>0</td>\n",
       "    </tr>\n",
       "  </tbody>\n",
       "</table>\n",
       "</div>"
      ],
      "text/plain": [
       "                   order.id                 driver.id business.type  \\\n",
       "0  KCMXI4HAfLCjgHFR2qA1Lg==  AKTYnqStIa+/suWRUAQ60g==       grocery   \n",
       "1  ERylrc+OvEb4gm84MxYmWQ==  ARxb2lRoxbrEgQgDEJIr7Q==       grocery   \n",
       "2  FKVvDcTRe0O1TDpg6uzLgQ==  ARxb2lRoxbrEgQgDEJIr7Q==       grocery   \n",
       "3  ELtwBfng4uSyXpBseav1Bg==  AeWaFFe6cKFmfTEnEr6QBQ==       grocery   \n",
       "4  OmCaoDxSXwN3nJzg8Jwamw==  Au8G9PfP3KN3SUnTPO+mMQ==       grocery   \n",
       "\n",
       "   expected.profit   order.placed.time delivery.completed.time  \\\n",
       "0        12.735685 2019-05-04 14:08:33     2019-05-04 14:22:34   \n",
       "1        71.802685 2019-05-03 15:26:37                     NaT   \n",
       "2         8.856685 2019-05-10 19:26:29     2019-05-10 19:44:22   \n",
       "3        15.102685 2019-05-10 23:39:07     2019-05-11 00:02:06   \n",
       "4        18.063685 2019-05-08 13:52:08     2019-05-08 14:18:35   \n",
       "\n",
       "              timezone  cancel.dummy  \n",
       "0  America/Los_Angeles             0  \n",
       "1  America/Los_Angeles             1  \n",
       "2  America/Los_Angeles             0  \n",
       "3  America/Los_Angeles             0  \n",
       "4  America/Los_Angeles             0  "
      ]
     },
     "execution_count": 102,
     "metadata": {},
     "output_type": "execute_result"
    }
   ],
   "source": [
    "# clean up completion time\n",
    "split_times = order_df['delivery.completed.time'].str.split(pat=r'\\s+', expand=True).rename(columns={0:'delivery.completed.date', 1:'delivery.completed.time', 2:'timezone'})\n",
    "order_df['delivery.completed.time'] = split_times['delivery.completed.date'] + ' ' + split_times['delivery.completed.time']\n",
    "order_df['delivery.completed.time'] = pd.to_datetime(order_df['delivery.completed.time'], format='ISO8601', errors='coerce')\n",
    "order_df.head()"
   ]
  },
  {
   "cell_type": "code",
   "execution_count": 103,
   "metadata": {},
   "outputs": [
    {
     "data": {
      "text/html": [
       "<div>\n",
       "<style scoped>\n",
       "    .dataframe tbody tr th:only-of-type {\n",
       "        vertical-align: middle;\n",
       "    }\n",
       "\n",
       "    .dataframe tbody tr th {\n",
       "        vertical-align: top;\n",
       "    }\n",
       "\n",
       "    .dataframe thead th {\n",
       "        text-align: right;\n",
       "    }\n",
       "</style>\n",
       "<table border=\"1\" class=\"dataframe\">\n",
       "  <thead>\n",
       "    <tr style=\"text-align: right;\">\n",
       "      <th></th>\n",
       "      <th>expected.profit</th>\n",
       "      <th>order.placed.time</th>\n",
       "      <th>delivery.completed.time</th>\n",
       "      <th>cancel.dummy</th>\n",
       "    </tr>\n",
       "  </thead>\n",
       "  <tbody>\n",
       "    <tr>\n",
       "      <th>count</th>\n",
       "      <td>0.0</td>\n",
       "      <td>4977</td>\n",
       "      <td>4278</td>\n",
       "      <td>4977.000000</td>\n",
       "    </tr>\n",
       "    <tr>\n",
       "      <th>mean</th>\n",
       "      <td>NaN</td>\n",
       "      <td>2019-05-04 22:44:30.738798336</td>\n",
       "      <td>2019-05-04 19:24:19.564048640</td>\n",
       "      <td>0.138236</td>\n",
       "    </tr>\n",
       "    <tr>\n",
       "      <th>min</th>\n",
       "      <td>NaN</td>\n",
       "      <td>2019-04-14 17:00:06</td>\n",
       "      <td>2019-04-14 17:04:30</td>\n",
       "      <td>0.000000</td>\n",
       "    </tr>\n",
       "    <tr>\n",
       "      <th>25%</th>\n",
       "      <td>NaN</td>\n",
       "      <td>2019-04-24 15:10:35</td>\n",
       "      <td>2019-04-24 13:41:07</td>\n",
       "      <td>0.000000</td>\n",
       "    </tr>\n",
       "    <tr>\n",
       "      <th>50%</th>\n",
       "      <td>NaN</td>\n",
       "      <td>2019-05-03 20:34:08</td>\n",
       "      <td>2019-05-03 18:44:24</td>\n",
       "      <td>0.000000</td>\n",
       "    </tr>\n",
       "    <tr>\n",
       "      <th>75%</th>\n",
       "      <td>NaN</td>\n",
       "      <td>2019-05-15 15:00:20</td>\n",
       "      <td>2019-05-15 12:11:26</td>\n",
       "      <td>0.000000</td>\n",
       "    </tr>\n",
       "    <tr>\n",
       "      <th>max</th>\n",
       "      <td>NaN</td>\n",
       "      <td>2019-05-26 16:58:10</td>\n",
       "      <td>2019-05-26 17:13:14</td>\n",
       "      <td>1.000000</td>\n",
       "    </tr>\n",
       "    <tr>\n",
       "      <th>std</th>\n",
       "      <td>NaN</td>\n",
       "      <td>NaN</td>\n",
       "      <td>NaN</td>\n",
       "      <td>0.345182</td>\n",
       "    </tr>\n",
       "  </tbody>\n",
       "</table>\n",
       "</div>"
      ],
      "text/plain": [
       "       expected.profit              order.placed.time  \\\n",
       "count              0.0                           4977   \n",
       "mean               NaN  2019-05-04 22:44:30.738798336   \n",
       "min                NaN            2019-04-14 17:00:06   \n",
       "25%                NaN            2019-04-24 15:10:35   \n",
       "50%                NaN            2019-05-03 20:34:08   \n",
       "75%                NaN            2019-05-15 15:00:20   \n",
       "max                NaN            2019-05-26 16:58:10   \n",
       "std                NaN                            NaN   \n",
       "\n",
       "             delivery.completed.time  cancel.dummy  \n",
       "count                           4278   4977.000000  \n",
       "mean   2019-05-04 19:24:19.564048640      0.138236  \n",
       "min              2019-04-14 17:04:30      0.000000  \n",
       "25%              2019-04-24 13:41:07      0.000000  \n",
       "50%              2019-05-03 18:44:24      0.000000  \n",
       "75%              2019-05-15 12:11:26      0.000000  \n",
       "max              2019-05-26 17:13:14      1.000000  \n",
       "std                              NaN      0.345182  "
      ]
     },
     "execution_count": 103,
     "metadata": {},
     "output_type": "execute_result"
    }
   ],
   "source": [
    "# compare distributions of order placed times, delivery completed times, and average driver cancel rate between na profit and good profit\n",
    "bad_profit_data = order_df[order_df['expected.profit'].isna()]\n",
    "bad_profit_data.describe()"
   ]
  },
  {
   "cell_type": "code",
   "execution_count": 104,
   "metadata": {},
   "outputs": [
    {
     "data": {
      "text/html": [
       "<div>\n",
       "<style scoped>\n",
       "    .dataframe tbody tr th:only-of-type {\n",
       "        vertical-align: middle;\n",
       "    }\n",
       "\n",
       "    .dataframe tbody tr th {\n",
       "        vertical-align: top;\n",
       "    }\n",
       "\n",
       "    .dataframe thead th {\n",
       "        text-align: right;\n",
       "    }\n",
       "</style>\n",
       "<table border=\"1\" class=\"dataframe\">\n",
       "  <thead>\n",
       "    <tr style=\"text-align: right;\">\n",
       "      <th></th>\n",
       "      <th>expected.profit</th>\n",
       "      <th>order.placed.time</th>\n",
       "      <th>delivery.completed.time</th>\n",
       "      <th>cancel.dummy</th>\n",
       "    </tr>\n",
       "  </thead>\n",
       "  <tbody>\n",
       "    <tr>\n",
       "      <th>count</th>\n",
       "      <td>1.397335e+06</td>\n",
       "      <td>1402312</td>\n",
       "      <td>1193487</td>\n",
       "      <td>1.402312e+06</td>\n",
       "    </tr>\n",
       "    <tr>\n",
       "      <th>mean</th>\n",
       "      <td>1.447726e+01</td>\n",
       "      <td>2019-05-05 19:57:36.209538816</td>\n",
       "      <td>2019-05-05 19:32:44.455038976</td>\n",
       "      <td>1.476490e-01</td>\n",
       "    </tr>\n",
       "    <tr>\n",
       "      <th>min</th>\n",
       "      <td>4.293685e+00</td>\n",
       "      <td>2019-04-14 17:00:01</td>\n",
       "      <td>2019-04-14 17:04:30</td>\n",
       "      <td>0.000000e+00</td>\n",
       "    </tr>\n",
       "    <tr>\n",
       "      <th>25%</th>\n",
       "      <td>8.622685e+00</td>\n",
       "      <td>2019-04-25 11:41:49.750000128</td>\n",
       "      <td>2019-04-25 11:14:46</td>\n",
       "      <td>0.000000e+00</td>\n",
       "    </tr>\n",
       "    <tr>\n",
       "      <th>50%</th>\n",
       "      <td>1.123269e+01</td>\n",
       "      <td>2019-05-05 16:20:10.500000</td>\n",
       "      <td>2019-05-05 15:28:12</td>\n",
       "      <td>0.000000e+00</td>\n",
       "    </tr>\n",
       "    <tr>\n",
       "      <th>75%</th>\n",
       "      <td>1.606569e+01</td>\n",
       "      <td>2019-05-16 14:09:24.249999872</td>\n",
       "      <td>2019-05-16 13:45:04.500000</td>\n",
       "      <td>0.000000e+00</td>\n",
       "    </tr>\n",
       "    <tr>\n",
       "      <th>max</th>\n",
       "      <td>5.680897e+02</td>\n",
       "      <td>2019-05-26 16:59:56</td>\n",
       "      <td>2019-05-26 18:46:14</td>\n",
       "      <td>1.000000e+00</td>\n",
       "    </tr>\n",
       "    <tr>\n",
       "      <th>std</th>\n",
       "      <td>9.864602e+00</td>\n",
       "      <td>NaN</td>\n",
       "      <td>NaN</td>\n",
       "      <td>3.547519e-01</td>\n",
       "    </tr>\n",
       "  </tbody>\n",
       "</table>\n",
       "</div>"
      ],
      "text/plain": [
       "       expected.profit              order.placed.time  \\\n",
       "count     1.397335e+06                        1402312   \n",
       "mean      1.447726e+01  2019-05-05 19:57:36.209538816   \n",
       "min       4.293685e+00            2019-04-14 17:00:01   \n",
       "25%       8.622685e+00  2019-04-25 11:41:49.750000128   \n",
       "50%       1.123269e+01     2019-05-05 16:20:10.500000   \n",
       "75%       1.606569e+01  2019-05-16 14:09:24.249999872   \n",
       "max       5.680897e+02            2019-05-26 16:59:56   \n",
       "std       9.864602e+00                            NaN   \n",
       "\n",
       "             delivery.completed.time  cancel.dummy  \n",
       "count                        1193487  1.402312e+06  \n",
       "mean   2019-05-05 19:32:44.455038976  1.476490e-01  \n",
       "min              2019-04-14 17:04:30  0.000000e+00  \n",
       "25%              2019-04-25 11:14:46  0.000000e+00  \n",
       "50%              2019-05-05 15:28:12  0.000000e+00  \n",
       "75%       2019-05-16 13:45:04.500000  0.000000e+00  \n",
       "max              2019-05-26 18:46:14  1.000000e+00  \n",
       "std                              NaN  3.547519e-01  "
      ]
     },
     "execution_count": 104,
     "metadata": {},
     "output_type": "execute_result"
    }
   ],
   "source": [
    "order_df.describe()"
   ]
  },
  {
   "cell_type": "markdown",
   "metadata": {},
   "source": [
    "### Removing entries with bad expected values\n",
    "We may need further justification with welch t-test to compare time means, and z-test to compare cancellation rates, but it looks like the bad data is random enough to remove."
   ]
  },
  {
   "cell_type": "code",
   "execution_count": 105,
   "metadata": {},
   "outputs": [
    {
     "name": "stdout",
     "output_type": "stream",
     "text": [
      "<class 'pandas.core.frame.DataFrame'>\n",
      "Index: 1397335 entries, 0 to 1402311\n",
      "Data columns (total 8 columns):\n",
      " #   Column                   Non-Null Count    Dtype         \n",
      "---  ------                   --------------    -----         \n",
      " 0   order.id                 1397335 non-null  object        \n",
      " 1   driver.id                1397335 non-null  object        \n",
      " 2   business.type            1397335 non-null  object        \n",
      " 3   expected.profit          1397335 non-null  float64       \n",
      " 4   order.placed.time        1397335 non-null  datetime64[ns]\n",
      " 5   delivery.completed.time  1189209 non-null  datetime64[ns]\n",
      " 6   timezone                 1397335 non-null  object        \n",
      " 7   cancel.dummy             1397335 non-null  int64         \n",
      "dtypes: datetime64[ns](2), float64(1), int64(1), object(4)\n",
      "memory usage: 95.9+ MB\n"
     ]
    }
   ],
   "source": [
    "order_df.dropna(subset=['expected.profit'], inplace=True)\n",
    "order_df.info()"
   ]
  },
  {
   "cell_type": "code",
   "execution_count": 106,
   "metadata": {},
   "outputs": [
    {
     "data": {
      "text/html": [
       "<div>\n",
       "<style scoped>\n",
       "    .dataframe tbody tr th:only-of-type {\n",
       "        vertical-align: middle;\n",
       "    }\n",
       "\n",
       "    .dataframe tbody tr th {\n",
       "        vertical-align: top;\n",
       "    }\n",
       "\n",
       "    .dataframe thead th {\n",
       "        text-align: right;\n",
       "    }\n",
       "</style>\n",
       "<table border=\"1\" class=\"dataframe\">\n",
       "  <thead>\n",
       "    <tr style=\"text-align: right;\">\n",
       "      <th></th>\n",
       "      <th>order.id</th>\n",
       "      <th>driver.id</th>\n",
       "      <th>business.type</th>\n",
       "      <th>expected.profit</th>\n",
       "      <th>order.placed.time</th>\n",
       "      <th>delivery.completed.time</th>\n",
       "      <th>timezone</th>\n",
       "      <th>cancel.dummy</th>\n",
       "      <th>penalty.variant</th>\n",
       "    </tr>\n",
       "  </thead>\n",
       "  <tbody>\n",
       "    <tr>\n",
       "      <th>0</th>\n",
       "      <td>KCMXI4HAfLCjgHFR2qA1Lg==</td>\n",
       "      <td>AKTYnqStIa+/suWRUAQ60g==</td>\n",
       "      <td>grocery</td>\n",
       "      <td>12.735685</td>\n",
       "      <td>2019-05-04 14:08:33</td>\n",
       "      <td>2019-05-04 14:22:34</td>\n",
       "      <td>America/Los_Angeles</td>\n",
       "      <td>0</td>\n",
       "      <td>10</td>\n",
       "    </tr>\n",
       "    <tr>\n",
       "      <th>1</th>\n",
       "      <td>ERylrc+OvEb4gm84MxYmWQ==</td>\n",
       "      <td>ARxb2lRoxbrEgQgDEJIr7Q==</td>\n",
       "      <td>grocery</td>\n",
       "      <td>71.802685</td>\n",
       "      <td>2019-05-03 15:26:37</td>\n",
       "      <td>NaT</td>\n",
       "      <td>America/Los_Angeles</td>\n",
       "      <td>1</td>\n",
       "      <td>0</td>\n",
       "    </tr>\n",
       "    <tr>\n",
       "      <th>2</th>\n",
       "      <td>FKVvDcTRe0O1TDpg6uzLgQ==</td>\n",
       "      <td>ARxb2lRoxbrEgQgDEJIr7Q==</td>\n",
       "      <td>grocery</td>\n",
       "      <td>8.856685</td>\n",
       "      <td>2019-05-10 19:26:29</td>\n",
       "      <td>2019-05-10 19:44:22</td>\n",
       "      <td>America/Los_Angeles</td>\n",
       "      <td>0</td>\n",
       "      <td>0</td>\n",
       "    </tr>\n",
       "    <tr>\n",
       "      <th>3</th>\n",
       "      <td>ELtwBfng4uSyXpBseav1Bg==</td>\n",
       "      <td>AeWaFFe6cKFmfTEnEr6QBQ==</td>\n",
       "      <td>grocery</td>\n",
       "      <td>15.102685</td>\n",
       "      <td>2019-05-10 23:39:07</td>\n",
       "      <td>2019-05-11 00:02:06</td>\n",
       "      <td>America/Los_Angeles</td>\n",
       "      <td>0</td>\n",
       "      <td>0</td>\n",
       "    </tr>\n",
       "    <tr>\n",
       "      <th>4</th>\n",
       "      <td>OmCaoDxSXwN3nJzg8Jwamw==</td>\n",
       "      <td>Au8G9PfP3KN3SUnTPO+mMQ==</td>\n",
       "      <td>grocery</td>\n",
       "      <td>18.063685</td>\n",
       "      <td>2019-05-08 13:52:08</td>\n",
       "      <td>2019-05-08 14:18:35</td>\n",
       "      <td>America/Los_Angeles</td>\n",
       "      <td>0</td>\n",
       "      <td>0</td>\n",
       "    </tr>\n",
       "  </tbody>\n",
       "</table>\n",
       "</div>"
      ],
      "text/plain": [
       "                   order.id                 driver.id business.type  \\\n",
       "0  KCMXI4HAfLCjgHFR2qA1Lg==  AKTYnqStIa+/suWRUAQ60g==       grocery   \n",
       "1  ERylrc+OvEb4gm84MxYmWQ==  ARxb2lRoxbrEgQgDEJIr7Q==       grocery   \n",
       "2  FKVvDcTRe0O1TDpg6uzLgQ==  ARxb2lRoxbrEgQgDEJIr7Q==       grocery   \n",
       "3  ELtwBfng4uSyXpBseav1Bg==  AeWaFFe6cKFmfTEnEr6QBQ==       grocery   \n",
       "4  OmCaoDxSXwN3nJzg8Jwamw==  Au8G9PfP3KN3SUnTPO+mMQ==       grocery   \n",
       "\n",
       "   expected.profit   order.placed.time delivery.completed.time  \\\n",
       "0        12.735685 2019-05-04 14:08:33     2019-05-04 14:22:34   \n",
       "1        71.802685 2019-05-03 15:26:37                     NaT   \n",
       "2         8.856685 2019-05-10 19:26:29     2019-05-10 19:44:22   \n",
       "3        15.102685 2019-05-10 23:39:07     2019-05-11 00:02:06   \n",
       "4        18.063685 2019-05-08 13:52:08     2019-05-08 14:18:35   \n",
       "\n",
       "              timezone  cancel.dummy  penalty.variant  \n",
       "0  America/Los_Angeles             0               10  \n",
       "1  America/Los_Angeles             1                0  \n",
       "2  America/Los_Angeles             0                0  \n",
       "3  America/Los_Angeles             0                0  \n",
       "4  America/Los_Angeles             0                0  "
      ]
     },
     "execution_count": 106,
     "metadata": {},
     "output_type": "execute_result"
    }
   ],
   "source": [
    "# now to merge with the penalties dataframe\n",
    "order_df = order_df.merge(right=penalty_df, on='driver.id')\n",
    "order_df.head()"
   ]
  },
  {
   "cell_type": "code",
   "execution_count": 107,
   "metadata": {},
   "outputs": [
    {
     "data": {
      "text/html": [
       "<div>\n",
       "<style scoped>\n",
       "    .dataframe tbody tr th:only-of-type {\n",
       "        vertical-align: middle;\n",
       "    }\n",
       "\n",
       "    .dataframe tbody tr th {\n",
       "        vertical-align: top;\n",
       "    }\n",
       "\n",
       "    .dataframe thead th {\n",
       "        text-align: right;\n",
       "    }\n",
       "</style>\n",
       "<table border=\"1\" class=\"dataframe\">\n",
       "  <thead>\n",
       "    <tr style=\"text-align: right;\">\n",
       "      <th></th>\n",
       "      <th>order.id</th>\n",
       "      <th>driver.id</th>\n",
       "      <th>business.type</th>\n",
       "      <th>expected.profit</th>\n",
       "      <th>order.placed.time</th>\n",
       "      <th>delivery.completed.time</th>\n",
       "      <th>timezone</th>\n",
       "      <th>cancel.dummy</th>\n",
       "      <th>penalty.variant</th>\n",
       "      <th>revenue</th>\n",
       "    </tr>\n",
       "  </thead>\n",
       "  <tbody>\n",
       "    <tr>\n",
       "      <th>0</th>\n",
       "      <td>KCMXI4HAfLCjgHFR2qA1Lg==</td>\n",
       "      <td>AKTYnqStIa+/suWRUAQ60g==</td>\n",
       "      <td>grocery</td>\n",
       "      <td>12.735685</td>\n",
       "      <td>2019-05-04 14:08:33</td>\n",
       "      <td>2019-05-04 14:22:34</td>\n",
       "      <td>America/Los_Angeles</td>\n",
       "      <td>0</td>\n",
       "      <td>10</td>\n",
       "      <td>10.000000</td>\n",
       "    </tr>\n",
       "    <tr>\n",
       "      <th>1</th>\n",
       "      <td>ERylrc+OvEb4gm84MxYmWQ==</td>\n",
       "      <td>ARxb2lRoxbrEgQgDEJIr7Q==</td>\n",
       "      <td>grocery</td>\n",
       "      <td>71.802685</td>\n",
       "      <td>2019-05-03 15:26:37</td>\n",
       "      <td>NaT</td>\n",
       "      <td>America/Los_Angeles</td>\n",
       "      <td>1</td>\n",
       "      <td>0</td>\n",
       "      <td>71.802685</td>\n",
       "    </tr>\n",
       "    <tr>\n",
       "      <th>2</th>\n",
       "      <td>FKVvDcTRe0O1TDpg6uzLgQ==</td>\n",
       "      <td>ARxb2lRoxbrEgQgDEJIr7Q==</td>\n",
       "      <td>grocery</td>\n",
       "      <td>8.856685</td>\n",
       "      <td>2019-05-10 19:26:29</td>\n",
       "      <td>2019-05-10 19:44:22</td>\n",
       "      <td>America/Los_Angeles</td>\n",
       "      <td>0</td>\n",
       "      <td>0</td>\n",
       "      <td>0.000000</td>\n",
       "    </tr>\n",
       "    <tr>\n",
       "      <th>3</th>\n",
       "      <td>ELtwBfng4uSyXpBseav1Bg==</td>\n",
       "      <td>AeWaFFe6cKFmfTEnEr6QBQ==</td>\n",
       "      <td>grocery</td>\n",
       "      <td>15.102685</td>\n",
       "      <td>2019-05-10 23:39:07</td>\n",
       "      <td>2019-05-11 00:02:06</td>\n",
       "      <td>America/Los_Angeles</td>\n",
       "      <td>0</td>\n",
       "      <td>0</td>\n",
       "      <td>0.000000</td>\n",
       "    </tr>\n",
       "    <tr>\n",
       "      <th>4</th>\n",
       "      <td>OmCaoDxSXwN3nJzg8Jwamw==</td>\n",
       "      <td>Au8G9PfP3KN3SUnTPO+mMQ==</td>\n",
       "      <td>grocery</td>\n",
       "      <td>18.063685</td>\n",
       "      <td>2019-05-08 13:52:08</td>\n",
       "      <td>2019-05-08 14:18:35</td>\n",
       "      <td>America/Los_Angeles</td>\n",
       "      <td>0</td>\n",
       "      <td>0</td>\n",
       "      <td>0.000000</td>\n",
       "    </tr>\n",
       "  </tbody>\n",
       "</table>\n",
       "</div>"
      ],
      "text/plain": [
       "                   order.id                 driver.id business.type  \\\n",
       "0  KCMXI4HAfLCjgHFR2qA1Lg==  AKTYnqStIa+/suWRUAQ60g==       grocery   \n",
       "1  ERylrc+OvEb4gm84MxYmWQ==  ARxb2lRoxbrEgQgDEJIr7Q==       grocery   \n",
       "2  FKVvDcTRe0O1TDpg6uzLgQ==  ARxb2lRoxbrEgQgDEJIr7Q==       grocery   \n",
       "3  ELtwBfng4uSyXpBseav1Bg==  AeWaFFe6cKFmfTEnEr6QBQ==       grocery   \n",
       "4  OmCaoDxSXwN3nJzg8Jwamw==  Au8G9PfP3KN3SUnTPO+mMQ==       grocery   \n",
       "\n",
       "   expected.profit   order.placed.time delivery.completed.time  \\\n",
       "0        12.735685 2019-05-04 14:08:33     2019-05-04 14:22:34   \n",
       "1        71.802685 2019-05-03 15:26:37                     NaT   \n",
       "2         8.856685 2019-05-10 19:26:29     2019-05-10 19:44:22   \n",
       "3        15.102685 2019-05-10 23:39:07     2019-05-11 00:02:06   \n",
       "4        18.063685 2019-05-08 13:52:08     2019-05-08 14:18:35   \n",
       "\n",
       "              timezone  cancel.dummy  penalty.variant    revenue  \n",
       "0  America/Los_Angeles             0               10  10.000000  \n",
       "1  America/Los_Angeles             1                0  71.802685  \n",
       "2  America/Los_Angeles             0                0   0.000000  \n",
       "3  America/Los_Angeles             0                0   0.000000  \n",
       "4  America/Los_Angeles             0                0   0.000000  "
      ]
     },
     "execution_count": 107,
     "metadata": {},
     "output_type": "execute_result"
    }
   ],
   "source": [
    "# add a column for order revenue\n",
    "order_df['revenue'] = order_df['expected.profit']*(order_df['cancel.dummy']) + order_df['penalty.variant']*(1 - order_df['cancel.dummy'])\n",
    "order_df.head()"
   ]
  },
  {
   "cell_type": "markdown",
   "metadata": {},
   "source": [
    "### Comparing average driver cancellation rate between treatment groups with a 2-sample Welch's t-test, correcting overall false discovery rate\n",
    "We compute the metric of average driver cancellation rate as $cancellation = (1/m) \\sum r_i$, where $m$ in the number of drivers in the treatment group and $r_i$ is the cancellation rate for driver $i$, calculated as $r_i = (1/n_i)\\sum c_k$, where $n_i$ is the number of data points for driver $i$ and $c_k$ is whether the driver cancelled a given ride, with $1 \\leq k \\leq n_i$. The number of hypotheses being tested is three, and we will use Benjamini-Hochberg procedure setting the overall acceptable FDR at 5%."
   ]
  },
  {
   "cell_type": "code",
   "execution_count": 108,
   "metadata": {},
   "outputs": [
    {
     "data": {
      "text/html": [
       "<div>\n",
       "<style scoped>\n",
       "    .dataframe tbody tr th:only-of-type {\n",
       "        vertical-align: middle;\n",
       "    }\n",
       "\n",
       "    .dataframe tbody tr th {\n",
       "        vertical-align: top;\n",
       "    }\n",
       "\n",
       "    .dataframe thead th {\n",
       "        text-align: right;\n",
       "    }\n",
       "</style>\n",
       "<table border=\"1\" class=\"dataframe\">\n",
       "  <thead>\n",
       "    <tr style=\"text-align: right;\">\n",
       "      <th></th>\n",
       "      <th>driver.id</th>\n",
       "      <th>cancel.rate</th>\n",
       "      <th>penalty.variant</th>\n",
       "    </tr>\n",
       "  </thead>\n",
       "  <tbody>\n",
       "    <tr>\n",
       "      <th>0</th>\n",
       "      <td>+++3990cLNPGgaPm+ripGg==</td>\n",
       "      <td>0.000000</td>\n",
       "      <td>20</td>\n",
       "    </tr>\n",
       "    <tr>\n",
       "      <th>1</th>\n",
       "      <td>+++stf7DqWcT8LMTYbXrwA==</td>\n",
       "      <td>1.000000</td>\n",
       "      <td>20</td>\n",
       "    </tr>\n",
       "    <tr>\n",
       "      <th>2</th>\n",
       "      <td>++07zTPYFhvA5Ug72kRd0w==</td>\n",
       "      <td>0.000000</td>\n",
       "      <td>10</td>\n",
       "    </tr>\n",
       "    <tr>\n",
       "      <th>3</th>\n",
       "      <td>++08hetKFBNoOO5XHAH/5A==</td>\n",
       "      <td>0.454545</td>\n",
       "      <td>0</td>\n",
       "    </tr>\n",
       "    <tr>\n",
       "      <th>4</th>\n",
       "      <td>++0YwCvnfyMWSNH3wpyP1g==</td>\n",
       "      <td>0.000000</td>\n",
       "      <td>0</td>\n",
       "    </tr>\n",
       "  </tbody>\n",
       "</table>\n",
       "</div>"
      ],
      "text/plain": [
       "                  driver.id  cancel.rate  penalty.variant\n",
       "0  +++3990cLNPGgaPm+ripGg==     0.000000               20\n",
       "1  +++stf7DqWcT8LMTYbXrwA==     1.000000               20\n",
       "2  ++07zTPYFhvA5Ug72kRd0w==     0.000000               10\n",
       "3  ++08hetKFBNoOO5XHAH/5A==     0.454545                0\n",
       "4  ++0YwCvnfyMWSNH3wpyP1g==     0.000000                0"
      ]
     },
     "execution_count": 108,
     "metadata": {},
     "output_type": "execute_result"
    }
   ],
   "source": [
    "data_by_driver = order_df[['driver.id', 'cancel.dummy']].groupby('driver.id').mean().reset_index().merge(right=penalty_df, on='driver.id')\n",
    "data_by_driver.rename(columns={'cancel.dummy':'cancel.rate'}, inplace=True)\n",
    "data_by_driver.head()"
   ]
  },
  {
   "cell_type": "code",
   "execution_count": 109,
   "metadata": {},
   "outputs": [],
   "source": [
    "#seperate into penalty groups\n",
    "no_pen = data_by_driver[data_by_driver['penalty.variant'] == 0]['cancel.rate'].to_numpy()\n",
    "ten_pen = data_by_driver[data_by_driver['penalty.variant'] == 10]['cancel.rate'].to_numpy()\n",
    "twenty_pen = data_by_driver[data_by_driver['penalty.variant'] == 20]['cancel.rate'].to_numpy()"
   ]
  },
  {
   "cell_type": "markdown",
   "metadata": {},
   "source": [
    "### Testing no penalty vs penalty of ten\n",
    "\n",
    "Set $\\alpha = 0.05$ <br>\n",
    "Let $\\mu_0, \\mu_{10}$ denote the population means for the two treatment groups <br>\n",
    "Let $H_0: \\mu_0 = \\mu_{10}$, $H_a: \\mu_0 \\neq \\mu_{10}$ <br>\n",
    "Now we will conduct Welch's t-test to compare the means for the two groups, since the means are of continuous R.V.s (Mean of rates, not a rate itself) <br>\n",
    "Question: Are the driver's average cancellation rates independent? <br>\n",
    "Thoughts: Maybe not. If a few drivers cancel, then Fetch will potentially assign more orders to other drivers if customers decide to reorder, potentially increasing the cancellation rate of those drivers if it is more then they can handle. At the same time, it may be unlikely that customers will order again in a short period of time if their order has been cancelled."
   ]
  },
  {
   "cell_type": "code",
   "execution_count": 110,
   "metadata": {},
   "outputs": [
    {
     "name": "stdout",
     "output_type": "stream",
     "text": [
      "Test statistic: 27.332012094868375\n",
      "Degrees of freedom: 349408.51014105696\n",
      "P-value=2.6356283611931953e-164 is less than alpha=0.05? True\n"
     ]
    }
   ],
   "source": [
    "t_test = stats.ttest_ind(no_pen, ten_pen, equal_var=False)\n",
    "print(f'Test statistic: {t_test.statistic}')\n",
    "print(f'Degrees of freedom: {t_test.df}')\n",
    "print(f'P-value={t_test.pvalue} is less than alpha=0.05? {t_test.pvalue < 0.05}')"
   ]
  },
  {
   "cell_type": "markdown",
   "metadata": {},
   "source": [
    "Based on this test, we can reject $H_0$ and say that the mean driver cancellation rate varies between the no-penalty and the ten-penalty treatment groups."
   ]
  },
  {
   "cell_type": "markdown",
   "metadata": {},
   "source": [
    "### Testing penalty of ten vs penalty of twenty\n",
    "\n",
    "Set $\\alpha = 0.05$ <br>\n",
    "Let $\\mu_{10}$, $\\mu_{20}$ denote the population means of the two treatment groups <br>\n",
    "Let $H_0: \\mu_{10} = \\mu_{20}$, $H_a: \\mu_{10} \\neq \\mu_{20}$ <br>\n",
    "Now we conduct Welch's t-test"
   ]
  },
  {
   "cell_type": "code",
   "execution_count": 111,
   "metadata": {},
   "outputs": [
    {
     "name": "stdout",
     "output_type": "stream",
     "text": [
      "Test statistic: 58.940087894198065\n",
      "Degrees of freedom: 326824.45441211684\n",
      "P-value=0.0 is less than alpha=0.05? True\n"
     ]
    }
   ],
   "source": [
    "t_test = stats.ttest_ind(ten_pen, twenty_pen, equal_var=False)\n",
    "print(f'Test statistic: {t_test.statistic}')\n",
    "print(f'Degrees of freedom: {t_test.df}')\n",
    "print(f'P-value={t_test.pvalue} is less than alpha=0.05? {t_test.pvalue < 0.05}')"
   ]
  },
  {
   "cell_type": "markdown",
   "metadata": {},
   "source": [
    "Based on this test, we may reject $H_0$ and say that there is a difference in mean cancellation rate between treatment groups"
   ]
  },
  {
   "cell_type": "markdown",
   "metadata": {},
   "source": [
    "### Testing no penalty vs penalty of twenty\n",
    "\n",
    "Set $\\alpha = 0.05$ <br>\n",
    "Let $\\mu_0$, $\\mu_{20}$ denote the population means of the two treatment groups <br>\n",
    "Let $H_0: \\mu_0 = \\mu_{20}$, $H_a: \\mu_0 \\neq \\mu_{20}$ <br>\n",
    "Now we conduct Welch's t-test"
   ]
  },
  {
   "cell_type": "code",
   "execution_count": 112,
   "metadata": {},
   "outputs": [
    {
     "name": "stdout",
     "output_type": "stream",
     "text": [
      "Test statistic: 85.7241782045041\n",
      "Degrees of freedom: 310437.5455251773\n",
      "P-value=0.0 is less than alpha=0.05? True\n"
     ]
    }
   ],
   "source": [
    "t_test = stats.ttest_ind(no_pen, twenty_pen, equal_var=False)\n",
    "print(f'Test statistic: {t_test.statistic}')\n",
    "print(f'Degrees of freedom: {t_test.df}')\n",
    "print(f'P-value={t_test.pvalue} is less than alpha=0.05? {t_test.pvalue < 0.05}')"
   ]
  },
  {
   "cell_type": "markdown",
   "metadata": {},
   "source": [
    "Based on this test, we may reject $H_0$ and say that there is a difference in mean cancellation rate between the two treatment groups."
   ]
  },
  {
   "cell_type": "markdown",
   "metadata": {},
   "source": [
    "Exploration 1:<br>\n",
    "Idea: look at unique drivers from week to week in each group and in total\n",
    "Reason: I want to get at churn rate since the company cannot function if it loses its drivers. The best thing would be some sort of per driver model that compares rates of quitting over the time period. However, as the mean orders taken per driver id is just over two, making such a measure infeasible in this case. A better number in this case is unique drivers each week, which also gets at whether the employee side of the company is healthy."
   ]
  },
  {
   "cell_type": "code",
   "execution_count": 113,
   "metadata": {},
   "outputs": [
    {
     "data": {
      "text/plain": [
       "np.float64(0.8915257312638447)"
      ]
     },
     "execution_count": 113,
     "metadata": {},
     "output_type": "execute_result"
    }
   ],
   "source": [
    "order_df['driver.id'].value_counts().value_counts().head().sum() / len(order_df['driver.id'].unique()) # percent of drivers less than 5 orders"
   ]
  },
  {
   "cell_type": "code",
   "execution_count": 114,
   "metadata": {},
   "outputs": [
    {
     "data": {
      "text/plain": [
       "penalty.variant  weekofyear\n",
       "0                15             2942\n",
       "                 16            50975\n",
       "                 17            52175\n",
       "                 18            51162\n",
       "                 19            50038\n",
       "                 20            54648\n",
       "                 21            50390\n",
       "10               15             2965\n",
       "                 16            50960\n",
       "                 17            52487\n",
       "                 18            51222\n",
       "                 19            50177\n",
       "                 20            54437\n",
       "                 21            50442\n",
       "20               15             2914\n",
       "                 16            50603\n",
       "                 17            52126\n",
       "                 18            50958\n",
       "                 19            50015\n",
       "                 20            54457\n",
       "                 21            49666\n",
       "Name: driver.id, dtype: int64"
      ]
     },
     "execution_count": 114,
     "metadata": {},
     "output_type": "execute_result"
    }
   ],
   "source": [
    "order_df['weekofyear'] = (order_df['order.placed.time'].dt.day_of_year // 7) + 1\n",
    "order_df.groupby(['penalty.variant', 'weekofyear'])['driver.id'].nunique()"
   ]
  },
  {
   "cell_type": "markdown",
   "metadata": {},
   "source": [
    "### Compare requests per driver by treatment"
   ]
  },
  {
   "cell_type": "code",
   "execution_count": 136,
   "metadata": {},
   "outputs": [],
   "source": [
    "order_counts_by_driver = order_df.groupby(['penalty.variant', 'driver.id'])\n",
    "order_counts_by_driver = order_counts_by_driver['order.id'].count().reset_index()\n",
    "\n",
    "cnts_0 = order_counts_by_driver[order_counts_by_driver['penalty.variant'] == 0]['order.id'].to_numpy()\n",
    "cnts_10 = order_counts_by_driver[order_counts_by_driver['penalty.variant'] == 10]['order.id'].to_numpy()\n",
    "cnts_20 = order_counts_by_driver[order_counts_by_driver['penalty.variant'] == 20]['order.id'].to_numpy()"
   ]
  },
  {
   "cell_type": "code",
   "execution_count": 137,
   "metadata": {},
   "outputs": [
    {
     "name": "stdout",
     "output_type": "stream",
     "text": [
      "Testing cnt_0 <= cnt 10; t-stat = 0.15715432705212154; p-value = 0.4375616563066062; effect = 0.0016663656468240973\n",
      "Testing cnt_10 <= cnt_20; t-stat = 5.1483484940475375; p-value = 1.314656442165269e-07; effect = 0.052485575960916186\n",
      "Testing cnt_0 <= cnt_20; t-stat = 5.286048811511603; p-value = 6.253055163098415e-08; effect = 0.054151941607740284\n"
     ]
    }
   ],
   "source": [
    "# first use a regular multiple t-test to compare each treatment pair\n",
    "# Does each increase in penalty decrease the orders per driver? \n",
    "p_vals = np.array([np.nan, np.nan, np.nan])\n",
    "t_stats = np.array([np.nan, np.nan, np.nan])\n",
    "test_names = np.array(['cnt_0 <= cnt 10', 'cnt_10 <= cnt_20', 'cnt_0 <= cnt_20'])\n",
    "test_pairs = ((cnts_0, cnts_10), (cnts_10, cnts_20), (cnts_0, cnts_20))\n",
    "\n",
    "for i, (low_pen_cnts, high_pen_cnts) in enumerate(test_pairs):\n",
    "    t_stats[i], p_vals[i] = stats.ttest_ind(low_pen_cnts, high_pen_cnts, equal_var=False, alternative='greater')\n",
    "    print(f'Testing {test_names[i]}; t-stat = {t_stats[i]}; p-value = {p_vals[i]}; effect = {np.mean(low_pen_cnts) - np.mean(high_pen_cnts)}')"
   ]
  },
  {
   "cell_type": "code",
   "execution_count": null,
   "metadata": {},
   "outputs": [
    {
     "name": "stdout",
     "output_type": "stream",
     "text": [
      "Rejected null hypothesis 1 (cnt_10 <= cnt_20) with ASL=9.999000099990002e-05   Effect size: 0.0016663656468240973\n",
      "Rejected null hypothesis 2 (cnt_0 <= cnt_20) with ASL=9.999000099990002e-05   Effect size: 0.052485575960916186\n",
      "Failed to reject null hypothesis 3 (cnt_0 <= cnt 10) with ASL=0.44095590440955906 (effect size = 0.054151941607740284)\n"
     ]
    },
    {
     "data": {
      "image/png": "[encoded data removed]",
      "text/plain": [
       "<Figure size 1800x600 with 3 Axes>"
      ]
     },
     "metadata": {},
     "output_type": "display_data"
    }
   ],
   "source": [
    "from math import sqrt\n",
    "# perform bootstrap welchs t tests instead\n",
    "# This cell executes in ~10 minutes on my pc\n",
    "def getResampleStatisticsElementwise(_, pseudo_pop):\n",
    "    ''' \n",
    "    Compute a bootstrap sample then return the bootstrap sample mean and standard error\n",
    "    '''\n",
    "    resample = np.random.choice(pseudo_pop, size=len(pseudo_pop), replace=True)\n",
    "    return np.mean(resample), np.std(resample)\n",
    "\n",
    "getResampleStatistics = np.vectorize(getResampleStatisticsElementwise, excluded=(1,))\n",
    "\n",
    "def bootstrapTTestElementwise(x_boot_bar1, x_boot_bar2, std_boot1, std_boot2, x_bar1, x_bar2, n1, n2):\n",
    "    '''\n",
    "    Compute one bootstrap t-test statistic\n",
    "    Args:\n",
    "        x_boot_bar1 (float): Sample mean of the first bootstrap sample\n",
    "        x_boot_bar2 (float): Sample mean of the second bootstrap sample\n",
    "        std_boot1 (float): Standard Error of the first bootstrap sample\n",
    "        std_boot2 (float): Standard Error of the second bootstrap sample\n",
    "        x_bar1 (float): Sample mean of the first pseudopopulation\n",
    "        x_bar2 (float): Sample mean of the second pseudopopulation\n",
    "        n1 (int): Size of the first pseudopopulation\n",
    "        n2 (int): Size of the second pseudopopulation\n",
    "    Returns:\n",
    "        t-test statistic: A positive value means the first bootstrap sample mean is greater than the second\n",
    "    ''' \n",
    "    t_stat = x_boot_bar1 - x_boot_bar2 - (x_bar1 - x_bar2)\n",
    "    t_stat /= sqrt((std_boot1**2/n1) + (std_boot2**2/n2))\n",
    "    return t_stat\n",
    "\n",
    "bootstrapTTest = np.vectorize(bootstrapTTestElementwise, excluded=(4,5,6,7))\n",
    "\n",
    "test_names = np.array(['cnt_0 <= cnt 10', 'cnt_10 <= cnt_20', 'cnt_0 <= cnt_20'])\n",
    "test_pairs = ((cnts_0, cnts_10), (cnts_10, cnts_20), (cnts_0, cnts_20))\n",
    "\n",
    "# get bootstrap sample statistics without storing all bootstrap samples at once\n",
    "resample_size = 10000\n",
    "x_boot_bars = [{key:np.empty(shape=resample_size) for key in (0, 10, 20)} for _ in range(len(test_names))]\n",
    "x_boot_stds = [{key:np.empty(shape=resample_size) for key in (0, 10, 20)} for _ in range(len(test_names))]\n",
    "for i in range(len(test_names)):\n",
    "    for key, sample in ((0, cnts_0), (10, cnts_10), (20, cnts_20)):\n",
    "        resample_statistics = getResampleStatistics(np.empty(shape=resample_size), sample)\n",
    "        x_boot_bars[i][key] = resample_statistics[0]\n",
    "        x_boot_stds[i][key] = resample_statistics[1]\n",
    "\n",
    "# compute t_boots for each treatement pair and plot t_boot distributions\n",
    "fig, axs = plt.subplots(nrows=1, ncols=3, sharey=True, tight_layout=True, figsize=(18,6))\n",
    "t_boots = [np.empty(shape=resample_size) for _ in range(len(test_pairs))]\n",
    "boot_p_vals = np.empty(shape=len(test_pairs)) # 95% lower confidence bound\n",
    "for i, pair in enumerate(((0,10),(10,20),(0,20))):\n",
    "    ttest_actual = stats.ttest_ind(test_pairs[i][0], test_pairs[i][1], equal_var=False, alternative='greater')\n",
    "    x_bars = [np.mean(test_pairs[i][0]), np.mean(test_pairs[i][1])] #pseudopopulation means\n",
    "    t_boots[i] = bootstrapTTest(x_boot_bars[i][pair[0]], x_boot_bars[i][pair[1]], x_boot_stds[i][pair[0]], x_boot_stds[i][pair[1]], x_bars[0], x_bars[1], len(test_pairs[i][0]), len(test_pairs[i][1]))\n",
    "    # ASL = count differences at least as large as actual for one sided test with conservative correction that there is at least one sample (the original) as extreme\n",
    "    boot_p_vals[i] = (np.sum(t_boots[i] > ttest_actual.statistic) + 1) / (resample_size + 1)\n",
    "    # plot\n",
    "    axs[i].hist(t_boots[i], bins=30, edgecolor='black', density=True)\n",
    "    axs[i].set_title(f'\\\\${pair[0]} vs \\\\${pair[1]} Penalty (effect size = {x_bars[0] - x_bars[1]:.6f})')\n",
    "    axs[i].axvline(x=ttest_actual.statistic, color='coral', linestyle='--')\n",
    "    print(f'Testing {test_names[i]}; t-stat = {ttest_actual.statistic}; p-value = {boot_p_vals[i]}')\n",
    "\n",
    "caption = f'Bootstrap distributions of the t-test statistic for each of the treatment pairs with {resample_size} resamples. In each case, a right-tailed test will be used to test whether a larger penalty results in fewer orders per driver on average. Vertical lines indicate the observed test statistic.'\n",
    "fig.text(0.01, -0.05, caption, ha='left', va='top', wrap=True, fontsize=16)\n",
    "plt.subplots_adjust(bottom=0.2)\n",
    "axs[0].set_ylabel('Density')\n",
    "plt.show()"
   ]
  },
  {
   "cell_type": "markdown",
   "metadata": {},
   "source": [
    "### attempt to get a lower bound for the impact on requests per driver, and multiply by drivers*(revenue per request) to get an idea of the potential impact on revenue over the study period."
   ]
  },
  {
   "cell_type": "code",
   "execution_count": 118,
   "metadata": {},
   "outputs": [],
   "source": [
    "def welch_t_confidence_lower_bound(group1, group2, alpha=0.05):\n",
    "    mean1 = np.mean(group1)\n",
    "    mean2 = np.mean(group2)\n",
    "    var1 = np.var(group1, ddof=1)\n",
    "    var2 = np.var(group2, ddof=1)\n",
    "    n1 = len(group1)\n",
    "    n2 = len(group2)\n",
    "    mean_diff = mean1 - mean2\n",
    "    se_diff = np.sqrt(var1/n1 + var2/n2)\n",
    "    # Calculate the degrees of freedom\n",
    "    dof = (var1/n1 + var2/n2)**2 / ((var1**2/(n1**2 * (n1 - 1))) + (var2**2/(n2**2 * (n2 - 1))))\n",
    "    t_crit = stats.t.ppf(1 - alpha, df=dof)\n",
    "    lower_bound = mean_diff - t_crit * se_diff\n",
    "    return lower_bound"
   ]
  },
  {
   "cell_type": "code",
   "execution_count": 119,
   "metadata": {},
   "outputs": [
    {
     "name": "stdout",
     "output_type": "stream",
     "text": [
      "0.03730150072251485\n"
     ]
    },
    {
     "data": {
      "text/plain": [
       "np.float64(71672.49954244452)"
      ]
     },
     "execution_count": 119,
     "metadata": {},
     "output_type": "execute_result"
    }
   ],
   "source": [
    "# 95% confidence level\n",
    "alpha = 0.05\n",
    "\n",
    "# Calculate confidence lower bound for each pair\n",
    "lower_bound = welch_t_confidence_lower_bound(cnts_0, cnts_20, alpha)\n",
    "print(lower_bound)\n",
    "\n",
    "mean_rev_per_order = np.mean(order_df['revenue'])\n",
    "\n",
    "lost_rev_20_vs_0 = order_df[order_df['penalty.variant'] == 20]['driver.id'].nunique() * mean_rev_per_order * lower_bound\n",
    "\n",
    "lost_rev_20_vs_0"
   ]
  },
  {
   "cell_type": "markdown",
   "metadata": {},
   "source": [
    "### Compare completed orders per driver by treatment"
   ]
  },
  {
   "cell_type": "code",
   "execution_count": 147,
   "metadata": {},
   "outputs": [],
   "source": [
    "completed_by_driver = order_df[order_df['cancel.dummy'] == 0].groupby(['penalty.variant', 'driver.id'])\n",
    "completed_by_driver = completed_by_driver['order.id'].count().reset_index()\n",
    "\n",
    "cnts_0 = completed_by_driver[completed_by_driver['penalty.variant'] == 0]['order.id'].to_numpy()\n",
    "cnts_10 = completed_by_driver[completed_by_driver['penalty.variant'] == 10]['order.id'].to_numpy()\n",
    "cnts_20 = completed_by_driver[completed_by_driver['penalty.variant'] == 20]['order.id'].to_numpy()"
   ]
  },
  {
   "cell_type": "code",
   "execution_count": 148,
   "metadata": {},
   "outputs": [
    {
     "name": "stdout",
     "output_type": "stream",
     "text": [
      "Testing completed_0 <= completed_10; t-stat = -0.9163978581515198; p-value = 0.8202705136597778; effect = -0.009276727343702884\n",
      "Testing completed_10 <= completed_20; t-stat = 5.454482989990257; p-value = 2.4575827334496248e-08; effect = 0.05248700695160258\n",
      "Testing completed_0 <= completed_20; t-stat = 4.4483569072410925; p-value = 4.327973467269267e-06; effect = 0.04321027960789969\n"
     ]
    }
   ],
   "source": [
    "# first use a regular multiple t-test to compare each treatment pair\n",
    "# Does each increase in penalty decrease the orders per driver? \n",
    "p_vals = np.array([np.nan, np.nan, np.nan])\n",
    "t_stats = np.array([np.nan, np.nan, np.nan])\n",
    "test_names = np.array(['completed_0 <= completed_10', 'completed_10 <= completed_20', 'completed_0 <= completed_20'])\n",
    "test_pairs = ((cnts_0, cnts_10), (cnts_10, cnts_20), (cnts_0, cnts_20))\n",
    "\n",
    "for i, (low_pen_cnts, high_pen_cnts) in enumerate(test_pairs):\n",
    "    t_stats[i], p_vals[i] = stats.ttest_ind(low_pen_cnts, high_pen_cnts, equal_var=False, alternative='greater')\n",
    "    print(f'Testing {test_names[i]}; t-stat = {t_stats[i]}; p-value = {p_vals[i]}; effect = {np.mean(low_pen_cnts) - np.mean(high_pen_cnts)}')"
   ]
  },
  {
   "cell_type": "code",
   "execution_count": 149,
   "metadata": {},
   "outputs": [
    {
     "data": {
      "image/png": "[encoded data removed]",
      "text/plain": [
       "<Figure size 1200x600 with 3 Axes>"
      ]
     },
     "metadata": {},
     "output_type": "display_data"
    }
   ],
   "source": [
    "import seaborn as sns\n",
    "\n",
    "df = completed_by_driver.rename(columns={'order.id':'completed.count'})\n",
    "\n",
    "# Create side-by-side box plots for each pair of treatment groups\n",
    "plt.figure(figsize=(12, 6))\n",
    "\n",
    "plt.subplot(1, 3, 1)\n",
    "sns.boxplot(x='penalty.variant', y='completed.count', data=df[df['penalty.variant'].isin([0, 10])])\n",
    "plt.title('None vs $10 Penalty')\n",
    "plt.xlabel('Treatment')\n",
    "plt.gca().set_xticks(plt.gca().get_xticks())\n",
    "plt.gca().set_xticklabels(['Control', '$10'])\n",
    "plt.ylabel('Completed Requests per Driver')\n",
    "\n",
    "plt.subplot(1, 3, 2)\n",
    "sns.boxplot(x='penalty.variant', y='completed.count', data=df[df['penalty.variant'].isin([0, 20])])\n",
    "plt.title('None vs $20 Penalty')\n",
    "plt.xlabel('Treatment')\n",
    "plt.gca().set_xticks(plt.gca().get_xticks())\n",
    "plt.gca().set_xticklabels(['Control', '$20'])\n",
    "plt.ylabel('')\n",
    "\n",
    "plt.subplot(1, 3, 3)\n",
    "sns.boxplot(x='penalty.variant', y='completed.count', data=df[df['penalty.variant'].isin([10, 20])])\n",
    "plt.title('\\\\$10 vs \\\\$20 Penalty')\n",
    "plt.xlabel('Treatment')\n",
    "plt.gca().set_xticks(plt.gca().get_xticks())\n",
    "plt.gca().set_xticklabels(['$10', '$20'])\n",
    "plt.ylabel('')\n",
    "\n",
    "plt.tight_layout()\n",
    "plt.show()\n"
   ]
  },
  {
   "cell_type": "markdown",
   "metadata": {},
   "source": [
    "### Comparing Completed Requests per Driver for drivers with 5 or less completed requests"
   ]
  },
  {
   "cell_type": "code",
   "execution_count": 150,
   "metadata": {},
   "outputs": [
    {
     "name": "stdout",
     "output_type": "stream",
     "text": [
      "Proportion of drivers with at most 5 completed requests (control): 0.9026846078972983\n",
      "Proportion of drivers with at most 5 completed requests ($10 Penalty): 0.9014198834414575\n",
      "Proportion of drivers with at most 5 completed requests ($20 Penalty): 0.9036484867985913\n"
     ]
    }
   ],
   "source": [
    "print(f'Proportion of drivers with at most 5 completed requests (control): {np.sum(cnts_0 < 6) / len(cnts_0)}')\n",
    "print(f'Proportion of drivers with at most 5 completed requests ($10 Penalty): {np.sum(cnts_10 < 6) / len(cnts_10)}')\n",
    "print(f'Proportion of drivers with at most 5 completed requests ($20 Penalty): {np.sum(cnts_20 < 6) / len(cnts_20)}')\n",
    "cnts_0 = cnts_0[cnts_0 < 6].copy()\n",
    "cnts_10 = cnts_10[cnts_10 < 6].copy()\n",
    "cnts_20 = cnts_20[cnts_20 < 6].copy()"
   ]
  },
  {
   "cell_type": "code",
   "execution_count": 151,
   "metadata": {},
   "outputs": [
    {
     "name": "stdout",
     "output_type": "stream",
     "text": [
      "Testing completed_0 <= completed_10; t-stat = -0.19563920018664618; p-value = 0.577553640881641; effect = -0.0008175354006816349\n",
      "Testing completed_10 <= completed_20; t-stat = 1.603408024010835; p-value = 0.054422840105596164; effect = 0.006541018540370702\n",
      "Testing completed_0 <= completed_20; t-stat = 1.3916546615779206; p-value = 0.08201403979929894; effect = 0.005723483139689067\n"
     ]
    }
   ],
   "source": [
    "# first use a regular multiple t-test to compare each treatment pair\n",
    "# Does each increase in penalty decrease the orders per driver? \n",
    "p_vals = np.array([np.nan, np.nan, np.nan])\n",
    "t_stats = np.array([np.nan, np.nan, np.nan])\n",
    "test_names = np.array(['completed_0 <= completed_10', 'completed_10 <= completed_20', 'completed_0 <= completed_20'])\n",
    "test_pairs = ((cnts_0, cnts_10), (cnts_10, cnts_20), (cnts_0, cnts_20))\n",
    "\n",
    "for i, (low_pen_cnts, high_pen_cnts) in enumerate(test_pairs):\n",
    "    t_stats[i], p_vals[i] = stats.ttest_ind(low_pen_cnts, high_pen_cnts, equal_var=False, alternative='greater')\n",
    "    print(f'Testing {test_names[i]}; t-stat = {t_stats[i]}; p-value = {p_vals[i]}; effect = {np.mean(low_pen_cnts) - np.mean(high_pen_cnts)}')"
   ]
  },
  {
   "cell_type": "markdown",
   "metadata": {},
   "source": [
    "### Comparing individual results for grocery and restaurant segments for completed requests"
   ]
  },
  {
   "cell_type": "code",
   "execution_count": 123,
   "metadata": {},
   "outputs": [
    {
     "data": {
      "text/html": [
       "<div>\n",
       "<style scoped>\n",
       "    .dataframe tbody tr th:only-of-type {\n",
       "        vertical-align: middle;\n",
       "    }\n",
       "\n",
       "    .dataframe tbody tr th {\n",
       "        vertical-align: top;\n",
       "    }\n",
       "\n",
       "    .dataframe thead th {\n",
       "        text-align: right;\n",
       "    }\n",
       "</style>\n",
       "<table border=\"1\" class=\"dataframe\">\n",
       "  <thead>\n",
       "    <tr style=\"text-align: right;\">\n",
       "      <th></th>\n",
       "      <th>penalty.variant</th>\n",
       "      <th>driver.id</th>\n",
       "      <th>completed.count</th>\n",
       "    </tr>\n",
       "  </thead>\n",
       "  <tbody>\n",
       "    <tr>\n",
       "      <th>0</th>\n",
       "      <td>0</td>\n",
       "      <td>++08hetKFBNoOO5XHAH/5A==</td>\n",
       "      <td>5</td>\n",
       "    </tr>\n",
       "    <tr>\n",
       "      <th>1</th>\n",
       "      <td>0</td>\n",
       "      <td>++0YwCvnfyMWSNH3wpyP1g==</td>\n",
       "      <td>1</td>\n",
       "    </tr>\n",
       "    <tr>\n",
       "      <th>2</th>\n",
       "      <td>0</td>\n",
       "      <td>++35BW1R1Xxe9Rns/TtkCw==</td>\n",
       "      <td>1</td>\n",
       "    </tr>\n",
       "    <tr>\n",
       "      <th>3</th>\n",
       "      <td>0</td>\n",
       "      <td>++40TlM02/xdfTR8vXWHZQ==</td>\n",
       "      <td>3</td>\n",
       "    </tr>\n",
       "    <tr>\n",
       "      <th>4</th>\n",
       "      <td>0</td>\n",
       "      <td>++4T4lo25J4TG9rjjaLaRQ==</td>\n",
       "      <td>1</td>\n",
       "    </tr>\n",
       "  </tbody>\n",
       "</table>\n",
       "</div>"
      ],
      "text/plain": [
       "   penalty.variant                 driver.id  completed.count\n",
       "0                0  ++08hetKFBNoOO5XHAH/5A==                5\n",
       "1                0  ++0YwCvnfyMWSNH3wpyP1g==                1\n",
       "2                0  ++35BW1R1Xxe9Rns/TtkCw==                1\n",
       "3                0  ++40TlM02/xdfTR8vXWHZQ==                3\n",
       "4                0  ++4T4lo25J4TG9rjjaLaRQ==                1"
      ]
     },
     "execution_count": 123,
     "metadata": {},
     "output_type": "execute_result"
    }
   ],
   "source": [
    "#Grocery and restaurant data\n",
    "\n",
    "grocery_data = order_df[(order_df['business.type'] == 'grocery') & (order_df['cancel.dummy'] == 0)].groupby(['penalty.variant', 'driver.id'])\n",
    "grocery_data = grocery_data['order.id'].count().reset_index().rename(columns={'order.id':'completed.count'})\n",
    "restaurant_data = order_df[(order_df['business.type'] == 'restaurant') & (order_df['cancel.dummy'] == 0)].groupby(['penalty.variant', 'driver.id'])\n",
    "restaurant_data = restaurant_data['order.id'].count().reset_index().rename(columns={'order.id':'completed.count'})\n",
    "\n",
    "grocery_data.head()"
   ]
  },
  {
   "cell_type": "markdown",
   "metadata": {},
   "source": [
    "### Comparing completed requests by treatment group for the grocery segment"
   ]
  },
  {
   "cell_type": "code",
   "execution_count": 124,
   "metadata": {},
   "outputs": [
    {
     "name": "stdout",
     "output_type": "stream",
     "text": [
      "Testing completed_0 <= completed_10; t-stat = 0.8187249831937379; p-value = 0.2064720651114743\n",
      "Testing completed_10 <= completed_20; t-stat = 3.3177968568861465; p-value = 0.0004537150918746432\n",
      "Testing completed_0 <= completed_20; t-stat = 4.114820481543545; p-value = 1.938025492009426e-05\n"
     ]
    }
   ],
   "source": [
    "cnts_0 = grocery_data[grocery_data['penalty.variant'] == 0]['completed.count'].to_numpy()\n",
    "cnts_10 = grocery_data[grocery_data['penalty.variant'] == 10]['completed.count'].to_numpy()\n",
    "cnts_20 = grocery_data[grocery_data['penalty.variant'] == 20]['completed.count'].to_numpy()\n",
    "\n",
    "# t-test to compare each treatment pair\n",
    "# Does each increase in penalty decrease the orders per driver? \n",
    "p_vals = np.array([np.nan, np.nan, np.nan])\n",
    "t_stats = np.array([np.nan, np.nan, np.nan])\n",
    "test_names = np.array(['completed_0 <= completed_10', 'completed_10 <= completed_20', 'completed_0 <= completed_20'])\n",
    "test_pairs = ((cnts_0, cnts_10), (cnts_10, cnts_20), (cnts_0, cnts_20))\n",
    "\n",
    "for i, (low_pen_cnts, high_pen_cnts) in enumerate(test_pairs):\n",
    "    t_stats[i], p_vals[i] = stats.ttest_ind(low_pen_cnts, high_pen_cnts, equal_var=False, alternative='greater')\n",
    "    print(f'Testing {test_names[i]}; t-stat = {t_stats[i]}; p-value = {p_vals[i]}')"
   ]
  },
  {
   "cell_type": "markdown",
   "metadata": {},
   "source": [
    "### Comparing completed requests by treatment group for the restaurant segment"
   ]
  },
  {
   "cell_type": "code",
   "execution_count": 125,
   "metadata": {},
   "outputs": [
    {
     "name": "stdout",
     "output_type": "stream",
     "text": [
      "Testing completed_0 <= completed_10; t-stat = -2.2026538472393957; p-value = 0.9861893609493455\n",
      "Testing completed_10 <= completed_20; t-stat = 4.944383375423878; p-value = 3.824860798543879e-07\n",
      "Testing completed_0 <= completed_20; t-stat = 2.6398998951829364; p-value = 0.004147122013845506\n"
     ]
    }
   ],
   "source": [
    "cnts_0 = restaurant_data[restaurant_data['penalty.variant'] == 0]['completed.count'].to_numpy()\n",
    "cnts_10 = restaurant_data[restaurant_data['penalty.variant'] == 10]['completed.count'].to_numpy()\n",
    "cnts_20 = restaurant_data[restaurant_data['penalty.variant'] == 20]['completed.count'].to_numpy()\n",
    "\n",
    "# t-test to compare each treatment pair\n",
    "# Does each increase in penalty decrease the orders per driver? \n",
    "p_vals = np.array([np.nan, np.nan, np.nan])\n",
    "t_stats = np.array([np.nan, np.nan, np.nan])\n",
    "test_names = np.array(['completed_0 <= completed_10', 'completed_10 <= completed_20', 'completed_0 <= completed_20'])\n",
    "test_pairs = ((cnts_0, cnts_10), (cnts_10, cnts_20), (cnts_0, cnts_20))\n",
    "\n",
    "for i, (low_pen_cnts, high_pen_cnts) in enumerate(test_pairs):\n",
    "    t_stats[i], p_vals[i] = stats.ttest_ind(low_pen_cnts, high_pen_cnts, equal_var=False, alternative='greater')\n",
    "    print(f'Testing {test_names[i]}; t-stat = {t_stats[i]}; p-value = {p_vals[i]}')"
   ]
  },
  {
   "cell_type": "markdown",
   "metadata": {},
   "source": [
    "### Now compare the difference in mean completed requests per driver between business types for each treatment group"
   ]
  },
  {
   "cell_type": "code",
   "execution_count": 126,
   "metadata": {},
   "outputs": [
    {
     "name": "stdout",
     "output_type": "stream",
     "text": [
      "Testing grocery_0 = restauran_0; t-stat = -23.878571944582223; p-value = 1.2840469984047797e-125\n",
      "Testing grocery_10 = restaurant_10; t-stat = -27.27706193755702; p-value = 3.7355896859869915e-163\n",
      "Testing grocery_20 = restaurant_20; t-stat = -26.017151313066336; p-value = 1.0398991184387978e-148\n"
     ]
    }
   ],
   "source": [
    "groc_cnts_0 = grocery_data[grocery_data['penalty.variant'] == 0]['completed.count'].to_numpy()\n",
    "groc_cnts_10 = grocery_data[grocery_data['penalty.variant'] == 10]['completed.count'].to_numpy()\n",
    "groc_cnts_20 = grocery_data[grocery_data['penalty.variant'] == 20]['completed.count'].to_numpy()\n",
    "\n",
    "res_cnts_0 = restaurant_data[restaurant_data['penalty.variant'] == 0]['completed.count'].to_numpy()\n",
    "res_cnts_10 = restaurant_data[restaurant_data['penalty.variant'] == 10]['completed.count'].to_numpy()\n",
    "res_cnts_20 = restaurant_data[restaurant_data['penalty.variant'] == 20]['completed.count'].to_numpy()\n",
    "\n",
    "# t-test to compare each treatment pair\n",
    "# Does each increase in penalty decrease the orders per driver? \n",
    "p_vals = np.array([np.nan, np.nan, np.nan])\n",
    "t_stats = np.array([np.nan, np.nan, np.nan])\n",
    "test_names = np.array(['grocery_0 = restauran_0', 'grocery_10 = restaurant_10', 'grocery_20 = restaurant_20'])\n",
    "test_pairs = ((groc_cnts_0, res_cnts_0), (groc_cnts_10, res_cnts_10), (groc_cnts_20, res_cnts_20))\n",
    "\n",
    "for i, (groc_cnts, res_cnts) in enumerate(test_pairs):\n",
    "    t_stats[i], p_vals[i] = stats.ttest_ind(groc_cnts, res_cnts, equal_var=False)\n",
    "    print(f'Testing {test_names[i]}; t-stat = {t_stats[i]}; p-value = {p_vals[i]}')"
   ]
  },
  {
   "cell_type": "code",
   "execution_count": 127,
   "metadata": {},
   "outputs": [
    {
     "data": {
      "text/plain": [
       "business.type  penalty.variant\n",
       "grocery        0                  140901\n",
       "               10                 141153\n",
       "               20                 141201\n",
       "restaurant     0                   62345\n",
       "               10                  62202\n",
       "               20                  61873\n",
       "Name: driver.id, dtype: int64"
      ]
     },
     "execution_count": 127,
     "metadata": {},
     "output_type": "execute_result"
    }
   ],
   "source": [
    "count_my_stuff = order_df.groupby(['business.type', 'penalty.variant'])['driver.id'].nunique()\n",
    "count_my_stuff"
   ]
  },
  {
   "cell_type": "markdown",
   "metadata": {},
   "source": [
    "### Comparing requests per driver (completed or not) separated by business type"
   ]
  },
  {
   "cell_type": "code",
   "execution_count": 128,
   "metadata": {},
   "outputs": [],
   "source": [
    "grocery_data = order_df[order_df['business.type'] == 'grocery'].groupby(['penalty.variant', 'driver.id'])\n",
    "grocery_data = grocery_data['order.id'].count().reset_index().rename(columns={'order.id':'requests.count'})\n",
    "restaurant_data = order_df[order_df['business.type'] == 'restaurant'].groupby(['penalty.variant', 'driver.id'])\n",
    "restaurant_data = restaurant_data['order.id'].count().reset_index().rename(columns={'order.id':'requests.count'})"
   ]
  },
  {
   "cell_type": "code",
   "execution_count": 129,
   "metadata": {},
   "outputs": [
    {
     "name": "stdout",
     "output_type": "stream",
     "text": [
      "Testing completed_0 <= completed_10; t-stat = 1.430458241783907; p-value = 0.07629332527803952\n",
      "Testing completed_10 <= completed_20; t-stat = 3.2628705724488465; p-value = 0.0005515151118172813\n",
      "Testing completed_0 <= completed_20; t-stat = 4.717058642099588; p-value = 1.1969683804421495e-06\n"
     ]
    }
   ],
   "source": [
    "cnts_0 = grocery_data[grocery_data['penalty.variant'] == 0]['requests.count'].to_numpy()\n",
    "cnts_10 = grocery_data[grocery_data['penalty.variant'] == 10]['requests.count'].to_numpy()\n",
    "cnts_20 = grocery_data[grocery_data['penalty.variant'] == 20]['requests.count'].to_numpy()\n",
    "\n",
    "# t-test to compare each treatment pair\n",
    "# Does each increase in penalty decrease the orders per driver? \n",
    "p_vals = np.array([np.nan, np.nan, np.nan])\n",
    "t_stats = np.array([np.nan, np.nan, np.nan])\n",
    "test_names = np.array(['completed_0 <= completed_10', 'completed_10 <= completed_20', 'completed_0 <= completed_20'])\n",
    "test_pairs = ((cnts_0, cnts_10), (cnts_10, cnts_20), (cnts_0, cnts_20))\n",
    "\n",
    "for i, (low_pen_cnts, high_pen_cnts) in enumerate(test_pairs):\n",
    "    t_stats[i], p_vals[i] = stats.ttest_ind(low_pen_cnts, high_pen_cnts, equal_var=False, alternative='greater')\n",
    "    print(f'Testing {test_names[i]}; t-stat = {t_stats[i]}; p-value = {p_vals[i]}')"
   ]
  },
  {
   "cell_type": "code",
   "execution_count": 130,
   "metadata": {},
   "outputs": [
    {
     "name": "stdout",
     "output_type": "stream",
     "text": [
      "Testing requests_0 <= requests_10; t-stat = -1.1020143939311529; p-value = 0.8647712282143546\n",
      "Testing requests_10 <= requests_20; t-stat = 4.652450647245272; p-value = 1.6417673023817932e-06\n",
      "Testing requests_0 <= requests_20; t-stat = 3.490570594655311; p-value = 0.00024107930002916446\n"
     ]
    }
   ],
   "source": [
    "cnts_0 = restaurant_data[restaurant_data['penalty.variant'] == 0]['requests.count'].to_numpy()\n",
    "cnts_10 = restaurant_data[restaurant_data['penalty.variant'] == 10]['requests.count'].to_numpy()\n",
    "cnts_20 = restaurant_data[restaurant_data['penalty.variant'] == 20]['requests.count'].to_numpy()\n",
    "\n",
    "# t-test to compare each treatment pair\n",
    "# Does each increase in penalty decrease the orders per driver? \n",
    "p_vals = np.array([np.nan, np.nan, np.nan])\n",
    "t_stats = np.array([np.nan, np.nan, np.nan])\n",
    "test_names = np.array(['requests_0 <= requests_10', 'requests_10 <= requests_20', 'requests_0 <= requests_20'])\n",
    "test_pairs = ((cnts_0, cnts_10), (cnts_10, cnts_20), (cnts_0, cnts_20))\n",
    "\n",
    "for i, (low_pen_cnts, high_pen_cnts) in enumerate(test_pairs):\n",
    "    t_stats[i], p_vals[i] = stats.ttest_ind(low_pen_cnts, high_pen_cnts, equal_var=False, alternative='greater')\n",
    "    print(f'Testing {test_names[i]}; t-stat = {t_stats[i]}; p-value = {p_vals[i]}')"
   ]
  },
  {
   "cell_type": "code",
   "execution_count": 131,
   "metadata": {},
   "outputs": [
    {
     "name": "stdout",
     "output_type": "stream",
     "text": [
      "Testing grocery_0 = restaurant_0; t-stat = -29.310709667945037; p-value = 4.7249444560460376e-188\n",
      "Testing grocery_10 = restaurant_10; t-stat = -31.85795322990173; p-value = 1.331908563037064e-221\n",
      "Testing grocery_20 = restaurant_20; t-stat = -30.781049038038095; p-value = 4.2981648413177625e-207\n"
     ]
    }
   ],
   "source": [
    "groc_cnts_0 = grocery_data[grocery_data['penalty.variant'] == 0]['requests.count'].to_numpy()\n",
    "groc_cnts_10 = grocery_data[grocery_data['penalty.variant'] == 10]['requests.count'].to_numpy()\n",
    "groc_cnts_20 = grocery_data[grocery_data['penalty.variant'] == 20]['requests.count'].to_numpy()\n",
    "\n",
    "res_cnts_0 = restaurant_data[restaurant_data['penalty.variant'] == 0]['requests.count'].to_numpy()\n",
    "res_cnts_10 = restaurant_data[restaurant_data['penalty.variant'] == 10]['requests.count'].to_numpy()\n",
    "res_cnts_20 = restaurant_data[restaurant_data['penalty.variant'] == 20]['requests.count'].to_numpy()\n",
    "\n",
    "# t-test to compare each treatment pair\n",
    "# Does each increase in penalty decrease the orders per driver? \n",
    "p_vals = np.array([np.nan, np.nan, np.nan])\n",
    "t_stats = np.array([np.nan, np.nan, np.nan])\n",
    "test_names = np.array(['grocery_0 = restaurant_0', 'grocery_10 = restaurant_10', 'grocery_20 = restaurant_20'])\n",
    "test_pairs = ((groc_cnts_0, res_cnts_0), (groc_cnts_10, res_cnts_10), (groc_cnts_20, res_cnts_20))\n",
    "\n",
    "for i, (groc_cnts, res_cnts) in enumerate(test_pairs):\n",
    "    t_stats[i], p_vals[i] = stats.ttest_ind(groc_cnts, res_cnts, equal_var=False)\n",
    "    print(f'Testing {test_names[i]}; t-stat = {t_stats[i]}; p-value = {p_vals[i]}')"
   ]
  },
  {
   "cell_type": "markdown",
   "metadata": {},
   "source": [
    "### Checking mean negative profit impact per driver by treatment group"
   ]
  },
  {
   "cell_type": "code",
   "execution_count": 132,
   "metadata": {},
   "outputs": [
    {
     "data": {
      "text/html": [
       "<div>\n",
       "<style scoped>\n",
       "    .dataframe tbody tr th:only-of-type {\n",
       "        vertical-align: middle;\n",
       "    }\n",
       "\n",
       "    .dataframe tbody tr th {\n",
       "        vertical-align: top;\n",
       "    }\n",
       "\n",
       "    .dataframe thead th {\n",
       "        text-align: right;\n",
       "    }\n",
       "</style>\n",
       "<table border=\"1\" class=\"dataframe\">\n",
       "  <thead>\n",
       "    <tr style=\"text-align: right;\">\n",
       "      <th></th>\n",
       "      <th>penalty.variant</th>\n",
       "      <th>driver.id</th>\n",
       "      <th>lost.profit</th>\n",
       "    </tr>\n",
       "  </thead>\n",
       "  <tbody>\n",
       "    <tr>\n",
       "      <th>0</th>\n",
       "      <td>0</td>\n",
       "      <td>++08hetKFBNoOO5XHAH/5A==</td>\n",
       "      <td>56.649426</td>\n",
       "    </tr>\n",
       "    <tr>\n",
       "      <th>1</th>\n",
       "      <td>0</td>\n",
       "      <td>++0YwCvnfyMWSNH3wpyP1g==</td>\n",
       "      <td>0.000000</td>\n",
       "    </tr>\n",
       "    <tr>\n",
       "      <th>2</th>\n",
       "      <td>0</td>\n",
       "      <td>++35BW1R1Xxe9Rns/TtkCw==</td>\n",
       "      <td>0.000000</td>\n",
       "    </tr>\n",
       "    <tr>\n",
       "      <th>3</th>\n",
       "      <td>0</td>\n",
       "      <td>++40TlM02/xdfTR8vXWHZQ==</td>\n",
       "      <td>0.000000</td>\n",
       "    </tr>\n",
       "    <tr>\n",
       "      <th>4</th>\n",
       "      <td>0</td>\n",
       "      <td>++4T4lo25J4TG9rjjaLaRQ==</td>\n",
       "      <td>12.591685</td>\n",
       "    </tr>\n",
       "  </tbody>\n",
       "</table>\n",
       "</div>"
      ],
      "text/plain": [
       "   penalty.variant                 driver.id  lost.profit\n",
       "0                0  ++08hetKFBNoOO5XHAH/5A==    56.649426\n",
       "1                0  ++0YwCvnfyMWSNH3wpyP1g==     0.000000\n",
       "2                0  ++35BW1R1Xxe9Rns/TtkCw==     0.000000\n",
       "3                0  ++40TlM02/xdfTR8vXWHZQ==     0.000000\n",
       "4                0  ++4T4lo25J4TG9rjjaLaRQ==    12.591685"
      ]
     },
     "execution_count": 132,
     "metadata": {},
     "output_type": "execute_result"
    }
   ],
   "source": [
    "profit_impacts = order_df.copy()\n",
    "profit_impacts['lost.profit'] = (profit_impacts['expected.profit'] - profit_impacts['penalty.variant'])*(profit_impacts['cancel.dummy'] == 1)\n",
    "\n",
    "by_driver = profit_impacts.groupby(['penalty.variant', 'driver.id'])['lost.profit'].sum().reset_index()\n",
    "by_driver.head()"
   ]
  },
  {
   "cell_type": "code",
   "execution_count": 133,
   "metadata": {},
   "outputs": [
    {
     "name": "stdout",
     "output_type": "stream",
     "text": [
      "Testing lost_profits_0 <= lost_profits_10; t-stat = 164.23403809257488; p-value = 0.0\n",
      "Testing lost_profits_10 <= lost_profits_20; t-stat = 147.3041593174128; p-value = 0.0\n",
      "Testing lost_profits_0 <= lost_profits_20; t-stat = 274.9656543943263; p-value = 0.0\n"
     ]
    }
   ],
   "source": [
    "lost_profits_0 = profit_impacts[profit_impacts['penalty.variant'] == 0]['lost.profit'].to_numpy()\n",
    "lost_profits_10 = profit_impacts[profit_impacts['penalty.variant'] == 10]['lost.profit'].to_numpy()\n",
    "lost_profits_20 = profit_impacts[profit_impacts['penalty.variant'] == 20]['lost.profit'].to_numpy()\n",
    "\n",
    "# t-test to compare each treatment pair\n",
    "# Does each increase in penalty decrease the orders per driver? \n",
    "p_vals = np.array([np.nan, np.nan, np.nan])\n",
    "t_stats = np.array([np.nan, np.nan, np.nan])\n",
    "test_names = np.array(['lost_profits_0 <= lost_profits_10', 'lost_profits_10 <= lost_profits_20', 'lost_profits_0 <= lost_profits_20'])\n",
    "test_pairs = ((lost_profits_0, lost_profits_10), (lost_profits_10, lost_profits_20), (lost_profits_0, lost_profits_20))\n",
    "\n",
    "for i, (low_pen_impacts, high_pen_impacts) in enumerate(test_pairs):\n",
    "    t_stats[i], p_vals[i] = stats.ttest_ind(low_pen_impacts, high_pen_impacts, equal_var=False, alternative='greater')\n",
    "    print(f'Testing {test_names[i]}; t-stat = {t_stats[i]}; p-value = {p_vals[i]}')"
   ]
  }
 ],
 "metadata": {
  "kernelspec": {
   "display_name": "data_5300_project",
   "language": "python",
   "name": "python3"
  },
  "language_info": {
   "codemirror_mode": {
    "name": "ipython",
    "version": 3
   },
   "file_extension": ".py",
   "mimetype": "text/x-python",
   "name": "python",
   "nbconvert_exporter": "python",
   "pygments_lexer": "ipython3",
   "version": "3.12.7"
  }
 },
 "nbformat": 4,
 "nbformat_minor": 2
}
