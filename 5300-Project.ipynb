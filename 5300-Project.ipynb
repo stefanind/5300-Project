{
 "cells": [
  {
   "cell_type": "markdown",
   "id": "8b801b99-9d8e-41e3-b39f-3bc651d1bb79",
   "metadata": {},
   "source": [
    "### What is the business impact of imposing cancel fee?\n",
    "If drivers are penalized for cancelling even when they have legitimate reasons (e.g., unsafe delivery conditions, traffic accidents), it may lead to riskier situations or suboptimal deliveries. \n",
    "A conflict between cannot affording to pay the fee when the situation is risky\n",
    "Strict penalties can reduce flexibility and discourage some drivers from picking up orders they see as \"high-risk,\" such as those in difficult-to-reach locations or areas with heavy traffic. This could lead to longer delivery times or more unfilled orders in certain areas, impacting the overall efficiency."
   ]
  },
  {
   "cell_type": "code",
   "execution_count": 1,
   "id": "5753c6dd-08de-4d53-89db-745f942a6fbf",
   "metadata": {},
   "outputs": [],
   "source": [
    "import numpy as np\n",
    "from scipy import stats\n",
    "import pandas as pd\n",
    "from scipy.sparse import csr_matrix\n",
    "import scipy.sparse as sp"
   ]
  },
  {
   "cell_type": "code",
   "execution_count": 3,
   "id": "fcc791d8-318f-47da-aac7-90b50808e86e",
   "metadata": {},
   "outputs": [],
   "source": [
    "df1 = pd.read_csv(\"penalty_file (1).csv\")\n",
    "df2 = pd.read_csv(\"order_file.csv\")\n",
    "df = pd.merge(df1, df2, on='driver.id')"
   ]
  },
  {
   "cell_type": "code",
   "execution_count": 475,
   "id": "76e0a9a5-c02a-4658-b654-26429428600c",
   "metadata": {},
   "outputs": [],
   "source": [
    "nan_values = df[df['expected.profit'].isna() == True]"
   ]
  },
  {
   "cell_type": "markdown",
   "id": "b83a247f-5174-47ca-876b-8e003fed08df",
   "metadata": {},
   "source": [
    "1651, 1709, 1617\n",
    "These are the total amount of nan values found in expected profit for each penalty variant, from 0, 10, and 20, respectively. Since they are relatively equal, I will drop them."
   ]
  },
  {
   "cell_type": "code",
   "execution_count": 5,
   "id": "e176b59a-32a5-41e6-a1c9-dc982adf26bc",
   "metadata": {},
   "outputs": [],
   "source": [
    "df.dropna(subset=['expected.profit'], inplace=True)"
   ]
  },
  {
   "cell_type": "code",
   "execution_count": 7,
   "id": "61a8a06e-35c4-4ebe-bf7a-b4a985ecb269",
   "metadata": {},
   "outputs": [
    {
     "data": {
      "text/html": [
       "<div>\n",
       "<style scoped>\n",
       "    .dataframe tbody tr th:only-of-type {\n",
       "        vertical-align: middle;\n",
       "    }\n",
       "\n",
       "    .dataframe tbody tr th {\n",
       "        vertical-align: top;\n",
       "    }\n",
       "\n",
       "    .dataframe thead th {\n",
       "        text-align: right;\n",
       "    }\n",
       "</style>\n",
       "<table border=\"1\" class=\"dataframe\">\n",
       "  <thead>\n",
       "    <tr style=\"text-align: right;\">\n",
       "      <th></th>\n",
       "      <th>driver.id</th>\n",
       "      <th>penalty.variant</th>\n",
       "      <th>order.id</th>\n",
       "      <th>business.type</th>\n",
       "      <th>expected.profit</th>\n",
       "      <th>order.placed.time</th>\n",
       "      <th>delivery.completed.time</th>\n",
       "      <th>cancel.dummy</th>\n",
       "    </tr>\n",
       "  </thead>\n",
       "  <tbody>\n",
       "    <tr>\n",
       "      <th>0</th>\n",
       "      <td>+++3990cLNPGgaPm+ripGg==</td>\n",
       "      <td>20</td>\n",
       "      <td>I9+8q9h67J5XL7x+X2flrA==</td>\n",
       "      <td>grocery</td>\n",
       "      <td>33.318685</td>\n",
       "      <td>2019-05-24 22:14:29.000 America/Los_Angeles</td>\n",
       "      <td>2019-05-24 22:51:37.000 America/Los_Angeles</td>\n",
       "      <td>0</td>\n",
       "    </tr>\n",
       "    <tr>\n",
       "      <th>1</th>\n",
       "      <td>+++stf7DqWcT8LMTYbXrwA==</td>\n",
       "      <td>20</td>\n",
       "      <td>FcDOAnNo5aTeYKG1iTyxSA==</td>\n",
       "      <td>grocery</td>\n",
       "      <td>8.532685</td>\n",
       "      <td>2019-05-18 01:23:50.000 America/Los_Angeles</td>\n",
       "      <td>NaN</td>\n",
       "      <td>1</td>\n",
       "    </tr>\n",
       "    <tr>\n",
       "      <th>2</th>\n",
       "      <td>++07zTPYFhvA5Ug72kRd0w==</td>\n",
       "      <td>10</td>\n",
       "      <td>JwACfbilNJG1WIH5meqY/A==</td>\n",
       "      <td>restaurant</td>\n",
       "      <td>8.730685</td>\n",
       "      <td>2019-04-23 17:44:47.000 America/Los_Angeles</td>\n",
       "      <td>2019-04-23 18:13:37.000 America/Los_Angeles</td>\n",
       "      <td>0</td>\n",
       "    </tr>\n",
       "    <tr>\n",
       "      <th>3</th>\n",
       "      <td>++07zTPYFhvA5Ug72kRd0w==</td>\n",
       "      <td>10</td>\n",
       "      <td>MXUBhCnXvV4tiimvuSuP1g==</td>\n",
       "      <td>restaurant</td>\n",
       "      <td>8.460685</td>\n",
       "      <td>2019-05-20 15:04:52.000 America/Los_Angeles</td>\n",
       "      <td>2019-05-20 15:24:23.000 America/Los_Angeles</td>\n",
       "      <td>0</td>\n",
       "    </tr>\n",
       "    <tr>\n",
       "      <th>4</th>\n",
       "      <td>++08hetKFBNoOO5XHAH/5A==</td>\n",
       "      <td>0</td>\n",
       "      <td>LyL81zlkrtWgRju0jZgFpQ==</td>\n",
       "      <td>restaurant</td>\n",
       "      <td>12.600685</td>\n",
       "      <td>2019-04-16 17:45:01.000 America/Los_Angeles</td>\n",
       "      <td>2019-04-16 18:26:29.000 America/Los_Angeles</td>\n",
       "      <td>0</td>\n",
       "    </tr>\n",
       "    <tr>\n",
       "      <th>...</th>\n",
       "      <td>...</td>\n",
       "      <td>...</td>\n",
       "      <td>...</td>\n",
       "      <td>...</td>\n",
       "      <td>...</td>\n",
       "      <td>...</td>\n",
       "      <td>...</td>\n",
       "      <td>...</td>\n",
       "    </tr>\n",
       "    <tr>\n",
       "      <th>1402307</th>\n",
       "      <td>zzxOWVM+N+xVyaf4hMynwg==</td>\n",
       "      <td>0</td>\n",
       "      <td>GrrMgvBnOaA1ETEGPCCT0A==</td>\n",
       "      <td>restaurant</td>\n",
       "      <td>9.171685</td>\n",
       "      <td>2019-05-21 17:14:24.000 America/Los_Angeles</td>\n",
       "      <td>2019-05-21 17:45:50.000 America/Los_Angeles</td>\n",
       "      <td>0</td>\n",
       "    </tr>\n",
       "    <tr>\n",
       "      <th>1402308</th>\n",
       "      <td>zzxZU/e6hKC1DFRoPJFlKw==</td>\n",
       "      <td>0</td>\n",
       "      <td>ETSGQpVt/jalso7iakCvQg==</td>\n",
       "      <td>grocery</td>\n",
       "      <td>8.883685</td>\n",
       "      <td>2019-04-26 07:37:36.000 America/Los_Angeles</td>\n",
       "      <td>2019-04-26 07:49:25.000 America/Los_Angeles</td>\n",
       "      <td>0</td>\n",
       "    </tr>\n",
       "    <tr>\n",
       "      <th>1402309</th>\n",
       "      <td>zzxfsWIdNc6mohXYAJ6lig==</td>\n",
       "      <td>20</td>\n",
       "      <td>MJfq87CZqZ+C2PV7CU0ScQ==</td>\n",
       "      <td>grocery</td>\n",
       "      <td>10.701685</td>\n",
       "      <td>2019-05-18 14:12:26.000 America/Los_Angeles</td>\n",
       "      <td>2019-05-18 14:26:14.000 America/Los_Angeles</td>\n",
       "      <td>0</td>\n",
       "    </tr>\n",
       "    <tr>\n",
       "      <th>1402310</th>\n",
       "      <td>zzzhpNF1l7HdwyBef3huRw==</td>\n",
       "      <td>10</td>\n",
       "      <td>GeDHHrjniyBcEc1swW+yAw==</td>\n",
       "      <td>grocery</td>\n",
       "      <td>8.694685</td>\n",
       "      <td>2019-04-26 07:54:49.000 America/Los_Angeles</td>\n",
       "      <td>2019-04-26 08:05:38.000 America/Los_Angeles</td>\n",
       "      <td>0</td>\n",
       "    </tr>\n",
       "    <tr>\n",
       "      <th>1402311</th>\n",
       "      <td>zzzhpNF1l7HdwyBef3huRw==</td>\n",
       "      <td>10</td>\n",
       "      <td>GEYtsjUH5gjxfzD4VYGa7A==</td>\n",
       "      <td>grocery</td>\n",
       "      <td>7.641685</td>\n",
       "      <td>2019-05-01 07:51:47.000 America/Los_Angeles</td>\n",
       "      <td>2019-05-01 08:02:18.000 America/Los_Angeles</td>\n",
       "      <td>0</td>\n",
       "    </tr>\n",
       "  </tbody>\n",
       "</table>\n",
       "<p>1397335 rows × 8 columns</p>\n",
       "</div>"
      ],
      "text/plain": [
       "                        driver.id  penalty.variant                  order.id  \\\n",
       "0        +++3990cLNPGgaPm+ripGg==               20  I9+8q9h67J5XL7x+X2flrA==   \n",
       "1        +++stf7DqWcT8LMTYbXrwA==               20  FcDOAnNo5aTeYKG1iTyxSA==   \n",
       "2        ++07zTPYFhvA5Ug72kRd0w==               10  JwACfbilNJG1WIH5meqY/A==   \n",
       "3        ++07zTPYFhvA5Ug72kRd0w==               10  MXUBhCnXvV4tiimvuSuP1g==   \n",
       "4        ++08hetKFBNoOO5XHAH/5A==                0  LyL81zlkrtWgRju0jZgFpQ==   \n",
       "...                           ...              ...                       ...   \n",
       "1402307  zzxOWVM+N+xVyaf4hMynwg==                0  GrrMgvBnOaA1ETEGPCCT0A==   \n",
       "1402308  zzxZU/e6hKC1DFRoPJFlKw==                0  ETSGQpVt/jalso7iakCvQg==   \n",
       "1402309  zzxfsWIdNc6mohXYAJ6lig==               20  MJfq87CZqZ+C2PV7CU0ScQ==   \n",
       "1402310  zzzhpNF1l7HdwyBef3huRw==               10  GeDHHrjniyBcEc1swW+yAw==   \n",
       "1402311  zzzhpNF1l7HdwyBef3huRw==               10  GEYtsjUH5gjxfzD4VYGa7A==   \n",
       "\n",
       "        business.type  expected.profit  \\\n",
       "0             grocery        33.318685   \n",
       "1             grocery         8.532685   \n",
       "2          restaurant         8.730685   \n",
       "3          restaurant         8.460685   \n",
       "4          restaurant        12.600685   \n",
       "...               ...              ...   \n",
       "1402307    restaurant         9.171685   \n",
       "1402308       grocery         8.883685   \n",
       "1402309       grocery        10.701685   \n",
       "1402310       grocery         8.694685   \n",
       "1402311       grocery         7.641685   \n",
       "\n",
       "                                   order.placed.time  \\\n",
       "0        2019-05-24 22:14:29.000 America/Los_Angeles   \n",
       "1        2019-05-18 01:23:50.000 America/Los_Angeles   \n",
       "2        2019-04-23 17:44:47.000 America/Los_Angeles   \n",
       "3        2019-05-20 15:04:52.000 America/Los_Angeles   \n",
       "4        2019-04-16 17:45:01.000 America/Los_Angeles   \n",
       "...                                              ...   \n",
       "1402307  2019-05-21 17:14:24.000 America/Los_Angeles   \n",
       "1402308  2019-04-26 07:37:36.000 America/Los_Angeles   \n",
       "1402309  2019-05-18 14:12:26.000 America/Los_Angeles   \n",
       "1402310  2019-04-26 07:54:49.000 America/Los_Angeles   \n",
       "1402311  2019-05-01 07:51:47.000 America/Los_Angeles   \n",
       "\n",
       "                             delivery.completed.time  cancel.dummy  \n",
       "0        2019-05-24 22:51:37.000 America/Los_Angeles             0  \n",
       "1                                                NaN             1  \n",
       "2        2019-04-23 18:13:37.000 America/Los_Angeles             0  \n",
       "3        2019-05-20 15:24:23.000 America/Los_Angeles             0  \n",
       "4        2019-04-16 18:26:29.000 America/Los_Angeles             0  \n",
       "...                                              ...           ...  \n",
       "1402307  2019-05-21 17:45:50.000 America/Los_Angeles             0  \n",
       "1402308  2019-04-26 07:49:25.000 America/Los_Angeles             0  \n",
       "1402309  2019-05-18 14:26:14.000 America/Los_Angeles             0  \n",
       "1402310  2019-04-26 08:05:38.000 America/Los_Angeles             0  \n",
       "1402311  2019-05-01 08:02:18.000 America/Los_Angeles             0  \n",
       "\n",
       "[1397335 rows x 8 columns]"
      ]
     },
     "execution_count": 7,
     "metadata": {},
     "output_type": "execute_result"
    }
   ],
   "source": [
    "df"
   ]
  },
  {
   "cell_type": "code",
   "execution_count": 9,
   "id": "aac138c7-df4c-4f13-bac9-728aba3058c0",
   "metadata": {},
   "outputs": [],
   "source": [
    "df[\"order.placed.time\"] = df[\"order.placed.time\"].str.replace(r\" America/Los_Angeles\", \"\", regex=True)\n",
    "df[\"order.placed.time\"] = pd.to_datetime(df[\"order.placed.time\"])\n",
    "df[\"delivery.completed.time\"] = df[\"delivery.completed.time\"].where(df[\"delivery.completed.time\"].isna(), df[\"delivery.completed.time\"].str.replace(r\" America/Los_Angeles\", \"\", regex=True))\n",
    "df[\"delivery.completed.time\"] = pd.to_datetime(df[\"delivery.completed.time\"])"
   ]
  },
  {
   "cell_type": "code",
   "execution_count": 11,
   "id": "62c218b0-17e4-45b9-bfd0-a049eee1007a",
   "metadata": {},
   "outputs": [],
   "source": [
    "df_20 = df[df['penalty.variant'] == 20].reset_index()\n",
    "df_10 = df[df['penalty.variant'] == 10].reset_index()\n",
    "df_0 = df[df['penalty.variant'] == 0].reset_index()"
   ]
  },
  {
   "cell_type": "markdown",
   "id": "760e0e87-2925-4ef0-9e64-59e6387d66de",
   "metadata": {},
   "source": [
    "### different experiments begin from here"
   ]
  },
  {
   "cell_type": "code",
   "execution_count": 666,
   "id": "88d3ff50-6306-454f-9755-1cc5cc9b643c",
   "metadata": {},
   "outputs": [],
   "source": [
    "### run code below for changed profits"
   ]
  },
  {
   "cell_type": "code",
   "execution_count": 13,
   "id": "21c98d6c-071c-4daa-b1ab-af549a726f5b",
   "metadata": {},
   "outputs": [],
   "source": [
    "df_0['expected.profit'] = np.where(df_0['cancel.dummy'] == 1, 0, df_0['expected.profit'])\n",
    "df_10['expected.profit'] = np.where(df_10['cancel.dummy'] == 1, 5, df_10['expected.profit'])\n",
    "df_20['expected.profit'] = np.where(df_20['cancel.dummy'] == 1, 10, df_20['expected.profit'])"
   ]
  },
  {
   "cell_type": "code",
   "execution_count": null,
   "id": "81edb693-62ac-46e7-879e-17de032d8b79",
   "metadata": {},
   "outputs": [],
   "source": []
  },
  {
   "cell_type": "code",
   "execution_count": null,
   "id": "b2288875-d7ac-4f5c-a3a8-569964726cfd",
   "metadata": {},
   "outputs": [],
   "source": []
  },
  {
   "cell_type": "code",
   "execution_count": null,
   "id": "29015e40-1ed9-457a-8674-2409edc7e61a",
   "metadata": {},
   "outputs": [],
   "source": []
  },
  {
   "cell_type": "markdown",
   "id": "7b91f24d-5ab3-4385-8458-c5200e00067e",
   "metadata": {},
   "source": [
    "### Calculate the cancellation ratio for grocery and restaurant groups"
   ]
  },
  {
   "cell_type": "code",
   "execution_count": 19,
   "id": "9aef5aaa-54bd-45ae-b18d-777d8908de10",
   "metadata": {},
   "outputs": [],
   "source": [
    "df_10_grocery = df_10[df_10['business.type'] == 'grocery']\n",
    "df_10_restaurant = df_10[df_10['business.type'] == 'restaurant']\n",
    "df_0_grocery = df_0[df_0['business.type'] == 'grocery']\n",
    "df_0_restaurant = df_0[df_0['business.type'] == 'restaurant']\n",
    "df_20_grocery = df_20[df_20['business.type'] == 'grocery']\n",
    "df_20_restaurant = df_20[df_20['business.type'] == 'restaurant']"
   ]
  },
  {
   "cell_type": "code",
   "execution_count": 21,
   "id": "a1c81b48-1634-4f67-beb3-74cfd32e4426",
   "metadata": {},
   "outputs": [],
   "source": [
    "total_orders_0_grocery = df_0_grocery.groupby('driver.id')['cancel.dummy'].count()\n",
    "total_orders_0_restaurant = df_0_restaurant.groupby('driver.id')['cancel.dummy'].count()"
   ]
  },
  {
   "cell_type": "code",
   "execution_count": 23,
   "id": "150f65ef-5a7c-4811-a7bf-2419ba373a78",
   "metadata": {},
   "outputs": [],
   "source": [
    "total_orders_20_grocery = df_20_grocery.groupby('driver.id')['cancel.dummy'].count()\n",
    "total_orders_20_restaurant = df_20_restaurant.groupby('driver.id')['cancel.dummy'].count()"
   ]
  },
  {
   "cell_type": "code",
   "execution_count": 24,
   "id": "7184b71d-e395-43e5-b78e-1a11086119db",
   "metadata": {},
   "outputs": [],
   "source": [
    "total_orders_10_grocery = df_10_grocery.groupby('driver.id')['cancel.dummy'].count()\n",
    "total_orders_10_restaurant = df_10_restaurant.groupby('driver.id')['cancel.dummy'].count()"
   ]
  },
  {
   "cell_type": "code",
   "execution_count": 27,
   "id": "403b7f65-91f6-4de3-9350-cd569cf15f1f",
   "metadata": {},
   "outputs": [],
   "source": [
    "total_cancelled_10_grocery = df_10_grocery.groupby('driver.id').agg(total_cancelled=('cancel.dummy', lambda x: (x == 1).sum()))\n",
    "total_cancelled_10_restaurant = df_10_restaurant.groupby('driver.id').agg(total_cancelled=('cancel.dummy', lambda x: (x == 1).sum()))"
   ]
  },
  {
   "cell_type": "code",
   "execution_count": 28,
   "id": "5628bdc6-8161-42a9-bc77-8546889be26d",
   "metadata": {},
   "outputs": [],
   "source": [
    "total_cancelled_0_grocery = df_0_grocery.groupby('driver.id').agg(total_cancelled=('cancel.dummy', lambda x: (x == 1).sum()))\n",
    "total_cancelled_0_restaurant = df_0_restaurant.groupby('driver.id').agg(total_cancelled=('cancel.dummy', lambda x: (x == 1).sum()))"
   ]
  },
  {
   "cell_type": "code",
   "execution_count": 29,
   "id": "800fe9ba-2657-4a70-b04c-0c9d40a53329",
   "metadata": {},
   "outputs": [],
   "source": [
    "total_cancelled_20_restaurant = df_20_restaurant.groupby('driver.id').agg(total_cancelled=('cancel.dummy', lambda x: (x == 1).sum()))\n",
    "total_cancelled_20_grocery = df_20_grocery.groupby('driver.id').agg(total_cancelled=('cancel.dummy', lambda x: (x == 1).sum()))"
   ]
  },
  {
   "cell_type": "code",
   "execution_count": 30,
   "id": "c67408a6-48a1-4bbc-9949-45a717095d9e",
   "metadata": {},
   "outputs": [],
   "source": [
    "# calculate the ratio for 20$ group for the groceries\n",
    "total_cancelled_sparse = csr_matrix(total_cancelled_20_grocery).reshape(-1, 1)\n",
    "total_orders_sparse = csr_matrix(total_orders_20_grocery).reshape(-1, 1)\n",
    "ratio = total_cancelled_sparse/total_orders_sparse\n",
    "ratio = np.array(ratio).reshape(1,-1)\n",
    "series = pd.Series(ratio.flatten())\n",
    "series.index = total_orders_20_grocery.index\n",
    "df_20_ratio_grocery = series"
   ]
  },
  {
   "cell_type": "code",
   "execution_count": 31,
   "id": "f4805512-49c2-463d-bc21-295c05520d1f",
   "metadata": {},
   "outputs": [],
   "source": [
    "# calculate the ratio for 20$ group for the restaurants\n",
    "total_cancelled_sparse1 = csr_matrix(total_cancelled_20_restaurant).reshape(-1, 1)\n",
    "total_orders_sparse1 = csr_matrix(total_orders_20_restaurant).reshape(-1, 1)\n",
    "ratio1 = total_cancelled_sparse1/total_orders_sparse1\n",
    "ratio1 = np.array(ratio1).reshape(1,-1)\n",
    "series1 = pd.Series(ratio1.flatten())\n",
    "series1.index = total_orders_20_restaurant.index\n",
    "df_20_ratio_restaurant = series1"
   ]
  },
  {
   "cell_type": "code",
   "execution_count": 32,
   "id": "cd126219-c52f-4cf8-9d28-eb18f8651dc5",
   "metadata": {},
   "outputs": [],
   "source": [
    "# Calculate the cancel ratio for 10 group for grocery\n",
    "total_cancelled_sparse10 = csr_matrix(total_cancelled_10_grocery).reshape(-1, 1)\n",
    "total_orders_sparse10 = csr_matrix(total_orders_10_grocery).reshape(-1, 1)\n",
    "ratio10 = total_cancelled_sparse10/total_orders_sparse10\n",
    "ratio10 = np.array(ratio10).reshape(1,-1)\n",
    "series10 = pd.Series(ratio10.flatten())\n",
    "series10.index = total_orders_10_grocery.index\n",
    "df_10_ratio_grocery = series10"
   ]
  },
  {
   "cell_type": "code",
   "execution_count": 33,
   "id": "74b26ce7-1abf-4013-9097-9247d17d4811",
   "metadata": {},
   "outputs": [],
   "source": [
    "# Calculate the cancel ratio for 10 group for restaurant\n",
    "total_cancelled_sparse11 = csr_matrix(total_cancelled_10_restaurant).reshape(-1, 1)\n",
    "total_orders_sparse11 = csr_matrix(total_orders_10_restaurant).reshape(-1, 1)\n",
    "ratio11 = total_cancelled_sparse11/total_orders_sparse11\n",
    "ratio11 = np.array(ratio11).reshape(1,-1)\n",
    "series11 = pd.Series(ratio11.flatten())\n",
    "series11.index = total_orders_10_restaurant.index\n",
    "df_10_ratio_restaurant = series11"
   ]
  },
  {
   "cell_type": "code",
   "execution_count": 34,
   "id": "7c5d6fdd-84fc-476e-84af-5bb868f8365c",
   "metadata": {},
   "outputs": [],
   "source": [
    "# Calculate cancel rate for 0 group for grocery\n",
    "total_cancelled_sparse0 = csr_matrix(total_cancelled_0_grocery).reshape(-1, 1)\n",
    "total_orders_sparse0 = csr_matrix(total_orders_0_grocery).reshape(-1, 1)\n",
    "ratio0 = total_cancelled_sparse0/total_orders_sparse0\n",
    "ratio0 = np.array(ratio0).reshape(1,-1)\n",
    "series0 = pd.Series(ratio0.flatten())\n",
    "series0.index = total_orders_0_grocery.index\n",
    "df_0_ratio_grocery = series0"
   ]
  },
  {
   "cell_type": "code",
   "execution_count": 35,
   "id": "864fc8ba-e38d-4db1-a285-771d429924e2",
   "metadata": {},
   "outputs": [],
   "source": [
    "# Calculate the cancel ratio for 0 group for restaurant\n",
    "total_cancelled_sparse01 = csr_matrix(total_cancelled_0_restaurant).reshape(-1, 1)\n",
    "total_orders_sparse01 = csr_matrix(total_orders_0_restaurant).reshape(-1, 1)\n",
    "ratio01 = total_cancelled_sparse01/total_orders_sparse01\n",
    "ratio01 = np.array(ratio01).reshape(1,-1)\n",
    "series01 = pd.Series(ratio01.flatten())\n",
    "series01.index = total_orders_0_restaurant.index\n",
    "df_0_ratio_restaurant = series01"
   ]
  },
  {
   "cell_type": "code",
   "execution_count": 113,
   "id": "1c406a7a-c9bb-4450-9efa-d7aecadcbcf3",
   "metadata": {},
   "outputs": [],
   "source": [
    "u1 = df_0_ratio_grocery\n",
    "u2 = df_0_ratio_restaurant\n",
    "u3 = df_10_ratio_grocery\n",
    "u4 = df_10_ratio_restaurant\n",
    "u5 = df_20_ratio_grocery\n",
    "u6 = df_20_ratio_restaurant"
   ]
  },
  {
   "cell_type": "code",
   "execution_count": 115,
   "id": "dae45de8-e792-4b07-9211-97d5c4358e1d",
   "metadata": {},
   "outputs": [],
   "source": [
    "### grocery vs restaurant cancel rate ratio within groups\n",
    "# 0 penalty\n",
    "t_test_1_2, p_value_1_2 = stats.ttest_ind(u1, u2, equal_var = False)\n",
    "# 10 penalty\n",
    "t_test_3_4, p_value_3_4 = stats.ttest_ind(u3, u4, equal_var = False) \n",
    "# 20 penalty\n",
    "t_test_5_6, p_value_5_6 = stats.ttest_ind(u5, u6, equal_var = False) \n",
    "\n",
    "### grocery vs grocery cancel rate ratio between groups\n",
    "# between 0 and 10 penalty for grocery\n",
    "t_test_1_3, p_value_1_3 = stats.ttest_ind(u1, u3, equal_var = False) \n",
    "# between 0 and 20 penalty for grocery\n",
    "t_test_1_5, p_value_1_5 = stats.ttest_ind(u1, u5, equal_var = False) \n",
    "# between 10 and 20 penalty for grocery\n",
    "t_test_3_5, p_value_3_5 = stats.ttest_ind(u3, u5, equal_var = False)\n",
    "\n",
    "### restaurant vs restaurant cancel rate ratio between groups\n",
    "# between 0 and 10 penalty for restaurant\n",
    "t_test_2_4, p_value_2_4 = stats.ttest_ind(u2, u4, equal_var = False) \n",
    "# between 0 and 20 penalty for restaurant\n",
    "t_test_2_6, p_value_2_6 = stats.ttest_ind(u2, u6, equal_var = False) \n",
    "# between 10 and 20 penalty for restaurant\n",
    "t_test_4_6, p_value_4_6 = stats.ttest_ind(u4, u6, equal_var = False)"
   ]
  },
  {
   "cell_type": "code",
   "execution_count": 117,
   "id": "4466dbb3-e853-47b5-b636-fa99f25bb2c6",
   "metadata": {},
   "outputs": [],
   "source": [
    "results = {\n",
    "    \"Comparison\": [\n",
    "        \"Grocery vs Restaurant (0 penalty)\",\n",
    "        \"Grocery vs Restaurant (10 penalty)\",\n",
    "        \"Grocery vs Restaurant (20 penalty)\",\n",
    "        \"Grocery (0 vs 10 penalty)\",\n",
    "        \"Grocery (0 vs 20 penalty)\",\n",
    "        \"Grocery (10 vs 20 penalty)\",\n",
    "        \"Restaurant (0 vs 10 penalty)\",\n",
    "        \"Restaurant (0 vs 20 penalty)\",\n",
    "        \"Restaurant (10 vs 20 penalty)\"\n",
    "    ],\n",
    "    \"t-test Value\": [\n",
    "        t_test_1_2, t_test_3_4, t_test_5_6,\n",
    "        t_test_1_3, t_test_1_5, t_test_3_5,\n",
    "        t_test_2_4, t_test_2_6, t_test_4_6\n",
    "    ],\n",
    "    \"p-value\": [\n",
    "        p_value_1_2, p_value_3_4, p_value_5_6,\n",
    "        p_value_1_3, p_value_1_5, p_value_3_5,\n",
    "        p_value_2_4, p_value_2_6, p_value_4_6\n",
    "    ]\n",
    "}\n",
    "\n",
    "results_df = pd.DataFrame(results)"
   ]
  },
  {
   "cell_type": "code",
   "execution_count": null,
   "id": "45b79654-2238-4f81-81b0-35864697b40d",
   "metadata": {},
   "outputs": [],
   "source": []
  },
  {
   "cell_type": "markdown",
   "id": "3f747166-4f0d-4a1d-b5f3-5a125ae90e84",
   "metadata": {},
   "source": [
    "### Filter the total order count per driver by them having at least 2 orders. This will reduce the impact of 0 and 1 cancel ratios for the final analysis."
   ]
  },
  {
   "cell_type": "code",
   "execution_count": 161,
   "id": "1fe43f68-8f42-4e75-9f7a-a2adeae11fc0",
   "metadata": {},
   "outputs": [],
   "source": [
    "total_orders_0_grocery_greater1 = df_0_grocery.groupby('driver.id').filter(lambda x: len(x) > 1).groupby('driver.id')['cancel.dummy'].count()\n",
    "total_orders_0_restaurant_greater1 = df_0_restaurant.groupby('driver.id').filter(lambda x: len(x) > 1).groupby('driver.id')['cancel.dummy'].count()\n",
    "total_orders_10_grocery_greater1 = df_10_grocery.groupby('driver.id').filter(lambda x: len(x) > 1).groupby('driver.id')['cancel.dummy'].count()\n",
    "total_orders_10_restaurant_greater1 = df_10_restaurant.groupby('driver.id').filter(lambda x: len(x) > 1).groupby('driver.id')['cancel.dummy'].count()\n",
    "total_orders_20_grocery_greater1 = df_20_grocery.groupby('driver.id').filter(lambda x: len(x) > 1).groupby('driver.id')['cancel.dummy'].count()\n",
    "total_orders_20_restaurant_greater1 = df_20_restaurant.groupby('driver.id').filter(lambda x: len(x) > 1).groupby('driver.id')['cancel.dummy'].count()"
   ]
  },
  {
   "cell_type": "code",
   "execution_count": 162,
   "id": "207ebff9-15e3-4cbb-bbc0-4342a98e0dc4",
   "metadata": {},
   "outputs": [],
   "source": [
    "total_cancelled_0_grocery_greater1 = total_cancelled_0_grocery[total_cancelled_0_grocery.index.isin(total_orders_0_grocery_greater1.index)]\n",
    "total_cancelled_0_restaurant_greater1 = total_cancelled_0_restaurant[total_cancelled_0_restaurant.index.isin(total_orders_0_restaurant_greater1.index)]\n",
    "total_cancelled_10_grocery_greater1 = total_cancelled_10_grocery[total_cancelled_10_grocery.index.isin(total_orders_10_grocery_greater1.index)]\n",
    "total_cancelled_10_restaurant_greater1 = total_cancelled_10_restaurant[total_cancelled_10_restaurant.index.isin(total_orders_10_restaurant_greater1.index)]\n",
    "total_cancelled_20_grocery_greater1 = total_cancelled_20_grocery[total_cancelled_20_grocery.index.isin(total_orders_20_grocery_greater1.index)]\n",
    "total_cancelled_20_restaurant_greater1 = total_cancelled_20_restaurant[total_cancelled_20_restaurant.index.isin(total_orders_20_restaurant_greater1.index)]"
   ]
  },
  {
   "cell_type": "code",
   "execution_count": 163,
   "id": "8e47032d-60d9-4ad6-a3ee-e088286b19e0",
   "metadata": {},
   "outputs": [],
   "source": [
    "# Calculate the cancel ratio for 0 group for restaurant, for count greater than 1\n",
    "total_cancelled_sparse111 = csr_matrix(total_cancelled_0_restaurant_greater1).reshape(-1, 1)\n",
    "total_orders_sparse111 = csr_matrix(total_orders_0_restaurant_greater1).reshape(-1, 1)\n",
    "ratio111 = total_cancelled_sparse111/total_orders_sparse111\n",
    "ratio111 = np.array(ratio111).reshape(1,-1)\n",
    "series111 = pd.Series(ratio111.flatten())\n",
    "series111.index = total_orders_0_restaurant_greater1.index\n",
    "df_0_ratio_restaurant_greater1 = series111"
   ]
  },
  {
   "cell_type": "code",
   "execution_count": 164,
   "id": "6292200b-87ed-4312-a6ff-433226ec92cc",
   "metadata": {},
   "outputs": [],
   "source": [
    "# Calculate the cancel ratio for 0 group for grocery, for count greater than 1\n",
    "total_cancelled_sparse112 = csr_matrix(total_cancelled_0_grocery_greater1).reshape(-1, 1)\n",
    "total_orders_sparse112 = csr_matrix(total_orders_0_grocery_greater1).reshape(-1, 1)\n",
    "ratio112 = total_cancelled_sparse112/total_orders_sparse112\n",
    "ratio112 = np.array(ratio112).reshape(1,-1)\n",
    "series112 = pd.Series(ratio112.flatten())\n",
    "series112.index = total_orders_0_grocery_greater1.index\n",
    "df_0_ratio_grocery_greater1 = series112"
   ]
  },
  {
   "cell_type": "code",
   "execution_count": 165,
   "id": "3f456d3e-5949-4000-94b9-9694d4f30df9",
   "metadata": {},
   "outputs": [],
   "source": [
    "# Calculate the cancel ratio for 10 group for restaurant, for count greater than 1\n",
    "total_cancelled_sparse113 = csr_matrix(total_cancelled_10_restaurant_greater1).reshape(-1, 1)\n",
    "total_orders_sparse113 = csr_matrix(total_orders_10_restaurant_greater1).reshape(-1, 1)\n",
    "ratio113 = total_cancelled_sparse113/total_orders_sparse113\n",
    "ratio113 = np.array(ratio113).reshape(1,-1)\n",
    "series113 = pd.Series(ratio113.flatten())\n",
    "series113.index = total_orders_10_restaurant_greater1.index\n",
    "df_10_ratio_restaurant_greater1 = series113"
   ]
  },
  {
   "cell_type": "code",
   "execution_count": 166,
   "id": "3bb21d4d-d055-46f1-b5db-521ab496c053",
   "metadata": {},
   "outputs": [],
   "source": [
    "# Calculate the cancel ratio for 0 group for grocery, for count greater than 1\n",
    "total_cancelled_sparse114 = csr_matrix(total_cancelled_10_grocery_greater1).reshape(-1, 1)\n",
    "total_orders_sparse114 = csr_matrix(total_orders_10_grocery_greater1).reshape(-1, 1)\n",
    "ratio114 = total_cancelled_sparse114/total_orders_sparse114\n",
    "ratio114 = np.array(ratio114).reshape(1,-1)\n",
    "series114 = pd.Series(ratio114.flatten())\n",
    "series114.index = total_orders_10_grocery_greater1.index\n",
    "df_10_ratio_grocery_greater1 = series114"
   ]
  },
  {
   "cell_type": "code",
   "execution_count": 167,
   "id": "5f8ca7b5-d6c2-463b-95bd-05df50d2a2bd",
   "metadata": {},
   "outputs": [],
   "source": [
    "# Calculate the cancel ratio for 20 group for restaurant, for count greater than 1\n",
    "total_cancelled_sparse115 = csr_matrix(total_cancelled_20_restaurant_greater1).reshape(-1, 1)\n",
    "total_orders_sparse115 = csr_matrix(total_orders_20_restaurant_greater1).reshape(-1, 1)\n",
    "ratio115 = total_cancelled_sparse115/total_orders_sparse115\n",
    "ratio115 = np.array(ratio115).reshape(1,-1)\n",
    "series115 = pd.Series(ratio115.flatten())\n",
    "series115.index = total_orders_20_restaurant_greater1.index\n",
    "df_20_ratio_restaurant_greater1 = series115"
   ]
  },
  {
   "cell_type": "code",
   "execution_count": 168,
   "id": "f0ca2c67-1c3c-4030-90fc-6c73b344c826",
   "metadata": {},
   "outputs": [],
   "source": [
    "# Calculate the cancel ratio for 20 group for grocery, for count greater than 1\n",
    "total_cancelled_sparse116 = csr_matrix(total_cancelled_20_grocery_greater1).reshape(-1, 1)\n",
    "total_orders_sparse116 = csr_matrix(total_orders_20_grocery_greater1).reshape(-1, 1)\n",
    "ratio116 = total_cancelled_sparse116/total_orders_sparse116\n",
    "ratio116 = np.array(ratio116).reshape(1,-1)\n",
    "series116 = pd.Series(ratio116.flatten())\n",
    "series116.index = total_orders_20_grocery_greater1.index\n",
    "df_20_ratio_grocery_greater1 = series116"
   ]
  },
  {
   "cell_type": "code",
   "execution_count": 169,
   "id": "ce2f9a75-8768-40a0-a231-61f2e39191fc",
   "metadata": {},
   "outputs": [],
   "source": [
    "### grocery vs restaurant cancel rate ratio within groups, for count greater than 1\n",
    "# 0 penalty\n",
    "t_test_1_2_1, p_value_1_2_1 = stats.ttest_ind(df_0_ratio_grocery_greater1, df_0_ratio_restaurant_greater1, equal_var = False)\n",
    "# 10 penalty\n",
    "t_test_3_4_1, p_value_3_4_1 = stats.ttest_ind(df_10_ratio_grocery_greater1, df_10_ratio_restaurant_greater1, equal_var = False) \n",
    "# 20 penalty\n",
    "t_test_5_6_1, p_value_5_6_1 = stats.ttest_ind(df_20_ratio_grocery_greater1, df_20_ratio_restaurant_greater1, equal_var = False) \n",
    "\n",
    "### grocery vs grocery cancel rate ratio between groups\n",
    "# between 0 and 10 penalty for grocery\n",
    "t_test_1_3_1, p_value_1_3_1 = stats.ttest_ind(df_0_ratio_grocery_greater1, df_10_ratio_grocery_greater1, equal_var = False) \n",
    "# between 0 and 20 penalty for grocery\n",
    "t_test_1_5_1, p_value_1_5_1 = stats.ttest_ind(df_0_ratio_grocery_greater1, df_20_ratio_grocery_greater1, equal_var = False) \n",
    "# between 10 and 20 penalty for grocery\n",
    "t_test_3_5_1, p_value_3_5_1 = stats.ttest_ind(df_10_ratio_grocery_greater1, df_20_ratio_grocery_greater1, equal_var = False)\n",
    "\n",
    "### restaurant vs restaurant cancel rate ratio between groups\n",
    "# between 0 and 10 penalty for restaurant\n",
    "t_test_2_4_1, p_value_2_4_1 = stats.ttest_ind(df_0_ratio_restaurant_greater1, df_10_ratio_restaurant_greater1, equal_var = False) \n",
    "# between 0 and 20 penalty for restaurant\n",
    "t_test_2_6_1, p_value_2_6_1 = stats.ttest_ind(df_0_ratio_restaurant_greater1, df_20_ratio_restaurant_greater1, equal_var = False) \n",
    "# between 10 and 20 penalty for restaurant\n",
    "t_test_4_6_1, p_value_4_6_1 = stats.ttest_ind(df_10_ratio_restaurant_greater1, df_20_ratio_restaurant_greater1, equal_var = False)"
   ]
  },
  {
   "cell_type": "code",
   "execution_count": 170,
   "id": "9cd9067e-fe33-46ca-a07e-aa131f357933",
   "metadata": {},
   "outputs": [],
   "source": [
    "results_greater1 = {\n",
    "    \"Comparison\": [\n",
    "        \"Grocery vs Restaurant (0 penalty)\",\n",
    "        \"Grocery vs Restaurant (10 penalty)\",\n",
    "        \"Grocery vs Restaurant (20 penalty)\",\n",
    "        \"Grocery (0 vs 10 penalty)\",\n",
    "        \"Grocery (0 vs 20 penalty)\",\n",
    "        \"Grocery (10 vs 20 penalty)\",\n",
    "        \"Restaurant (0 vs 10 penalty)\",\n",
    "        \"Restaurant (0 vs 20 penalty)\",\n",
    "        \"Restaurant (10 vs 20 penalty)\"\n",
    "    ],\n",
    "    \"t-test Value\": [\n",
    "        t_test_1_2_1, t_test_3_4_1, t_test_5_6_1,\n",
    "        t_test_1_3_1, t_test_1_5_1, t_test_3_5_1,\n",
    "        t_test_2_4_1, t_test_2_6_1, t_test_4_6_1\n",
    "    ],\n",
    "    \"p-value\": [\n",
    "        p_value_1_2_1, p_value_3_4_1, p_value_5_6_1,\n",
    "        p_value_1_3_1, p_value_1_5_1, p_value_3_5_1,\n",
    "        p_value_2_4_1, p_value_2_6_1, p_value_4_6_1\n",
    "    ]\n",
    "}\n",
    "\n",
    "results_greater1_df = pd.DataFrame(results_greater1)"
   ]
  },
  {
   "cell_type": "code",
   "execution_count": 97,
   "id": "75bba7fb-2186-4c26-94c1-3531a781f870",
   "metadata": {},
   "outputs": [
    {
     "data": {
      "text/html": [
       "<div>\n",
       "<style scoped>\n",
       "    .dataframe tbody tr th:only-of-type {\n",
       "        vertical-align: middle;\n",
       "    }\n",
       "\n",
       "    .dataframe tbody tr th {\n",
       "        vertical-align: top;\n",
       "    }\n",
       "\n",
       "    .dataframe thead th {\n",
       "        text-align: right;\n",
       "    }\n",
       "</style>\n",
       "<table border=\"1\" class=\"dataframe\">\n",
       "  <thead>\n",
       "    <tr style=\"text-align: right;\">\n",
       "      <th></th>\n",
       "      <th>Comparison</th>\n",
       "      <th>t-test Value</th>\n",
       "      <th>p-value</th>\n",
       "    </tr>\n",
       "  </thead>\n",
       "  <tbody>\n",
       "    <tr>\n",
       "      <th>0</th>\n",
       "      <td>Grocery vs Restaurant (0 penalty)</td>\n",
       "      <td>-14.713792</td>\n",
       "      <td>6.427960e-49</td>\n",
       "    </tr>\n",
       "    <tr>\n",
       "      <th>1</th>\n",
       "      <td>Grocery vs Restaurant (10 penalty)</td>\n",
       "      <td>-17.213189</td>\n",
       "      <td>3.078999e-66</td>\n",
       "    </tr>\n",
       "    <tr>\n",
       "      <th>2</th>\n",
       "      <td>Grocery vs Restaurant (20 penalty)</td>\n",
       "      <td>-25.445869</td>\n",
       "      <td>5.636907e-142</td>\n",
       "    </tr>\n",
       "    <tr>\n",
       "      <th>3</th>\n",
       "      <td>Grocery (0 vs 10 penalty)</td>\n",
       "      <td>18.273679</td>\n",
       "      <td>1.695988e-74</td>\n",
       "    </tr>\n",
       "    <tr>\n",
       "      <th>4</th>\n",
       "      <td>Grocery (0 vs 20 penalty)</td>\n",
       "      <td>54.669459</td>\n",
       "      <td>0.000000e+00</td>\n",
       "    </tr>\n",
       "    <tr>\n",
       "      <th>5</th>\n",
       "      <td>Grocery (10 vs 20 penalty)</td>\n",
       "      <td>36.904524</td>\n",
       "      <td>2.843863e-296</td>\n",
       "    </tr>\n",
       "    <tr>\n",
       "      <th>6</th>\n",
       "      <td>Restaurant (0 vs 10 penalty)</td>\n",
       "      <td>12.108359</td>\n",
       "      <td>1.045820e-33</td>\n",
       "    </tr>\n",
       "    <tr>\n",
       "      <th>7</th>\n",
       "      <td>Restaurant (0 vs 20 penalty)</td>\n",
       "      <td>34.553430</td>\n",
       "      <td>1.013703e-258</td>\n",
       "    </tr>\n",
       "    <tr>\n",
       "      <th>8</th>\n",
       "      <td>Restaurant (10 vs 20 penalty)</td>\n",
       "      <td>22.896523</td>\n",
       "      <td>1.714566e-115</td>\n",
       "    </tr>\n",
       "  </tbody>\n",
       "</table>\n",
       "</div>"
      ],
      "text/plain": [
       "                           Comparison  t-test Value        p-value\n",
       "0   Grocery vs Restaurant (0 penalty)    -14.713792   6.427960e-49\n",
       "1  Grocery vs Restaurant (10 penalty)    -17.213189   3.078999e-66\n",
       "2  Grocery vs Restaurant (20 penalty)    -25.445869  5.636907e-142\n",
       "3           Grocery (0 vs 10 penalty)     18.273679   1.695988e-74\n",
       "4           Grocery (0 vs 20 penalty)     54.669459   0.000000e+00\n",
       "5          Grocery (10 vs 20 penalty)     36.904524  2.843863e-296\n",
       "6        Restaurant (0 vs 10 penalty)     12.108359   1.045820e-33\n",
       "7        Restaurant (0 vs 20 penalty)     34.553430  1.013703e-258\n",
       "8       Restaurant (10 vs 20 penalty)     22.896523  1.714566e-115"
      ]
     },
     "execution_count": 97,
     "metadata": {},
     "output_type": "execute_result"
    }
   ],
   "source": [
    "results_greater1_df"
   ]
  },
  {
   "cell_type": "markdown",
   "id": "daccf897-e8c0-475d-9dd2-aabd0e4c899d",
   "metadata": {},
   "source": [
    "### This result below is from filtering for the total order count if there are 3 or more orders per driver to just see if there is a large difference between the filtering for 2. As you can see when you compare the df above and the df below, it isn't as different as when you just compare no filter to filtering for greater than 1."
   ]
  },
  {
   "cell_type": "code",
   "execution_count": 157,
   "id": "40c95dec-e9c0-4663-b905-25d1b4d7f036",
   "metadata": {},
   "outputs": [
    {
     "data": {
      "text/html": [
       "<div>\n",
       "<style scoped>\n",
       "    .dataframe tbody tr th:only-of-type {\n",
       "        vertical-align: middle;\n",
       "    }\n",
       "\n",
       "    .dataframe tbody tr th {\n",
       "        vertical-align: top;\n",
       "    }\n",
       "\n",
       "    .dataframe thead th {\n",
       "        text-align: right;\n",
       "    }\n",
       "</style>\n",
       "<table border=\"1\" class=\"dataframe\">\n",
       "  <thead>\n",
       "    <tr style=\"text-align: right;\">\n",
       "      <th></th>\n",
       "      <th>Comparison</th>\n",
       "      <th>t-test Value</th>\n",
       "      <th>p-value</th>\n",
       "    </tr>\n",
       "  </thead>\n",
       "  <tbody>\n",
       "    <tr>\n",
       "      <th>0</th>\n",
       "      <td>Grocery vs Restaurant (0 penalty)</td>\n",
       "      <td>-11.857261</td>\n",
       "      <td>2.255031e-32</td>\n",
       "    </tr>\n",
       "    <tr>\n",
       "      <th>1</th>\n",
       "      <td>Grocery vs Restaurant (10 penalty)</td>\n",
       "      <td>-13.488639</td>\n",
       "      <td>2.273375e-41</td>\n",
       "    </tr>\n",
       "    <tr>\n",
       "      <th>2</th>\n",
       "      <td>Grocery vs Restaurant (20 penalty)</td>\n",
       "      <td>-22.439942</td>\n",
       "      <td>1.049942e-110</td>\n",
       "    </tr>\n",
       "    <tr>\n",
       "      <th>3</th>\n",
       "      <td>Grocery (0 vs 10 penalty)</td>\n",
       "      <td>14.237206</td>\n",
       "      <td>6.315696e-46</td>\n",
       "    </tr>\n",
       "    <tr>\n",
       "      <th>4</th>\n",
       "      <td>Grocery (0 vs 20 penalty)</td>\n",
       "      <td>43.258375</td>\n",
       "      <td>0.000000e+00</td>\n",
       "    </tr>\n",
       "    <tr>\n",
       "      <th>5</th>\n",
       "      <td>Grocery (10 vs 20 penalty)</td>\n",
       "      <td>29.605611</td>\n",
       "      <td>3.670960e-191</td>\n",
       "    </tr>\n",
       "    <tr>\n",
       "      <th>6</th>\n",
       "      <td>Restaurant (0 vs 10 penalty)</td>\n",
       "      <td>10.657443</td>\n",
       "      <td>1.763382e-26</td>\n",
       "    </tr>\n",
       "    <tr>\n",
       "      <th>7</th>\n",
       "      <td>Restaurant (0 vs 20 penalty)</td>\n",
       "      <td>28.907537</td>\n",
       "      <td>2.445033e-181</td>\n",
       "    </tr>\n",
       "    <tr>\n",
       "      <th>8</th>\n",
       "      <td>Restaurant (10 vs 20 penalty)</td>\n",
       "      <td>18.718835</td>\n",
       "      <td>8.628687e-78</td>\n",
       "    </tr>\n",
       "  </tbody>\n",
       "</table>\n",
       "</div>"
      ],
      "text/plain": [
       "                           Comparison  t-test Value        p-value\n",
       "0   Grocery vs Restaurant (0 penalty)    -11.857261   2.255031e-32\n",
       "1  Grocery vs Restaurant (10 penalty)    -13.488639   2.273375e-41\n",
       "2  Grocery vs Restaurant (20 penalty)    -22.439942  1.049942e-110\n",
       "3           Grocery (0 vs 10 penalty)     14.237206   6.315696e-46\n",
       "4           Grocery (0 vs 20 penalty)     43.258375   0.000000e+00\n",
       "5          Grocery (10 vs 20 penalty)     29.605611  3.670960e-191\n",
       "6        Restaurant (0 vs 10 penalty)     10.657443   1.763382e-26\n",
       "7        Restaurant (0 vs 20 penalty)     28.907537  2.445033e-181\n",
       "8       Restaurant (10 vs 20 penalty)     18.718835   8.628687e-78"
      ]
     },
     "execution_count": 157,
     "metadata": {},
     "output_type": "execute_result"
    }
   ],
   "source": [
    "results_greater1_df"
   ]
  },
  {
   "cell_type": "code",
   "execution_count": 159,
   "id": "70ad677a-dafb-4737-8f42-f4d0e0c98bf4",
   "metadata": {},
   "outputs": [
    {
     "data": {
      "text/html": [
       "<div>\n",
       "<style scoped>\n",
       "    .dataframe tbody tr th:only-of-type {\n",
       "        vertical-align: middle;\n",
       "    }\n",
       "\n",
       "    .dataframe tbody tr th {\n",
       "        vertical-align: top;\n",
       "    }\n",
       "\n",
       "    .dataframe thead th {\n",
       "        text-align: right;\n",
       "    }\n",
       "</style>\n",
       "<table border=\"1\" class=\"dataframe\">\n",
       "  <thead>\n",
       "    <tr style=\"text-align: right;\">\n",
       "      <th></th>\n",
       "      <th>Comparison</th>\n",
       "      <th>t-test Value</th>\n",
       "      <th>p-value</th>\n",
       "    </tr>\n",
       "  </thead>\n",
       "  <tbody>\n",
       "    <tr>\n",
       "      <th>0</th>\n",
       "      <td>Grocery vs Restaurant (0 penalty)</td>\n",
       "      <td>-19.610049</td>\n",
       "      <td>1.753949e-85</td>\n",
       "    </tr>\n",
       "    <tr>\n",
       "      <th>1</th>\n",
       "      <td>Grocery vs Restaurant (10 penalty)</td>\n",
       "      <td>-23.651375</td>\n",
       "      <td>2.298111e-123</td>\n",
       "    </tr>\n",
       "    <tr>\n",
       "      <th>2</th>\n",
       "      <td>Grocery vs Restaurant (20 penalty)</td>\n",
       "      <td>-31.791330</td>\n",
       "      <td>1.008488e-220</td>\n",
       "    </tr>\n",
       "    <tr>\n",
       "      <th>3</th>\n",
       "      <td>Grocery (0 vs 10 penalty)</td>\n",
       "      <td>25.476606</td>\n",
       "      <td>5.218444e-143</td>\n",
       "    </tr>\n",
       "    <tr>\n",
       "      <th>4</th>\n",
       "      <td>Grocery (0 vs 20 penalty)</td>\n",
       "      <td>78.195678</td>\n",
       "      <td>0.000000e+00</td>\n",
       "    </tr>\n",
       "    <tr>\n",
       "      <th>5</th>\n",
       "      <td>Grocery (10 vs 20 penalty)</td>\n",
       "      <td>53.235833</td>\n",
       "      <td>0.000000e+00</td>\n",
       "    </tr>\n",
       "    <tr>\n",
       "      <th>6</th>\n",
       "      <td>Restaurant (0 vs 10 penalty)</td>\n",
       "      <td>14.182067</td>\n",
       "      <td>1.284723e-45</td>\n",
       "    </tr>\n",
       "    <tr>\n",
       "      <th>7</th>\n",
       "      <td>Restaurant (0 vs 20 penalty)</td>\n",
       "      <td>44.271996</td>\n",
       "      <td>0.000000e+00</td>\n",
       "    </tr>\n",
       "    <tr>\n",
       "      <th>8</th>\n",
       "      <td>Restaurant (10 vs 20 penalty)</td>\n",
       "      <td>30.304016</td>\n",
       "      <td>5.898191e-201</td>\n",
       "    </tr>\n",
       "  </tbody>\n",
       "</table>\n",
       "</div>"
      ],
      "text/plain": [
       "                           Comparison  t-test Value        p-value\n",
       "0   Grocery vs Restaurant (0 penalty)    -19.610049   1.753949e-85\n",
       "1  Grocery vs Restaurant (10 penalty)    -23.651375  2.298111e-123\n",
       "2  Grocery vs Restaurant (20 penalty)    -31.791330  1.008488e-220\n",
       "3           Grocery (0 vs 10 penalty)     25.476606  5.218444e-143\n",
       "4           Grocery (0 vs 20 penalty)     78.195678   0.000000e+00\n",
       "5          Grocery (10 vs 20 penalty)     53.235833   0.000000e+00\n",
       "6        Restaurant (0 vs 10 penalty)     14.182067   1.284723e-45\n",
       "7        Restaurant (0 vs 20 penalty)     44.271996   0.000000e+00\n",
       "8       Restaurant (10 vs 20 penalty)     30.304016  5.898191e-201"
      ]
     },
     "execution_count": 159,
     "metadata": {},
     "output_type": "execute_result"
    }
   ],
   "source": [
    "results_df"
   ]
  },
  {
   "cell_type": "code",
   "execution_count": 366,
   "id": "3a707d2b-37ba-4a76-a465-f72205d5177d",
   "metadata": {},
   "outputs": [
    {
     "data": {
      "text/plain": [
       "(141521, 141770)"
      ]
     },
     "execution_count": 366,
     "metadata": {},
     "output_type": "execute_result"
    }
   ],
   "source": [
    "len(df_0_ratio_grocery), len(df_10_ratio_grocery)"
   ]
  },
  {
   "cell_type": "code",
   "execution_count": 368,
   "id": "5d38ace9-1324-4e7d-be28-186dd9dea646",
   "metadata": {},
   "outputs": [
    {
     "data": {
      "text/plain": [
       "(62345, 62202)"
      ]
     },
     "execution_count": 368,
     "metadata": {},
     "output_type": "execute_result"
    }
   ],
   "source": [
    "len(df_0_ratio_restaurant), len(df_10_ratio_restaurant)"
   ]
  },
  {
   "cell_type": "code",
   "execution_count": 231,
   "id": "9a254b04-a2a7-4740-87c4-8d71bfb042ac",
   "metadata": {},
   "outputs": [
    {
     "data": {
      "text/plain": [
       "(0.16697103472147412,\n",
       " 0.1349827669265178,\n",
       " 0.35074448305646044,\n",
       " 0.3166456851348647)"
      ]
     },
     "execution_count": 231,
     "metadata": {},
     "output_type": "execute_result"
    }
   ],
   "source": [
    "df_0_ratio_grocery.mean(), df_10_ratio_grocery.mean(), df_0_ratio_grocery.std(), df_10_ratio_grocery.std()"
   ]
  },
  {
   "cell_type": "code",
   "execution_count": 233,
   "id": "df481ece-d7b1-4d4c-8991-f0238bed35c4",
   "metadata": {},
   "outputs": [
    {
     "data": {
      "text/plain": [
       "0.8084202577511949"
      ]
     },
     "execution_count": 233,
     "metadata": {},
     "output_type": "execute_result"
    }
   ],
   "source": [
    "df_10_ratio_grocery.mean()/df_0_ratio_grocery.mean()"
   ]
  },
  {
   "cell_type": "code",
   "execution_count": 242,
   "id": "c539a8e1-71d1-4c47-9ad6-4fc2a765e8bb",
   "metadata": {},
   "outputs": [
    {
     "data": {
      "text/plain": [
       "0.9027816556815043"
      ]
     },
     "execution_count": 242,
     "metadata": {},
     "output_type": "execute_result"
    }
   ],
   "source": [
    "df_10_ratio_grocery.std()/df_0_ratio_grocery.std()"
   ]
  },
  {
   "cell_type": "code",
   "execution_count": 229,
   "id": "603d95ed-bd24-4bc3-b09e-8aaaecb475e4",
   "metadata": {},
   "outputs": [
    {
     "data": {
      "text/plain": [
       "(0.20106813400147266,\n",
       " 0.17272698719539534,\n",
       " 0.3664568365773622,\n",
       " 0.33826361304527)"
      ]
     },
     "execution_count": 229,
     "metadata": {},
     "output_type": "execute_result"
    }
   ],
   "source": [
    "df_0_ratio_restaurant.mean(), df_10_ratio_restaurant.mean(), df_0_ratio_restaurant.std(), df_10_ratio_restaurant.std()"
   ]
  },
  {
   "cell_type": "code",
   "execution_count": 235,
   "id": "f8299d68-1e24-4204-8697-0386610a46bc",
   "metadata": {},
   "outputs": [
    {
     "data": {
      "text/plain": [
       "0.8590470491665788"
      ]
     },
     "execution_count": 235,
     "metadata": {},
     "output_type": "execute_result"
    }
   ],
   "source": [
    "df_10_ratio_restaurant.mean()/df_0_ratio_restaurant.mean()"
   ]
  },
  {
   "cell_type": "code",
   "execution_count": 244,
   "id": "38e38eb4-b088-4fa3-aa94-181d4c95acb4",
   "metadata": {},
   "outputs": [
    {
     "data": {
      "text/plain": [
       "0.9230653634534106"
      ]
     },
     "execution_count": 244,
     "metadata": {},
     "output_type": "execute_result"
    }
   ],
   "source": [
    "df_10_ratio_restaurant.std()/df_0_ratio_restaurant.std()"
   ]
  },
  {
   "cell_type": "markdown",
   "id": "9d6d4028-d19c-49e5-8a12-012861559c3f",
   "metadata": {},
   "source": [
    "The t statistics indicates that introducing a penalty fee impacts grocery deliveries more than restaurant deliveries, e.g., Grocery (0 vs 10 penalty) has a t statistic of 18.273679 and Restaurant (0 vs 10 penalty) has a t statistic of 12.108359. Why is this the case?\n",
    "\n",
    "When looking at the avg cancellation rate and standard deviation for these groups, it shows that the grocery deliveries are MORE impacted by the penalty fee, e.g., the ratio for the difference of average means between the 0 and 10 grocery groups is about 0.808, while the ratio for the 0 and 10 restaurant groups is about 0.859. Having a ratio further away from 1 means that there is a larger difference between the two average means. The grocery ratio is further away, so having the 10 penalty for cancellation reduces the average rate of cancellation for grocery deliveries more than the restaurant group. This ratio difference is also for the standard deviations of both the grocery and restaurant groups, i.e., by imposing the penalty, the grocery group gets a greater reduction in the variance than the restaurant group (e.g., a standard deviation ratio of 0.902 for the grocery group versus a ratio of 0.923 for the restaurant group). "
   ]
  },
  {
   "cell_type": "markdown",
   "id": "cfcce0cd-22ad-493c-b134-b25f05b5b9be",
   "metadata": {},
   "source": [
    "The average cancellation rate for grocery deliveries already remains lower than the restaurant group (e.g., 0.166 vs 0.201), so the restaurant originally begins with a higher cancellation rate before the penalty is imposed. So why would groceries be not as cancelled as the restaurants?"
   ]
  },
  {
   "cell_type": "markdown",
   "id": "f8dfe956-11b9-4047-ab9b-6fdb082a7640",
   "metadata": {},
   "source": [
    "Furthermore, it is interesting to note that the cancel ratio t tests are more similar to the grocery than restaurant group comparisons. For instance, the regular cancellation rate between each groups is given below, e.g., between the 0 and 10 penalty groups, there is a 27.449 t statistic. This value is much closer to the Grocery (0 vs 10 penalty)\tgroup with a t statistic of 25.476606 than the Restaurant (0 vs 10 penalty) group with a t statistic of 14.182067. This is consistent with the rest of the groups. So, the grocery t statistic are generally larger and more closely aligned with the cancellation rate t-tests, which suggests that grocery cancellations might be more sensitive to changes in penalty levels than restaurant cancellations. Hence, as the penalty increases, the reduction in cancellations for groceries becomes greater."
   ]
  },
  {
   "cell_type": "markdown",
   "id": "b91af73a-c58b-436d-8369-c0c93535bf12",
   "metadata": {},
   "source": [
    "So, the major question remains:\n",
    "### Why does imposing a penalty fee reduce the cancellation rate for grocery deliveries MORE than the restaurant deliveries?"
   ]
  },
  {
   "cell_type": "code",
   "execution_count": 210,
   "id": "89e7cd88-5f09-4017-9662-3c2bcd94e4f9",
   "metadata": {},
   "outputs": [
    {
     "name": "stdout",
     "output_type": "stream",
     "text": [
      "between 0 and 10 penalty (27.44918743790098, 1.0656216309572848e-165)\n",
      "between 0 and 20 penalty (85.85966923311122, 0.0)\n",
      "between 10 and 20 penalty (58.961269253935605, 0.0)\n"
     ]
    }
   ],
   "source": [
    "# cancel ratio without dividing between grocery and delivery\n",
    "print(f\"between 0 and 10 penalty {t_test_1, p_value_1}\")\n",
    "print(f\"between 0 and 20 penalty {t_test_2, p_value_2}\")\n",
    "print(f\"between 10 and 20 penalty {t_test_3, p_value_3}\")"
   ]
  },
  {
   "cell_type": "markdown",
   "id": "a4d91cfd-2bc6-436c-83fa-a647174d9325",
   "metadata": {},
   "source": [
    "### Another question: What is the impact of expected profit between the two segments?"
   ]
  },
  {
   "cell_type": "code",
   "execution_count": null,
   "id": "195870bd-ec61-4225-a782-51ae26110ebc",
   "metadata": {},
   "outputs": [],
   "source": []
  },
  {
   "cell_type": "markdown",
   "id": "928922cd-751f-4683-aa61-e24e83ee5960",
   "metadata": {},
   "source": [
    "### The cancellation rate without segments"
   ]
  },
  {
   "cell_type": "code",
   "execution_count": 189,
   "id": "90b0c36c-0682-4b77-b229-64af85990e26",
   "metadata": {},
   "outputs": [],
   "source": [
    "total_cancelled_20 = df_20.groupby('driver.id').agg(total_cancelled=('cancel.dummy', lambda x: (x == 1).sum()))"
   ]
  },
  {
   "cell_type": "code",
   "execution_count": 190,
   "id": "a6780b72-8d8f-418e-a6f0-a19009dd3afa",
   "metadata": {},
   "outputs": [],
   "source": [
    "total_cancelled_10 = df_10.groupby('driver.id').agg(total_cancelled=('cancel.dummy', lambda x: (x == 1).sum()))"
   ]
  },
  {
   "cell_type": "code",
   "execution_count": 191,
   "id": "2bed59e5-de95-41bb-a942-5421fcce046e",
   "metadata": {},
   "outputs": [],
   "source": [
    "total_cancelled_0 = df_0.groupby('driver.id').agg(total_cancelled=('cancel.dummy', lambda x: (x == 1).sum()))"
   ]
  },
  {
   "cell_type": "code",
   "execution_count": 192,
   "id": "dc013f9d-f790-4018-ba2b-1a9f1f1a8475",
   "metadata": {},
   "outputs": [],
   "source": [
    "total_orders_20 = df_20.groupby('driver.id')['cancel.dummy'].count()\n",
    "total_orders_10 = df_10.groupby('driver.id')['cancel.dummy'].count()\n",
    "total_orders_0 = df_0.groupby('driver.id')['cancel.dummy'].count()"
   ]
  },
  {
   "cell_type": "code",
   "execution_count": 193,
   "id": "2aa4c5d3-ec83-49d7-9c0b-09d8eacce616",
   "metadata": {},
   "outputs": [],
   "source": [
    "total_cancelled_sparse_20 = csr_matrix(total_cancelled_20).reshape(-1, 1)\n",
    "total_orders_sparse_20 = csr_matrix(total_orders_20).reshape(-1, 1)\n",
    "ratio_20 = total_cancelled_sparse_20/total_orders_sparse_20\n",
    "ratio_20 = np.array(ratio_20).reshape(1,-1)\n",
    "series_20 = pd.Series(ratio_20.flatten())\n",
    "series_20.index = total_orders_20.index\n",
    "df_20_ratio = series_20"
   ]
  },
  {
   "cell_type": "code",
   "execution_count": 194,
   "id": "7c7828b0-5350-42b9-b9db-fad7a5d52c14",
   "metadata": {},
   "outputs": [],
   "source": [
    "total_cancelled_sparse_10 = csr_matrix(total_cancelled_10).reshape(-1, 1)\n",
    "total_orders_sparse_10 = csr_matrix(total_orders_10).reshape(-1, 1)\n",
    "ratio_10 = total_cancelled_sparse_10/total_orders_sparse_10\n",
    "ratio_10 = np.array(ratio_10).reshape(1,-1)\n",
    "series_10 = pd.Series(ratio_10.flatten())\n",
    "series_10.index = total_orders_10.index\n",
    "df_10_ratio = series_10"
   ]
  },
  {
   "cell_type": "code",
   "execution_count": 195,
   "id": "53fc7f55-42f4-426a-a746-8e3f8b83574d",
   "metadata": {},
   "outputs": [],
   "source": [
    "total_cancelled_sparse_0 = csr_matrix(total_cancelled_0).reshape(-1, 1)\n",
    "total_orders_sparse_0 = csr_matrix(total_orders_0).reshape(-1, 1)\n",
    "ratio_0 = total_cancelled_sparse_0/total_orders_sparse_0\n",
    "ratio_0 = np.array(ratio_0).reshape(1,-1)\n",
    "series_0 = pd.Series(ratio_0.flatten())\n",
    "series_0.index = total_orders_0.index\n",
    "df_0_ratio = series_0"
   ]
  },
  {
   "cell_type": "code",
   "execution_count": 196,
   "id": "5596e0fc-0f17-4e01-a04d-d23d74128532",
   "metadata": {},
   "outputs": [],
   "source": [
    "### cancel rate ratio between groups\n",
    "# between 0 and 10 penalty\n",
    "t_test_1, p_value_1 = stats.ttest_ind(df_0_ratio, df_10_ratio, equal_var = False)\n",
    "# between 0 and 20 penalty\n",
    "t_test_2, p_value_2 = stats.ttest_ind(df_0_ratio, df_20_ratio, equal_var = False)\n",
    "# between 10 and 20 penalty\n",
    "t_test_3, p_value_3 = stats.ttest_ind(df_10_ratio, df_20_ratio, equal_var = False)"
   ]
  },
  {
   "cell_type": "code",
   "execution_count": 197,
   "id": "35cff074-e9bb-4f6b-a299-0e938930d623",
   "metadata": {},
   "outputs": [
    {
     "name": "stdout",
     "output_type": "stream",
     "text": [
      "27.44918743790098 1.0656216309572848e-165\n",
      "85.85966923311122 0.0\n",
      "58.961269253935605 0.0\n"
     ]
    }
   ],
   "source": [
    "print(t_test_1, p_value_1)\n",
    "print(t_test_2, p_value_2)\n",
    "print(t_test_3, p_value_3)"
   ]
  },
  {
   "cell_type": "code",
   "execution_count": null,
   "id": "5a065cba-06cd-487b-8f6d-a83a3e41d5f2",
   "metadata": {},
   "outputs": [],
   "source": []
  },
  {
   "cell_type": "code",
   "execution_count": null,
   "id": "0e685e7b-a177-48cf-b021-ce4effc8effc",
   "metadata": {},
   "outputs": [],
   "source": []
  },
  {
   "cell_type": "markdown",
   "id": "3bacf965-902a-46e0-9bf8-4c60d2ab1ef6",
   "metadata": {},
   "source": [
    "### Testing for average profit between grocery and restaurant segments, and within each segment."
   ]
  },
  {
   "cell_type": "code",
   "execution_count": 45,
   "id": "51041f0f-3f50-4a81-985c-f645896c3a74",
   "metadata": {},
   "outputs": [],
   "source": [
    "df_0_grocery_profit_mean = df_0_grocery.groupby('driver.id')['expected.profit'].mean()\n",
    "df_10_grocery_profit_mean = df_10_grocery.groupby('driver.id')['expected.profit'].mean()\n",
    "df_20_grocery_profit_mean = df_20_grocery.groupby('driver.id')['expected.profit'].mean()\n",
    "df_0_restaurant_profit_mean = df_0_restaurant.groupby('driver.id')['expected.profit'].mean()\n",
    "df_10_restaurant_profit_mean = df_10_restaurant.groupby('driver.id')['expected.profit'].mean()\n",
    "df_20_restaurant_profit_mean = df_20_restaurant.groupby('driver.id')['expected.profit'].mean()"
   ]
  },
  {
   "cell_type": "code",
   "execution_count": 509,
   "id": "d74018b8-a7fd-44cc-90e1-5d1bdd81b869",
   "metadata": {},
   "outputs": [],
   "source": [
    "### grocery vs restaurant mean profit\n",
    "# 0 penalty\n",
    "t_test_0_1, p_value_0_1 = stats.ttest_ind(df_0_grocery_profit_mean, df_0_restaurant_profit_mean, equal_var = False)\n",
    "# 10 penalty\n",
    "t_test_10_1, p_value_10_1 = stats.ttest_ind(df_10_grocery_profit_mean, df_10_restaurant_profit_mean, equal_var = False) \n",
    "# 20 penalty\n",
    "t_test_20_1, p_value_20_1 = stats.ttest_ind(df_20_grocery_profit_mean, df_20_restaurant_profit_mean, equal_var = False) \n",
    "\n",
    "### grocery vs grocery mean profit\n",
    "# between 0 and 10 penalty for grocery\n",
    "t_test_0_1_g, p_value_0_1_g = stats.ttest_ind(df_0_grocery_profit_mean, df_10_grocery_profit_mean, equal_var = False) \n",
    "# between 0 and 20 penalty for grocery\n",
    "t_test_10_1_g, p_value_10_1_g = stats.ttest_ind(df_0_grocery_profit_mean, df_20_grocery_profit_mean, equal_var = False) \n",
    "# between 10 and 20 penalty for grocery\n",
    "t_test_20_1_g, p_value_20_1_g = stats.ttest_ind(df_10_grocery_profit_mean, df_20_grocery_profit_mean, equal_var = False)\n",
    "\n",
    "### restaurant vs restaurant mean profit\n",
    "# between 0 and 10 penalty for restaurant\n",
    "t_test_0_1_r, p_value_0_1_r = stats.ttest_ind(df_0_restaurant_profit_mean, df_10_restaurant_profit_mean, equal_var = False) \n",
    "# between 0 and 20 penalty for restaurant\n",
    "t_test_10_1_r, p_value_10_1_r = stats.ttest_ind(df_0_restaurant_profit_mean, df_20_restaurant_profit_mean, equal_var = False) \n",
    "# between 10 and 20 penalty for restaurant\n",
    "t_test_20_1_r, p_value_20_1_r = stats.ttest_ind(df_10_restaurant_profit_mean, df_20_restaurant_profit_mean, equal_var = False)"
   ]
  },
  {
   "cell_type": "code",
   "execution_count": 513,
   "id": "85b04ac3-ac6e-43ff-9a2b-0ba8640eba04",
   "metadata": {},
   "outputs": [],
   "source": [
    "avg_profit_between_groc_rest = {\n",
    "    \"Comparison\": [\n",
    "        \"Grocery vs Restaurant (0 penalty)\",\n",
    "        \"Grocery vs Restaurant (10 penalty)\",\n",
    "        \"Grocery vs Restaurant (20 penalty)\",\n",
    "        \"Grocery vs Grocery (0 vs 10 penalty)\",\n",
    "        \"Grocery vs Grocery (0 vs 20 penalty)\",\n",
    "        \"Grocery vs Grocery (10 vs 20 penalty)\",\n",
    "        \"Restaurant vs Restaurant (0 vs 10 penalty)\",\n",
    "        \"Restaurant vs Restaurant (0 vs 20 penalty)\",\n",
    "        \"Restaurant vs Restaurant (10 vs 20 penalty)\"\n",
    "    ],\n",
    "    \"t-value\": [\n",
    "        t_test_0_1, t_test_10_1, t_test_20_1,\n",
    "        t_test_0_1_g, t_test_10_1_g, t_test_20_1_g,\n",
    "        t_test_0_1_r, t_test_10_1_r, t_test_20_1_r\n",
    "    ],\n",
    "    \"p-value\": [\n",
    "        p_value_0_1, p_value_10_1, p_value_20_1,\n",
    "        p_value_0_1_g, p_value_10_1_g, p_value_20_1_g,\n",
    "        p_value_0_1_r, p_value_10_1_r, p_value_20_1_r\n",
    "    ]\n",
    "}\n",
    "\n",
    "results_table = pd.DataFrame(avg_profit_between_groc_rest)"
   ]
  },
  {
   "cell_type": "code",
   "execution_count": 515,
   "id": "a8612bc5-2927-4de4-88a4-59707bc8e801",
   "metadata": {},
   "outputs": [
    {
     "data": {
      "text/html": [
       "<div>\n",
       "<style scoped>\n",
       "    .dataframe tbody tr th:only-of-type {\n",
       "        vertical-align: middle;\n",
       "    }\n",
       "\n",
       "    .dataframe tbody tr th {\n",
       "        vertical-align: top;\n",
       "    }\n",
       "\n",
       "    .dataframe thead th {\n",
       "        text-align: right;\n",
       "    }\n",
       "</style>\n",
       "<table border=\"1\" class=\"dataframe\">\n",
       "  <thead>\n",
       "    <tr style=\"text-align: right;\">\n",
       "      <th></th>\n",
       "      <th>Comparison</th>\n",
       "      <th>t-value</th>\n",
       "      <th>p-value</th>\n",
       "    </tr>\n",
       "  </thead>\n",
       "  <tbody>\n",
       "    <tr>\n",
       "      <th>0</th>\n",
       "      <td>Grocery vs Restaurant (0 penalty)</td>\n",
       "      <td>152.563394</td>\n",
       "      <td>0.000000e+00</td>\n",
       "    </tr>\n",
       "    <tr>\n",
       "      <th>1</th>\n",
       "      <td>Grocery vs Restaurant (10 penalty)</td>\n",
       "      <td>171.000264</td>\n",
       "      <td>0.000000e+00</td>\n",
       "    </tr>\n",
       "    <tr>\n",
       "      <th>2</th>\n",
       "      <td>Grocery vs Restaurant (20 penalty)</td>\n",
       "      <td>178.495276</td>\n",
       "      <td>0.000000e+00</td>\n",
       "    </tr>\n",
       "    <tr>\n",
       "      <th>3</th>\n",
       "      <td>Grocery vs Grocery (0 vs 10 penalty)</td>\n",
       "      <td>-29.281028</td>\n",
       "      <td>3.481300e-188</td>\n",
       "    </tr>\n",
       "    <tr>\n",
       "      <th>4</th>\n",
       "      <td>Grocery vs Grocery (0 vs 20 penalty)</td>\n",
       "      <td>-55.753416</td>\n",
       "      <td>0.000000e+00</td>\n",
       "    </tr>\n",
       "    <tr>\n",
       "      <th>5</th>\n",
       "      <td>Grocery vs Grocery (10 vs 20 penalty)</td>\n",
       "      <td>-27.026704</td>\n",
       "      <td>1.152017e-160</td>\n",
       "    </tr>\n",
       "    <tr>\n",
       "      <th>6</th>\n",
       "      <td>Restaurant vs Restaurant (0 vs 10 penalty)</td>\n",
       "      <td>-32.525802</td>\n",
       "      <td>4.510416e-231</td>\n",
       "    </tr>\n",
       "    <tr>\n",
       "      <th>7</th>\n",
       "      <td>Restaurant vs Restaurant (0 vs 20 penalty)</td>\n",
       "      <td>-58.352788</td>\n",
       "      <td>0.000000e+00</td>\n",
       "    </tr>\n",
       "    <tr>\n",
       "      <th>8</th>\n",
       "      <td>Restaurant vs Restaurant (10 vs 20 penalty)</td>\n",
       "      <td>-27.978545</td>\n",
       "      <td>1.017035e-171</td>\n",
       "    </tr>\n",
       "  </tbody>\n",
       "</table>\n",
       "</div>"
      ],
      "text/plain": [
       "                                    Comparison     t-value        p-value\n",
       "0            Grocery vs Restaurant (0 penalty)  152.563394   0.000000e+00\n",
       "1           Grocery vs Restaurant (10 penalty)  171.000264   0.000000e+00\n",
       "2           Grocery vs Restaurant (20 penalty)  178.495276   0.000000e+00\n",
       "3         Grocery vs Grocery (0 vs 10 penalty)  -29.281028  3.481300e-188\n",
       "4         Grocery vs Grocery (0 vs 20 penalty)  -55.753416   0.000000e+00\n",
       "5        Grocery vs Grocery (10 vs 20 penalty)  -27.026704  1.152017e-160\n",
       "6   Restaurant vs Restaurant (0 vs 10 penalty)  -32.525802  4.510416e-231\n",
       "7   Restaurant vs Restaurant (0 vs 20 penalty)  -58.352788   0.000000e+00\n",
       "8  Restaurant vs Restaurant (10 vs 20 penalty)  -27.978545  1.017035e-171"
      ]
     },
     "execution_count": 515,
     "metadata": {},
     "output_type": "execute_result"
    }
   ],
   "source": [
    "results_table"
   ]
  },
  {
   "cell_type": "code",
   "execution_count": 51,
   "id": "a3b64414-3daf-4303-b6e3-7fc867abb6de",
   "metadata": {},
   "outputs": [],
   "source": [
    "mean_0_g = df_0_grocery_profit_mean.mean()\n",
    "mean_10_g = df_10_grocery_profit_mean.mean()\n",
    "mean_20_g = df_20_grocery_profit_mean.mean()\n",
    "mean_0_r = df_0_restaurant_profit_mean.mean()\n",
    "mean_10_r = df_10_restaurant_profit_mean.mean()\n",
    "mean_20_r = df_20_restaurant_profit_mean.mean()\n",
    "std_0_g = df_0_grocery_profit_mean.std()\n",
    "std_10_g = df_10_grocery_profit_mean.std()\n",
    "std_20_g = df_20_grocery_profit_mean.std()\n",
    "std_0_r = df_0_restaurant_profit_mean.std()\n",
    "std_10_r = df_10_restaurant_profit_mean.std()\n",
    "std_20_r = df_20_restaurant_profit_mean.std()"
   ]
  },
  {
   "cell_type": "code",
   "execution_count": 55,
   "id": "f7d6910e-d85b-40d5-a97c-70fa467ed972",
   "metadata": {},
   "outputs": [
    {
     "data": {
      "text/plain": [
       "(15.226250413782463, 16.53396399943229, 17.68544789454814)"
      ]
     },
     "execution_count": 55,
     "metadata": {},
     "output_type": "execute_result"
    }
   ],
   "source": [
    "mean_0_g, mean_10_g, mean_20_g"
   ]
  },
  {
   "cell_type": "code",
   "execution_count": 61,
   "id": "10902658-9b79-453e-bb0e-93d9e41cf25c",
   "metadata": {},
   "outputs": [
    {
     "data": {
      "text/plain": [
       "(12.235265280117646, 11.470494547517514, 11.166649996175947)"
      ]
     },
     "execution_count": 61,
     "metadata": {},
     "output_type": "execute_result"
    }
   ],
   "source": [
    "std_0_g, std_10_g, std_20_g"
   ]
  },
  {
   "cell_type": "code",
   "execution_count": 59,
   "id": "cfb29df8-d7c7-4577-a994-24efb8cd1f68",
   "metadata": {},
   "outputs": [
    {
     "data": {
      "text/plain": [
       "(8.707097361421582, 9.896782036371459, 10.84897035875083)"
      ]
     },
     "execution_count": 59,
     "metadata": {},
     "output_type": "execute_result"
    }
   ],
   "source": [
    "mean_0_r, mean_10_r, mean_20_r"
   ]
  },
  {
   "cell_type": "code",
   "execution_count": null,
   "id": "c9012692-3467-4ea4-b882-ea0d230c2aec",
   "metadata": {},
   "outputs": [],
   "source": []
  },
  {
   "cell_type": "code",
   "execution_count": 557,
   "id": "4535d4fa-3848-4d18-a2df-593d55c5797f",
   "metadata": {},
   "outputs": [
    {
     "data": {
      "text/plain": [
       "(1.0858854642549498, 0.9374945524194814)"
      ]
     },
     "execution_count": 557,
     "metadata": {},
     "output_type": "execute_result"
    }
   ],
   "source": [
    "mean_10_g/mean_0_g, std_10_g/std_0_g"
   ]
  },
  {
   "cell_type": "code",
   "execution_count": 559,
   "id": "00891727-0588-4e54-8279-f64aefd1a052",
   "metadata": {},
   "outputs": [
    {
     "data": {
      "text/plain": [
       "(1.0696435467716867, 0.973510771476952)"
      ]
     },
     "execution_count": 559,
     "metadata": {},
     "output_type": "execute_result"
    }
   ],
   "source": [
    "mean_20_g/mean_10_g, std_20_g/std_10_g"
   ]
  },
  {
   "cell_type": "code",
   "execution_count": 561,
   "id": "7f2ef8d0-d6a7-4154-bcaf-2827cd4fea1b",
   "metadata": {},
   "outputs": [
    {
     "data": {
      "text/plain": [
       "(1.1366339005488784, 0.8663878727359996)"
      ]
     },
     "execution_count": 561,
     "metadata": {},
     "output_type": "execute_result"
    }
   ],
   "source": [
    "mean_10_r/mean_0_r, std_10_r/std_0_r"
   ]
  },
  {
   "cell_type": "code",
   "execution_count": 567,
   "id": "f65bcbd7-79c7-454e-a68a-8662cbb15b31",
   "metadata": {},
   "outputs": [
    {
     "data": {
      "text/plain": [
       "(1.0962119120012952, 1.0055217503242817)"
      ]
     },
     "execution_count": 567,
     "metadata": {},
     "output_type": "execute_result"
    }
   ],
   "source": [
    "mean_20_r/mean_10_r, std_20_r/std_10_r"
   ]
  },
  {
   "cell_type": "markdown",
   "id": "251d2c00-95ce-4c07-852f-2026242a823d",
   "metadata": {},
   "source": [
    "### Compare against profit without segments of grocery and restaurant"
   ]
  },
  {
   "cell_type": "code",
   "execution_count": 63,
   "id": "f2bb1b2a-0333-4201-b544-88aebd93a8a3",
   "metadata": {},
   "outputs": [],
   "source": [
    "profit_mean_0 = df_0.groupby('driver.id')['expected.profit'].sum()\n",
    "profit_mean_10 = df_10.groupby('driver.id')['expected.profit'].sum()\n",
    "profit_mean_20 = df_20.groupby('driver.id')['expected.profit'].sum()"
   ]
  },
  {
   "cell_type": "code",
   "execution_count": 67,
   "id": "59e27b13-66c2-4b5c-91db-4e8a65b7473f",
   "metadata": {},
   "outputs": [
    {
     "data": {
      "text/plain": [
       "(13.664747022733689, 14.942234063647941, 16.061971061017825)"
      ]
     },
     "execution_count": 67,
     "metadata": {},
     "output_type": "execute_result"
    }
   ],
   "source": [
    "profit_mean_0.mean(), profit_mean_10.mean(), profit_mean_20.mean()"
   ]
  },
  {
   "cell_type": "code",
   "execution_count": 69,
   "id": "388aa22d-5067-45ab-8786-3203417436be",
   "metadata": {},
   "outputs": [
    {
     "data": {
      "text/plain": [
       "(11.507145327284867, 10.813149196575065, 10.609135258842917)"
      ]
     },
     "execution_count": 69,
     "metadata": {},
     "output_type": "execute_result"
    }
   ],
   "source": [
    "profit_mean_0.std(), profit_mean_10.std(), profit_mean_20.std()"
   ]
  },
  {
   "cell_type": "code",
   "execution_count": 576,
   "id": "7f38d4b4-e9eb-4577-b180-ccb7602a0b45",
   "metadata": {},
   "outputs": [],
   "source": [
    "# 0 penalty\n",
    "t_test_0_2, p_value_0_2 = stats.ttest_ind(profit_mean_0, profit_mean_10, equal_var = False)\n",
    "# 10 penalty\n",
    "t_test_10_2, p_value_10_2 = stats.ttest_ind(profit_mean_0, profit_mean_20, equal_var = False) \n",
    "# 20 penalty\n",
    "t_test_20_2, p_value_20_2 = stats.ttest_ind(profit_mean_10, profit_mean_20, equal_var = False) "
   ]
  },
  {
   "cell_type": "code",
   "execution_count": 578,
   "id": "655a64d0-85e5-4ff0-ae94-e161d6252d47",
   "metadata": {},
   "outputs": [
    {
     "data": {
      "text/plain": [
       "(-33.97829876476105, 1.2025316026422955e-252)"
      ]
     },
     "execution_count": 578,
     "metadata": {},
     "output_type": "execute_result"
    }
   ],
   "source": [
    "t_test_0_2, p_value_0_2"
   ]
  },
  {
   "cell_type": "code",
   "execution_count": 580,
   "id": "1d3b47a0-4e95-4734-b275-b8e17c7b2241",
   "metadata": {},
   "outputs": [
    {
     "data": {
      "text/plain": [
       "(-64.32316600443902, 0.0)"
      ]
     },
     "execution_count": 580,
     "metadata": {},
     "output_type": "execute_result"
    }
   ],
   "source": [
    "t_test_10_2, p_value_10_2"
   ]
  },
  {
   "cell_type": "code",
   "execution_count": 582,
   "id": "9ffecfb9-d923-4d39-a454-677a628c9c35",
   "metadata": {},
   "outputs": [
    {
     "data": {
      "text/plain": [
       "(-31.038930625443125, 3.1085795144043285e-211)"
      ]
     },
     "execution_count": 582,
     "metadata": {},
     "output_type": "execute_result"
    }
   ],
   "source": [
    "t_test_20_2, p_value_20_2 "
   ]
  },
  {
   "cell_type": "code",
   "execution_count": null,
   "id": "bc402163-5a5c-4df3-af8b-3fe3cfe095c7",
   "metadata": {},
   "outputs": [],
   "source": []
  },
  {
   "cell_type": "markdown",
   "id": "7a87ed74-fe97-41ba-93d1-2deddd2e9df7",
   "metadata": {},
   "source": [
    "### Looking at the time placed for orders and comparing against those cancelled"
   ]
  },
  {
   "cell_type": "code",
   "execution_count": 248,
   "id": "80c1e521-3b86-4889-a4e4-ff5c11f3180d",
   "metadata": {},
   "outputs": [],
   "source": [
    "df_time = df.copy()"
   ]
  },
  {
   "cell_type": "code",
   "execution_count": 250,
   "id": "c857f678-ce1c-4f39-8519-eb330629d37f",
   "metadata": {},
   "outputs": [],
   "source": [
    "df_time['time_of_day'] = df['order.placed.time'].dt.strftime('%H:%M')"
   ]
  },
  {
   "cell_type": "code",
   "execution_count": 85,
   "id": "5653e28a-8cb6-4da8-a958-fd43b3186abe",
   "metadata": {},
   "outputs": [],
   "source": [
    "bins = pd.date_range('00:00', '23:59', freq='h').time\n",
    "df_time['time_interval'] = pd.cut(pd.to_datetime(df_time['time_of_day'], format='%H:%M').dt.hour, bins=range(24), right=False, labels=[f'{i}:00-{i+1}:00' for i in range(23)])"
   ]
  },
  {
   "cell_type": "code",
   "execution_count": 89,
   "id": "69a58967-2f40-4ed9-bef2-8f802a73f9a4",
   "metadata": {},
   "outputs": [],
   "source": [
    "df_time.drop(columns='order.id', inplace=True)             "
   ]
  },
  {
   "cell_type": "code",
   "execution_count": 93,
   "id": "3892cf69-1f84-408e-8898-5ee854a34242",
   "metadata": {},
   "outputs": [
    {
     "data": {
      "text/plain": [
       "time_interval\n",
       "0:00-1:00      34929\n",
       "1:00-2:00      24098\n",
       "2:00-3:00      13565\n",
       "3:00-4:00       8775\n",
       "4:00-5:00      12687\n",
       "5:00-6:00      18608\n",
       "6:00-7:00      32934\n",
       "7:00-8:00      63061\n",
       "8:00-9:00      79085\n",
       "9:00-10:00     77032\n",
       "10:00-11:00    63217\n",
       "11:00-12:00    61341\n",
       "12:00-13:00    60352\n",
       "13:00-14:00    60203\n",
       "14:00-15:00    63040\n",
       "15:00-16:00    72834\n",
       "16:00-17:00    82327\n",
       "17:00-18:00    95915\n",
       "18:00-19:00    98796\n",
       "19:00-20:00    89730\n",
       "20:00-21:00    82446\n",
       "21:00-22:00    79190\n",
       "22:00-23:00    71457\n",
       "Name: count, dtype: int64"
      ]
     },
     "execution_count": 93,
     "metadata": {},
     "output_type": "execute_result"
    }
   ],
   "source": [
    "df_time['time_interval'].value_counts().sort_index()"
   ]
  },
  {
   "cell_type": "code",
   "execution_count": 688,
   "id": "732f321b-de41-4c38-9e17-727d5edf762c",
   "metadata": {},
   "outputs": [],
   "source": [
    "df_incompleted_time_orders = df_time[df_time['delivery.completed.time'].isna()]"
   ]
  },
  {
   "cell_type": "code",
   "execution_count": 696,
   "id": "25e9c845-bd8b-4b23-96e4-1e43e09d1795",
   "metadata": {},
   "outputs": [
    {
     "data": {
      "text/plain": [
       "time_interval\n",
       "0:00-1:00      0.148215\n",
       "1:00-2:00      0.165864\n",
       "2:00-3:00      0.177147\n",
       "3:00-4:00      0.170598\n",
       "4:00-5:00      0.309529\n",
       "5:00-6:00      0.183093\n",
       "6:00-7:00      0.155341\n",
       "7:00-8:00      0.237770\n",
       "8:00-9:00      0.195410\n",
       "9:00-10:00     0.136164\n",
       "10:00-11:00    0.118623\n",
       "11:00-12:00    0.121517\n",
       "12:00-13:00    0.123459\n",
       "13:00-14:00    0.120243\n",
       "14:00-15:00    0.125523\n",
       "15:00-16:00    0.150246\n",
       "16:00-17:00    0.140379\n",
       "17:00-18:00    0.165542\n",
       "18:00-19:00    0.140016\n",
       "19:00-20:00    0.124384\n",
       "20:00-21:00    0.131310\n",
       "21:00-22:00    0.140384\n",
       "22:00-23:00    0.154694\n",
       "Name: count, dtype: float64"
      ]
     },
     "execution_count": 696,
     "metadata": {},
     "output_type": "execute_result"
    }
   ],
   "source": [
    "df_incompleted_time_orders['time_interval'].value_counts().sort_index() / df_time['time_interval'].value_counts().sort_index()"
   ]
  },
  {
   "cell_type": "markdown",
   "id": "2918e2fd-413b-4ab2-bd50-f19b51ab7b0e",
   "metadata": {},
   "source": [
    "### checking the times when the orders were cancelled for each segment"
   ]
  },
  {
   "cell_type": "code",
   "execution_count": 99,
   "id": "c8b29054-0cef-42f0-b8d4-a11ef40b0b84",
   "metadata": {},
   "outputs": [],
   "source": [
    "df_time_0 = df_time[df_time['penalty.variant'] == 0]\n",
    "df_time_10 = df_time[df_time['penalty.variant'] == 10]\n",
    "df_time_20 = df_time[df_time['penalty.variant'] == 20]"
   ]
  },
  {
   "cell_type": "code",
   "execution_count": 101,
   "id": "ec47ac9c-51f8-4aa6-b607-14c4932b700f",
   "metadata": {},
   "outputs": [],
   "source": [
    "df_time_0_grocery = df_time_0[df_time_0['business.type'] == 'grocery']\n",
    "df_time_10_grocery = df_time_10[df_time_10['business.type'] == 'grocery']\n",
    "df_time_20_grocery = df_time_20[df_time_20['business.type'] == 'grocery']\n",
    "df_time_0_restaurant = df_time_0[df_time_0['business.type'] == 'restaurant']\n",
    "df_time_10_restaurant = df_time_10[df_time_10['business.type'] == 'restaurant']\n",
    "df_time_20_restaurant = df_time_20[df_time_20['business.type'] == 'restaurant']"
   ]
  },
  {
   "cell_type": "code",
   "execution_count": 107,
   "id": "5b49c8b4-816e-4448-a358-a30ef133d383",
   "metadata": {},
   "outputs": [],
   "source": [
    "df_incompleted_time_0_g = df_time_0_grocery[df_time_0_grocery['delivery.completed.time'].isna()]\n",
    "df_incompleted_time_10_g = df_time_10_grocery[df_time_10_grocery['delivery.completed.time'].isna()]\n",
    "df_incompleted_time_20_g = df_time_20_grocery[df_time_20_grocery['delivery.completed.time'].isna()]\n",
    "df_incompleted_time_0_r = df_time_0_restaurant[df_time_0_restaurant['delivery.completed.time'].isna()]\n",
    "df_incompleted_time_10_r = df_time_10_restaurant[df_time_10_restaurant['delivery.completed.time'].isna()]\n",
    "df_incompleted_time_20_r = df_time_20_restaurant[df_time_20_restaurant['delivery.completed.time'].isna()]"
   ]
  },
  {
   "cell_type": "code",
   "execution_count": 131,
   "id": "f38e4e4a-65b1-47ee-b878-389c96aaca57",
   "metadata": {},
   "outputs": [],
   "source": [
    "cancelled_orders_per_hour_20_r = df_incompleted_time_20_r['time_interval'].value_counts().sort_index()\n",
    "cancelled_orders_per_hour_10_r = df_incompleted_time_10_r['time_interval'].value_counts().sort_index()\n",
    "cancelled_orders_per_hour_0_r = df_incompleted_time_0_r['time_interval'].value_counts().sort_index()\n",
    "total_orders_per_hour_20_r = df_time_20_restaurant['time_interval'].value_counts().sort_index()\n",
    "total_orders_per_hour_10_r = df_time_10_restaurant['time_interval'].value_counts().sort_index()\n",
    "total_orders_per_hour_0_r = df_time_0_restaurant['time_interval'].value_counts().sort_index()"
   ]
  },
  {
   "cell_type": "code",
   "execution_count": 133,
   "id": "898af598-d5d3-4480-8142-7b512d764a18",
   "metadata": {},
   "outputs": [],
   "source": [
    "cancelled_orders_per_hour_20_g = df_incompleted_time_20_g['time_interval'].value_counts().sort_index()\n",
    "cancelled_orders_per_hour_10_g = df_incompleted_time_10_g['time_interval'].value_counts().sort_index()\n",
    "cancelled_orders_per_hour_0_g = df_incompleted_time_0_g['time_interval'].value_counts().sort_index()\n",
    "total_orders_per_hour_20_g = df_time_20_grocery['time_interval'].value_counts().sort_index()\n",
    "total_orders_per_hour_10_g = df_time_10_grocery['time_interval'].value_counts().sort_index()\n",
    "total_orders_per_hour_0_g = df_time_0_grocery['time_interval'].value_counts().sort_index()"
   ]
  },
  {
   "cell_type": "code",
   "execution_count": 146,
   "id": "1864edfa-c927-48a2-a357-9a387bb923fa",
   "metadata": {},
   "outputs": [],
   "source": [
    "ratio_cancellation_per_hour_0_g = cancelled_orders_per_hour_0_g / total_orders_per_hour_0_g\n",
    "ratio_cancellation_per_hour_10_g = cancelled_orders_per_hour_10_g / total_orders_per_hour_10_g\n",
    "ratio_cancellation_per_hour_20_g = cancelled_orders_per_hour_20_g / total_orders_per_hour_20_g\n",
    "ratio_cancellation_per_hour_0_r = cancelled_orders_per_hour_0_r / total_orders_per_hour_0_r\n",
    "ratio_cancellation_per_hour_10_r = cancelled_orders_per_hour_10_r / total_orders_per_hour_10_r\n",
    "ratio_cancellation_per_hour_20_r = cancelled_orders_per_hour_20_r / total_orders_per_hour_20_r"
   ]
  },
  {
   "cell_type": "code",
   "execution_count": 262,
   "id": "d2042e46-5a23-4824-bd5c-6e8290075e48",
   "metadata": {},
   "outputs": [
    {
     "data": {
      "text/plain": [
       "time_interval\n",
       "0:00-1:00      0.093172\n",
       "1:00-2:00      0.112991\n",
       "2:00-3:00      0.118618\n",
       "3:00-4:00      0.108808\n",
       "4:00-5:00      0.285372\n",
       "5:00-6:00      0.146079\n",
       "6:00-7:00      0.091966\n",
       "7:00-8:00      0.193977\n",
       "8:00-9:00      0.146958\n",
       "9:00-10:00     0.067975\n",
       "10:00-11:00    0.057688\n",
       "11:00-12:00    0.058330\n",
       "12:00-13:00    0.059735\n",
       "13:00-14:00    0.056315\n",
       "14:00-15:00    0.063365\n",
       "15:00-16:00    0.087191\n",
       "16:00-17:00    0.075124\n",
       "17:00-18:00    0.097128\n",
       "18:00-19:00    0.073542\n",
       "19:00-20:00    0.059281\n",
       "20:00-21:00    0.067077\n",
       "21:00-22:00    0.080322\n",
       "22:00-23:00    0.099674\n",
       "Name: count, dtype: float64"
      ]
     },
     "execution_count": 262,
     "metadata": {},
     "output_type": "execute_result"
    }
   ],
   "source": [
    "ratio_cancellation_per_hour_20_g"
   ]
  },
  {
   "cell_type": "markdown",
   "id": "8bc9ebe8-d6c4-4133-a7a0-e85827d66fcb",
   "metadata": {},
   "source": [
    "All ratios calculated above give the percentage of orders cancelled out of all orders."
   ]
  },
  {
   "cell_type": "code",
   "execution_count": 264,
   "id": "b3223cf0-64ca-4c6e-9f06-5d69f5e40a78",
   "metadata": {},
   "outputs": [
    {
     "data": {
      "text/plain": [
       "time_interval\n",
       "0:00-1:00      0.089010\n",
       "1:00-2:00      0.070866\n",
       "2:00-3:00      0.099594\n",
       "3:00-4:00      0.112405\n",
       "4:00-5:00      0.066020\n",
       "5:00-6:00      0.078905\n",
       "6:00-7:00      0.087985\n",
       "7:00-8:00      0.101042\n",
       "8:00-9:00      0.085145\n",
       "9:00-10:00     0.080800\n",
       "10:00-11:00    0.092557\n",
       "11:00-12:00    0.078155\n",
       "12:00-13:00    0.089659\n",
       "13:00-14:00    0.086267\n",
       "14:00-15:00    0.079317\n",
       "15:00-16:00    0.074109\n",
       "16:00-17:00    0.081379\n",
       "17:00-18:00    0.082086\n",
       "18:00-19:00    0.084848\n",
       "19:00-20:00    0.088387\n",
       "20:00-21:00    0.094547\n",
       "21:00-22:00    0.076034\n",
       "22:00-23:00    0.087890\n",
       "Name: count, dtype: float64"
      ]
     },
     "execution_count": 264,
     "metadata": {},
     "output_type": "execute_result"
    }
   ],
   "source": [
    "# The treatment effect tells me what the difference is when imposing the 20 dollar cancellation fee. \n",
    "# For the restaurant segment, 4-5 am has the least reduction in cancellations. \n",
    "treatment_effect_r_0_20 = ratio_cancellation_per_hour_0_r - ratio_cancellation_per_hour_20_r\n",
    "treatment_effect_r_0_20"
   ]
  },
  {
   "cell_type": "code",
   "execution_count": 217,
   "id": "c56c4e03-0187-47e6-8c3e-ce75f7ddfda5",
   "metadata": {},
   "outputs": [],
   "source": [
    "# But how much is this impact in relation to the baseline?\n",
    "percentage_change_from_treatment_0_20_r = treatment_effect_r_0_20 / ratio_cancellation_per_hour_0_r"
   ]
  },
  {
   "cell_type": "code",
   "execution_count": 219,
   "id": "cebc760f-ea00-4f72-b7bf-9006e8387cdf",
   "metadata": {},
   "outputs": [
    {
     "data": {
      "text/plain": [
       "time_interval\n",
       "0:00-1:00      0.428482\n",
       "1:00-2:00      0.346190\n",
       "2:00-3:00      0.427858\n",
       "3:00-4:00      0.464750\n",
       "4:00-5:00      0.217036\n",
       "5:00-6:00      0.339692\n",
       "6:00-7:00      0.389412\n",
       "7:00-8:00      0.352698\n",
       "8:00-9:00      0.351515\n",
       "9:00-10:00     0.399334\n",
       "10:00-11:00    0.486205\n",
       "11:00-12:00    0.414540\n",
       "12:00-13:00    0.456035\n",
       "13:00-14:00    0.441220\n",
       "14:00-15:00    0.399409\n",
       "15:00-16:00    0.347498\n",
       "16:00-17:00    0.392357\n",
       "17:00-18:00    0.352050\n",
       "18:00-19:00    0.397335\n",
       "19:00-20:00    0.448954\n",
       "20:00-21:00    0.459033\n",
       "21:00-22:00    0.385706\n",
       "22:00-23:00    0.417891\n",
       "Name: count, dtype: float64"
      ]
     },
     "execution_count": 219,
     "metadata": {},
     "output_type": "execute_result"
    }
   ],
   "source": [
    "percentage_change_from_treatment_0_20_r"
   ]
  },
  {
   "cell_type": "markdown",
   "id": "aba0906a-1cbf-421e-bc7a-0e431bdd4e54",
   "metadata": {},
   "source": [
    "This indicates that the time interval between 4-5 am is least impacted by the cancellation fee between the 0 and 20 dollar penalty groups for the restaurant segment"
   ]
  },
  {
   "cell_type": "code",
   "execution_count": 214,
   "id": "16013504-a902-4835-9e50-f08fe13d827e",
   "metadata": {},
   "outputs": [
    {
     "data": {
      "text/plain": [
       "('4:00-5:00', 0.2124943723182373)"
      ]
     },
     "execution_count": 214,
     "metadata": {},
     "output_type": "execute_result"
    }
   ],
   "source": [
    "percentage_change_from_treatment_0_20_r.idxmin(), percentage_change_from_treatment_0_20_r.min()"
   ]
  },
  {
   "cell_type": "code",
   "execution_count": 222,
   "id": "3454c095-9107-4551-b5e3-6645390c0a5b",
   "metadata": {},
   "outputs": [],
   "source": [
    "treatment_effect_g_0_20 = ratio_cancellation_per_hour_0_g - ratio_cancellation_per_hour_20_g"
   ]
  },
  {
   "cell_type": "code",
   "execution_count": 224,
   "id": "f562963d-6998-4fb4-95dd-41f93b511f40",
   "metadata": {},
   "outputs": [],
   "source": [
    "percentage_change_from_treatment_0_20_g = treatment_effect_g_0_20 / ratio_cancellation_per_hour_0_g"
   ]
  },
  {
   "cell_type": "code",
   "execution_count": 226,
   "id": "b3480a85-4d6b-4421-927b-292eea55aad7",
   "metadata": {},
   "outputs": [
    {
     "data": {
      "text/plain": [
       "time_interval\n",
       "0:00-1:00      0.479256\n",
       "1:00-2:00      0.428470\n",
       "2:00-3:00      0.431150\n",
       "3:00-4:00      0.458605\n",
       "4:00-5:00      0.212494\n",
       "5:00-6:00      0.293624\n",
       "6:00-7:00      0.488312\n",
       "7:00-8:00      0.291696\n",
       "8:00-9:00      0.365163\n",
       "9:00-10:00     0.576627\n",
       "10:00-11:00    0.614011\n",
       "11:00-12:00    0.617210\n",
       "12:00-13:00    0.614847\n",
       "13:00-14:00    0.628448\n",
       "14:00-15:00    0.580984\n",
       "15:00-16:00    0.510457\n",
       "16:00-17:00    0.538803\n",
       "17:00-18:00    0.489822\n",
       "18:00-19:00    0.537933\n",
       "19:00-20:00    0.589475\n",
       "20:00-21:00    0.576534\n",
       "21:00-22:00    0.532475\n",
       "22:00-23:00    0.463844\n",
       "Name: count, dtype: float64"
      ]
     },
     "execution_count": 226,
     "metadata": {},
     "output_type": "execute_result"
    }
   ],
   "source": [
    "percentage_change_from_treatment_0_20_g"
   ]
  },
  {
   "cell_type": "code",
   "execution_count": 228,
   "id": "fc63e344-13be-4fbf-a4da-86de6dc13c4c",
   "metadata": {},
   "outputs": [
    {
     "data": {
      "text/plain": [
       "('4:00-5:00', 0.2124943723182373)"
      ]
     },
     "execution_count": 228,
     "metadata": {},
     "output_type": "execute_result"
    }
   ],
   "source": [
    "percentage_change_from_treatment_0_20_g.idxmin(), percentage_change_from_treatment_0_20_g.min()"
   ]
  },
  {
   "cell_type": "markdown",
   "id": "ff5e8c80-8416-4df7-a9ec-eb0e2fc8de87",
   "metadata": {},
   "source": [
    "The penalty fee of 20 dollars has the lowest impact on those grocery deliveries being cancelled between 4:00-5:00."
   ]
  },
  {
   "cell_type": "code",
   "execution_count": 244,
   "id": "40d69c64-916c-42cb-9ec2-208e6c860257",
   "metadata": {},
   "outputs": [],
   "source": [
    "# Do it for 0 and 10 group in grocery\n",
    "treatment_effect_g_0_10 = ratio_cancellation_per_hour_0_g - ratio_cancellation_per_hour_10_g\n",
    "percentage_change_from_treatment_0_10_g = treatment_effect_g_0_10 / ratio_cancellation_per_hour_10_g\n",
    "# Do it for 10 and 20 group in grocery\n",
    "treatment_effect_g_10_20 = ratio_cancellation_per_hour_10_g - ratio_cancellation_per_hour_20_g\n",
    "percentage_change_from_treatment_10_20_g = treatment_effect_g_10_20 / ratio_cancellation_per_hour_10_g\n",
    "# Do it for both 0 and 10 group and 10 and 20 group in restaurant\n",
    "treatment_effect_r_0_10 = ratio_cancellation_per_hour_0_r - ratio_cancellation_per_hour_10_r\n",
    "percentage_change_from_treatment_0_10_r = treatment_effect_r_0_10 / ratio_cancellation_per_hour_0_r\n",
    "treatment_effect_r_10_20 = ratio_cancellation_per_hour_10_r - ratio_cancellation_per_hour_20_r\n",
    "percentage_change_from_treatment_10_20_r = treatment_effect_r_10_20 / ratio_cancellation_per_hour_10_r"
   ]
  },
  {
   "cell_type": "markdown",
   "id": "c1968db4-9b0e-4412-9987-f2cbe5efd71e",
   "metadata": {},
   "source": [
    "For cancellation rates in an hourly time interval from 0:00 to 23:59, separated by each segment, the times between 4-5 am are impacted the LEAST by imposing the penalty fee, EXCEPT for the restaurant segment between the 0 and 10 dollar penalty groups. \n",
    "\n",
    "Is there something that can be done in this specific time interval?"
   ]
  },
  {
   "cell_type": "code",
   "execution_count": null,
   "id": "db56b249-3d4f-409d-b041-852d74f22597",
   "metadata": {},
   "outputs": [],
   "source": []
  }
 ],
 "metadata": {
  "kernelspec": {
   "display_name": "Python 3 (ipykernel)",
   "language": "python",
   "name": "python3"
  },
  "language_info": {
   "codemirror_mode": {
    "name": "ipython",
    "version": 3
   },
   "file_extension": ".py",
   "mimetype": "text/x-python",
   "name": "python",
   "nbconvert_exporter": "python",
   "pygments_lexer": "ipython3",
   "version": "3.12.4"
  }
 },
 "nbformat": 4,
 "nbformat_minor": 5
}
