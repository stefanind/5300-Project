{
 "cells": [
  {
   "cell_type": "code",
   "execution_count": null,
   "metadata": {},
   "outputs": [],
   "source": [
    "import pandas as pd\n",
    "import numpy as np\n",
    "import matplotlib.pyplot as plt\n",
    "import seaborn as sns"
   ]
  },
  {
   "cell_type": "code",
   "execution_count": null,
   "metadata": {},
   "outputs": [],
   "source": [
    "# Read the CSV file\n",
    "file_with_pvals = 'test_results.csv'\n",
    "df = pd.read_csv(file_with_pvals)\n",
    "\n",
    "# Display the first few rows of the dataframe\n",
    "print(df.head())"
   ]
  },
  {
   "cell_type": "code",
   "execution_count": null,
   "metadata": {},
   "outputs": [],
   "source": [
    "# Extract columns of interest and the index\n",
    "testname_column = ''\n",
    "pval_column = ''\n",
    "test_names = df[testname_column].values\n",
    "p_values = df[pval_column].values\n",
    "indices = df.index.values"
   ]
  },
  {
   "cell_type": "code",
   "execution_count": null,
   "metadata": {},
   "outputs": [],
   "source": [
    "# Sort by p-values\n",
    "sort_indices = np.argsort(p_values)\n",
    "sorted_p_values = p_values[sort_indices]\n",
    "sorted_test_names = test_names[sort_indices]\n",
    "dataframe_indices = indices[sort_indices]"
   ]
  },
  {
   "cell_type": "code",
   "execution_count": null,
   "metadata": {},
   "outputs": [],
   "source": [
    "# Specify alpha\n",
    "alpha = 0.05\n",
    "\n",
    "# Find largest j\n",
    "j = 0\n",
    "n = len(sorted_p_values)\n",
    "sorted_pvals = np.sort(sorted_p_values)\n",
    "threshold = (np.arange(1, n+1) / n) * alpha\n",
    "below_threshold = sorted_p_values < threshold\n",
    "if any(below_threshold):\n",
    "    max_j = np.where(below_threshold)[0][-1]\n",
    "    j = max_j + 1  # because index starts at 0\n",
    "\n",
    "# Determine which hypotheses to reject\n",
    "rejected = np.zeros(len(p_values), dtype=bool)\n",
    "if j > 0:\n",
    "    rejected[sort_indices[:j]] = True"
   ]
  },
  {
   "cell_type": "code",
   "execution_count": null,
   "metadata": {},
   "outputs": [],
   "source": [
    "# Add the 'rejected' column to the dataframe\n",
    "df['rejected'] = rejected\n",
    "\n",
    "# Output the dataframe to a new CSV file\n",
    "df.to_csv('benj_hoch_results.csv', index=False)"
   ]
  },
  {
   "cell_type": "code",
   "execution_count": null,
   "metadata": {},
   "outputs": [],
   "source": [
    "# Create the plot\n",
    "plt.figure(figsize=(10, 6))\n",
    "x = np.arange(1, len(sorted_p_values) + 1)\n",
    "\n",
    "# Plot the p-values\n",
    "sns.scatterplot(x=x, y=sorted_p_values, hue=rejected, palette={True: 'red', False: 'blue'}, legend=False)\n",
    "\n",
    "# Plot the line (j/n)*alpha\n",
    "plt.plot(x, (x/len(sorted_p_values))*alpha, color='green', linestyle='dashed', label='(j/n)*alpha')\n",
    "\n",
    "plt.title('Results of Benjamini-Hochberg Procedure')\n",
    "plt.xlabel('Tests')\n",
    "plt.ylabel('p-value')\n",
    "plt.yscale('log')\n",
    "plt.gca().yaxis.set_major_formatter(plt.ScalarFormatter())\n",
    "plt.gca().xaxis.set_ticklabels([])  # Remove x-axis tick labels\n",
    "plt.legend()\n",
    "plt.show()"
   ]
  }
 ],
 "metadata": {
  "kernelspec": {
   "display_name": "data_5300_project",
   "language": "python",
   "name": "python3"
  },
  "language_info": {
   "name": "python",
   "version": "3.12.7"
  }
 },
 "nbformat": 4,
 "nbformat_minor": 2
}
